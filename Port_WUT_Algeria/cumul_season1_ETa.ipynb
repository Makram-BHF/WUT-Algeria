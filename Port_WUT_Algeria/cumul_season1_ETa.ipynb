{
 "cells": [
  {
   "cell_type": "code",
   "execution_count": 2,
   "id": "c92feec1-a7a8-4b31-964c-5fef0f428350",
   "metadata": {
    "scrolled": true
   },
   "outputs": [
    {
     "name": "stderr",
     "output_type": "stream",
     "text": [
      "/home/karim/miniconda3/lib/python3.12/site-packages/numpy/core/numeric.py:330: RuntimeWarning: invalid value encountered in cast\n",
      "  multiarray.copyto(a, fill_value, casting='unsafe')\n"
     ]
    },
    {
     "name": "stdout",
     "output_type": "stream",
     "text": [
      "Total ETA For This Segment  307  =  328.0\n",
      "Total ETA For This Segment  308  =  139.0\n",
      "Total ETA For This Segment  309  =  192.0\n",
      "Total ETA For This Segment  310  =  161.0\n",
      "Total ETA For This Segment  311  =  102.0\n",
      "Total ETA For This Segment  312  =  176.0\n",
      "Total ETA For This Segment  313  =  187.0\n",
      "Total ETA For This Segment  314  =  39.0\n",
      "Total ETA For This Segment  315  =  66.0\n",
      "Total ETA For This Segment  316  =  48.0\n",
      "Total ETA For This Segment  317  =  169.0\n",
      "Total ETA For This Segment  318  =  63.0\n",
      "Total ETA For This Segment  319  =  165.0\n",
      "Total ETA For This Segment  320  =  47.0\n",
      "Total ETA For This Segment  321  =  67.0\n",
      "Total ETA For This Segment  322  =  366.0\n",
      "Total ETA For This Segment  323  =  386.0\n",
      "Total ETA For This Segment  324  =  243.0\n",
      "Total ETA For This Segment  325  =  383.0\n",
      "Total ETA For This Segment  326  =  481.0\n",
      "Total ETA For This Segment  327  =  473.0\n",
      "Total ETA For This Segment  328  =  519.0\n",
      "Total ETA For This Segment  329  =  459.0\n",
      "Total ETA For This Segment  330  =  432.0\n",
      "Total ETA For This Segment  331  =  48.0\n",
      "Total ETA For This Segment  332  =  195.0\n",
      "Total ETA For This Segment  333  =  404.0\n",
      "Total ETA For This Segment  334  =  346.0\n",
      "Total ETA For This Segment  335  =  373.0\n",
      "Total ETA For This Segment  336  =  166.0\n",
      "Total ETA For This Segment  337  =  102.0\n",
      "Total ETA For This Segment  338  =  188.0\n",
      "Total ETA For This Segment  339  =  267.0\n",
      "Total ETA For This Segment  340  =  189.0\n",
      "Total ETA For This Segment  341  =  322.0\n",
      "Total ETA For This Segment  342  =  257.0\n",
      "Total ETA For This Segment  343  =  510.0\n",
      "Total ETA For This Segment  344  =  265.0\n",
      "Total ETA For This Segment  345  =  252.0\n",
      "Total ETA For This Segment  346  =  386.0\n",
      "Total ETA For This Segment  347  =  285.0\n",
      "Total ETA For This Segment  348  =  76.0\n",
      "Total ETA For This Segment  349  =  69.0\n",
      "Total ETA For This Segment  350  =  282.0\n",
      "Total ETA For This Segment  351  =  142.0\n",
      "Total ETA For This Segment  352  =  202.0\n",
      "Total ETA For This Segment  353  =  65.0\n",
      "Total ETA For This Segment  354  =  309.0\n",
      "Total ETA For This Segment  355  =  242.0\n",
      "Total ETA For This Segment  664  =  208.0\n",
      "Total ETA For This Segment  665  =  262.0\n",
      "Total ETA For This Segment  666  =  124.0\n",
      "Total ETA For This Segment  667  =  106.0\n",
      "Total ETA For This Segment  668  =  207.0\n",
      "Total ETA For This Segment  669  =  142.0\n",
      "Total ETA For This Segment  670  =  14.0\n",
      "Total ETA For This Segment  671  =  222.0\n",
      "Total ETA For This Segment  672  =  90.0\n",
      "Total ETA For This Segment  673  =  104.0\n",
      "Total ETA For This Segment  676  =  211.0\n",
      "Total ETA For This Segment  677  =  337.0\n",
      "Total ETA For This Segment  678  =  483.0\n",
      "Total ETA For This Segment  679  =  525.0\n",
      "Total ETA For This Segment  680  =  333.0\n",
      "Total ETA For This Segment  681  =  241.0\n",
      "Total ETA For This Segment  682  =  65.0\n",
      "Total ETA For This Segment  683  =  338.0\n",
      "Total ETA For This Segment  684  =  366.0\n",
      "Total ETA For This Segment  685  =  415.0\n",
      "Total ETA For This Segment  686  =  186.0\n",
      "Total ETA For This Segment  687  =  491.0\n",
      "Total ETA For This Segment  688  =  404.0\n",
      "Total ETA For This Segment  689  =  392.0\n",
      "Total ETA For This Segment  690  =  247.0\n",
      "Total ETA For This Segment  691  =  150.0\n",
      "Total ETA For This Segment  692  =  177.0\n",
      "Total ETA For This Segment  693  =  263.0\n",
      "Total ETA For This Segment  694  =  160.0\n",
      "Total ETA For This Segment  695  =  299.0\n",
      "Total ETA For This Segment  696  =  346.0\n",
      "Total ETA For This Segment  697  =  545.0\n",
      "Total ETA For This Segment  698  =  523.0\n",
      "Total ETA For This Segment  699  =  198.0\n",
      "Total ETA For This Segment  700  =  273.0\n",
      "Total ETA For This Segment  701  =  447.0\n",
      "Total ETA For This Segment  702  =  213.0\n",
      "Total ETA For This Segment  703  =  238.0\n",
      "Total ETA For This Segment  704  =  177.0\n",
      "Total ETA For This Segment  705  =  398.0\n",
      "Total ETA For This Segment  706  =  404.0\n",
      "Total ETA For This Segment  707  =  354.0\n",
      "Total ETA For This Segment  708  =  302.0\n",
      "Total ETA For This Segment  709  =  319.0\n"
     ]
    },
    {
     "name": "stderr",
     "output_type": "stream",
     "text": [
      "/tmp/ipykernel_4549/2500732777.py:76: RuntimeWarning: invalid value encountered in cast\n",
      "  start_array[idx] = np.asarray(segment_values1[0])\n",
      "/tmp/ipykernel_4549/2500732777.py:82: RuntimeWarning: invalid value encountered in cast\n",
      "  end_array[idx] = np.asarray(segment_values2[0])\n"
     ]
    },
    {
     "name": "stdout",
     "output_type": "stream",
     "text": [
      "Total ETA For This Segment  711  =  423.0\n",
      "Total ETA For This Segment  712  =  168.0\n",
      "Total ETA For This Segment  713  =  277.0\n"
     ]
    },
    {
     "name": "stderr",
     "output_type": "stream",
     "text": [
      "/tmp/ipykernel_4549/2500732777.py:76: RuntimeWarning: invalid value encountered in cast\n",
      "  start_array[idx] = np.asarray(segment_values1[0])\n",
      "/tmp/ipykernel_4549/2500732777.py:82: RuntimeWarning: invalid value encountered in cast\n",
      "  end_array[idx] = np.asarray(segment_values2[0])\n",
      "/tmp/ipykernel_4549/2500732777.py:76: RuntimeWarning: invalid value encountered in cast\n",
      "  start_array[idx] = np.asarray(segment_values1[0])\n",
      "/tmp/ipykernel_4549/2500732777.py:82: RuntimeWarning: invalid value encountered in cast\n",
      "  end_array[idx] = np.asarray(segment_values2[0])\n"
     ]
    },
    {
     "name": "stdout",
     "output_type": "stream",
     "text": [
      "Total ETA For This Segment  716  =  111.0\n",
      "Total ETA For This Segment  717  =  209.0\n",
      "Total ETA For This Segment  1028  =  265.0\n",
      "Total ETA For This Segment  1029  =  248.0\n",
      "Total ETA For This Segment  1030  =  173.0\n",
      "Total ETA For This Segment  1031  =  246.0\n",
      "Total ETA For This Segment  1032  =  65.0\n",
      "Total ETA For This Segment  1033  =  62.0\n",
      "Total ETA For This Segment  1034  =  332.0\n",
      "Total ETA For This Segment  1035  =  432.0\n",
      "Total ETA For This Segment  1036  =  101.0\n",
      "Total ETA For This Segment  1037  =  340.0\n",
      "Total ETA For This Segment  1038  =  215.0\n",
      "Total ETA For This Segment  1039  =  402.0\n",
      "Total ETA For This Segment  1040  =  293.0\n",
      "Total ETA For This Segment  1041  =  291.0\n",
      "Total ETA For This Segment  1042  =  321.0\n",
      "Total ETA For This Segment  1043  =  337.0\n",
      "Total ETA For This Segment  1044  =  328.0\n",
      "Total ETA For This Segment  1045  =  489.0\n",
      "Total ETA For This Segment  1046  =  361.0\n",
      "Total ETA For This Segment  1047  =  335.0\n",
      "Total ETA For This Segment  1048  =  312.0\n",
      "Total ETA For This Segment  1049  =  150.0\n",
      "Total ETA For This Segment  1050  =  195.0\n",
      "Total ETA For This Segment  1051  =  219.0\n",
      "Total ETA For This Segment  1052  =  155.0\n",
      "Total ETA For This Segment  1053  =  350.0\n",
      "Total ETA For This Segment  1054  =  219.0\n",
      "Total ETA For This Segment  1055  =  285.0\n",
      "Total ETA For This Segment  1056  =  409.0\n",
      "Total ETA For This Segment  1057  =  248.0\n",
      "Total ETA For This Segment  1058  =  320.0\n",
      "Total ETA For This Segment  1059  =  374.0\n",
      "Total ETA For This Segment  1060  =  237.0\n",
      "Total ETA For This Segment  1061  =  475.0\n",
      "Total ETA For This Segment  1062  =  457.0\n",
      "Total ETA For This Segment  1063  =  392.0\n",
      "Total ETA For This Segment  1064  =  417.0\n",
      "Total ETA For This Segment  1065  =  387.0\n",
      "Total ETA For This Segment  1066  =  196.0\n",
      "Total ETA For This Segment  1067  =  82.0\n",
      "Total ETA For This Segment  1068  =  164.0\n",
      "Total ETA For This Segment  1069  =  412.0\n"
     ]
    },
    {
     "name": "stderr",
     "output_type": "stream",
     "text": [
      "/tmp/ipykernel_4549/2500732777.py:76: RuntimeWarning: invalid value encountered in cast\n",
      "  start_array[idx] = np.asarray(segment_values1[0])\n",
      "/tmp/ipykernel_4549/2500732777.py:82: RuntimeWarning: invalid value encountered in cast\n",
      "  end_array[idx] = np.asarray(segment_values2[0])\n"
     ]
    },
    {
     "name": "stdout",
     "output_type": "stream",
     "text": [
      "Total ETA For This Segment  1071  =  287.0\n"
     ]
    },
    {
     "name": "stderr",
     "output_type": "stream",
     "text": [
      "/tmp/ipykernel_4549/2500732777.py:76: RuntimeWarning: invalid value encountered in cast\n",
      "  start_array[idx] = np.asarray(segment_values1[0])\n",
      "/tmp/ipykernel_4549/2500732777.py:82: RuntimeWarning: invalid value encountered in cast\n",
      "  end_array[idx] = np.asarray(segment_values2[0])\n"
     ]
    },
    {
     "name": "stdout",
     "output_type": "stream",
     "text": [
      "Total ETA For This Segment  1073  =  371.0\n",
      "Total ETA For This Segment  1074  =  262.0\n",
      "Total ETA For This Segment  1075  =  404.0\n"
     ]
    },
    {
     "name": "stderr",
     "output_type": "stream",
     "text": [
      "/tmp/ipykernel_4549/2500732777.py:76: RuntimeWarning: invalid value encountered in cast\n",
      "  start_array[idx] = np.asarray(segment_values1[0])\n",
      "/tmp/ipykernel_4549/2500732777.py:82: RuntimeWarning: invalid value encountered in cast\n",
      "  end_array[idx] = np.asarray(segment_values2[0])\n"
     ]
    },
    {
     "name": "stdout",
     "output_type": "stream",
     "text": [
      "Total ETA For This Segment  1077  =  189.0\n"
     ]
    },
    {
     "name": "stderr",
     "output_type": "stream",
     "text": [
      "/tmp/ipykernel_4549/2500732777.py:76: RuntimeWarning: invalid value encountered in cast\n",
      "  start_array[idx] = np.asarray(segment_values1[0])\n",
      "/tmp/ipykernel_4549/2500732777.py:82: RuntimeWarning: invalid value encountered in cast\n",
      "  end_array[idx] = np.asarray(segment_values2[0])\n",
      "/tmp/ipykernel_4549/2500732777.py:76: RuntimeWarning: invalid value encountered in cast\n",
      "  start_array[idx] = np.asarray(segment_values1[0])\n",
      "/tmp/ipykernel_4549/2500732777.py:82: RuntimeWarning: invalid value encountered in cast\n",
      "  end_array[idx] = np.asarray(segment_values2[0])\n",
      "/tmp/ipykernel_4549/2500732777.py:76: RuntimeWarning: invalid value encountered in cast\n",
      "  start_array[idx] = np.asarray(segment_values1[0])\n",
      "/tmp/ipykernel_4549/2500732777.py:82: RuntimeWarning: invalid value encountered in cast\n",
      "  end_array[idx] = np.asarray(segment_values2[0])\n"
     ]
    },
    {
     "name": "stdout",
     "output_type": "stream",
     "text": [
      "Total ETA For This Segment  1392  =  134.0\n"
     ]
    },
    {
     "name": "stderr",
     "output_type": "stream",
     "text": [
      "/tmp/ipykernel_4549/2500732777.py:76: RuntimeWarning: invalid value encountered in cast\n",
      "  start_array[idx] = np.asarray(segment_values1[0])\n",
      "/tmp/ipykernel_4549/2500732777.py:82: RuntimeWarning: invalid value encountered in cast\n",
      "  end_array[idx] = np.asarray(segment_values2[0])\n"
     ]
    },
    {
     "name": "stdout",
     "output_type": "stream",
     "text": [
      "Total ETA For This Segment  1394  =  41.0\n",
      "Total ETA For This Segment  1395  =  227.0\n",
      "Total ETA For This Segment  1396  =  441.0\n",
      "Total ETA For This Segment  1397  =  315.0\n",
      "Total ETA For This Segment  1398  =  272.0\n",
      "Total ETA For This Segment  1399  =  455.0\n",
      "Total ETA For This Segment  1400  =  285.0\n",
      "Total ETA For This Segment  1401  =  368.0\n",
      "Total ETA For This Segment  1402  =  404.0\n",
      "Total ETA For This Segment  1403  =  240.0\n",
      "Total ETA For This Segment  1404  =  421.0\n",
      "Total ETA For This Segment  1405  =  371.0\n",
      "Total ETA For This Segment  1406  =  280.0\n",
      "Total ETA For This Segment  1407  =  209.0\n",
      "Total ETA For This Segment  1408  =  181.0\n",
      "Total ETA For This Segment  1409  =  190.0\n",
      "Total ETA For This Segment  1410  =  179.0\n",
      "Total ETA For This Segment  1411  =  204.0\n",
      "Total ETA For This Segment  1412  =  370.0\n",
      "Total ETA For This Segment  1413  =  465.0\n",
      "Total ETA For This Segment  1414  =  59.0\n",
      "Total ETA For This Segment  1415  =  445.0\n",
      "Total ETA For This Segment  1416  =  452.0\n",
      "Total ETA For This Segment  1417  =  424.0\n",
      "Total ETA For This Segment  1418  =  91.0\n",
      "Total ETA For This Segment  1419  =  431.0\n",
      "Total ETA For This Segment  1420  =  46.0\n",
      "Total ETA For This Segment  1421  =  43.0\n",
      "Total ETA For This Segment  1422  =  410.0\n",
      "Total ETA For This Segment  1423  =  311.0\n",
      "Total ETA For This Segment  1424  =  310.0\n",
      "Total ETA For This Segment  1425  =  175.0\n",
      "Total ETA For This Segment  1426  =  302.0\n",
      "Total ETA For This Segment  1427  =  60.0\n"
     ]
    },
    {
     "name": "stderr",
     "output_type": "stream",
     "text": [
      "/tmp/ipykernel_4549/2500732777.py:76: RuntimeWarning: invalid value encountered in cast\n",
      "  start_array[idx] = np.asarray(segment_values1[0])\n",
      "/tmp/ipykernel_4549/2500732777.py:82: RuntimeWarning: invalid value encountered in cast\n",
      "  end_array[idx] = np.asarray(segment_values2[0])\n"
     ]
    },
    {
     "name": "stdout",
     "output_type": "stream",
     "text": [
      "Total ETA For This Segment  1429  =  94.0\n",
      "Total ETA For This Segment  1430  =  305.0\n",
      "Total ETA For This Segment  1431  =  214.0\n",
      "Total ETA For This Segment  1432  =  256.0\n",
      "Total ETA For This Segment  1433  =  209.0\n",
      "Total ETA For This Segment  1434  =  85.0\n",
      "Total ETA For This Segment  1435  =  237.0\n"
     ]
    },
    {
     "name": "stderr",
     "output_type": "stream",
     "text": [
      "/tmp/ipykernel_4549/2500732777.py:76: RuntimeWarning: invalid value encountered in cast\n",
      "  start_array[idx] = np.asarray(segment_values1[0])\n",
      "/tmp/ipykernel_4549/2500732777.py:82: RuntimeWarning: invalid value encountered in cast\n",
      "  end_array[idx] = np.asarray(segment_values2[0])\n",
      "/tmp/ipykernel_4549/2500732777.py:76: RuntimeWarning: invalid value encountered in cast\n",
      "  start_array[idx] = np.asarray(segment_values1[0])\n",
      "/tmp/ipykernel_4549/2500732777.py:82: RuntimeWarning: invalid value encountered in cast\n",
      "  end_array[idx] = np.asarray(segment_values2[0])\n"
     ]
    },
    {
     "name": "stdout",
     "output_type": "stream",
     "text": [
      "Total ETA For This Segment  1438  =  312.0\n",
      "Total ETA For This Segment  1439  =  331.0\n",
      "Total ETA For This Segment  1748  =  415.0\n",
      "Total ETA For This Segment  1749  =  288.0\n",
      "Total ETA For This Segment  1750  =  299.0\n",
      "Total ETA For This Segment  1751  =  375.0\n",
      "Total ETA For This Segment  1752  =  205.0\n",
      "Total ETA For This Segment  1753  =  91.0\n",
      "Total ETA For This Segment  1754  =  295.0\n",
      "Total ETA For This Segment  1755  =  326.0\n",
      "Total ETA For This Segment  1756  =  306.0\n",
      "Total ETA For This Segment  1757  =  254.0\n",
      "Total ETA For This Segment  1758  =  385.0\n",
      "Total ETA For This Segment  1759  =  286.0\n",
      "Total ETA For This Segment  1760  =  332.0\n",
      "Total ETA For This Segment  1761  =  259.0\n",
      "Total ETA For This Segment  1762  =  389.0\n",
      "Total ETA For This Segment  1763  =  391.0\n",
      "Total ETA For This Segment  1764  =  513.0\n",
      "Total ETA For This Segment  1765  =  421.0\n",
      "Total ETA For This Segment  1766  =  123.0\n",
      "Total ETA For This Segment  1767  =  189.0\n",
      "Total ETA For This Segment  1768  =  346.0\n",
      "Total ETA For This Segment  1769  =  354.0\n",
      "Total ETA For This Segment  1770  =  489.0\n",
      "Total ETA For This Segment  1771  =  392.0\n",
      "Total ETA For This Segment  1772  =  274.0\n",
      "Total ETA For This Segment  1773  =  106.0\n",
      "Total ETA For This Segment  1774  =  212.0\n",
      "Total ETA For This Segment  1775  =  175.0\n",
      "Total ETA For This Segment  1776  =  251.0\n",
      "Total ETA For This Segment  1777  =  438.0\n",
      "Total ETA For This Segment  1778  =  231.0\n",
      "Total ETA For This Segment  1779  =  193.0\n",
      "Total ETA For This Segment  1781  =  209.0\n",
      "Total ETA For This Segment  1782  =  255.0\n",
      "Total ETA For This Segment  1783  =  261.0\n",
      "Total ETA For This Segment  1784  =  412.0\n",
      "Total ETA For This Segment  1785  =  359.0\n",
      "Total ETA For This Segment  1786  =  317.0\n",
      "Total ETA For This Segment  1787  =  150.0\n",
      "Total ETA For This Segment  1788  =  146.0\n"
     ]
    },
    {
     "name": "stderr",
     "output_type": "stream",
     "text": [
      "/tmp/ipykernel_4549/2500732777.py:76: RuntimeWarning: invalid value encountered in cast\n",
      "  start_array[idx] = np.asarray(segment_values1[0])\n",
      "/tmp/ipykernel_4549/2500732777.py:82: RuntimeWarning: invalid value encountered in cast\n",
      "  end_array[idx] = np.asarray(segment_values2[0])\n",
      "/tmp/ipykernel_4549/2500732777.py:76: RuntimeWarning: invalid value encountered in cast\n",
      "  start_array[idx] = np.asarray(segment_values1[0])\n",
      "/tmp/ipykernel_4549/2500732777.py:82: RuntimeWarning: invalid value encountered in cast\n",
      "  end_array[idx] = np.asarray(segment_values2[0])\n"
     ]
    },
    {
     "name": "stdout",
     "output_type": "stream",
     "text": [
      "Total ETA For This Segment  1791  =  363.0\n",
      "Total ETA For This Segment  1792  =  273.0\n",
      "Total ETA For This Segment  1793  =  152.0\n",
      "Total ETA For This Segment  1794  =  409.0\n"
     ]
    },
    {
     "name": "stderr",
     "output_type": "stream",
     "text": [
      "/tmp/ipykernel_4549/2500732777.py:76: RuntimeWarning: invalid value encountered in cast\n",
      "  start_array[idx] = np.asarray(segment_values1[0])\n",
      "/tmp/ipykernel_4549/2500732777.py:82: RuntimeWarning: invalid value encountered in cast\n",
      "  end_array[idx] = np.asarray(segment_values2[0])\n"
     ]
    },
    {
     "name": "stdout",
     "output_type": "stream",
     "text": [
      "Total ETA For This Segment  1796  =  263.0\n",
      "Total ETA For This Segment  1797  =  232.0\n",
      "Total ETA For This Segment  1798  =  278.0\n",
      "Total ETA For This Segment  1799  =  341.0\n",
      "Total ETA For This Segment  1800  =  261.0\n",
      "Total ETA For This Segment  1802  =  238.0\n",
      "Total ETA For This Segment  1803  =  257.0\n",
      "Total ETA For This Segment  1804  =  414.0\n"
     ]
    },
    {
     "name": "stderr",
     "output_type": "stream",
     "text": [
      "/tmp/ipykernel_4549/2500732777.py:76: RuntimeWarning: invalid value encountered in cast\n",
      "  start_array[idx] = np.asarray(segment_values1[0])\n",
      "/tmp/ipykernel_4549/2500732777.py:82: RuntimeWarning: invalid value encountered in cast\n",
      "  end_array[idx] = np.asarray(segment_values2[0])\n"
     ]
    },
    {
     "name": "stdout",
     "output_type": "stream",
     "text": [
      "Total ETA For This Segment  2110  =  231.0\n",
      "Total ETA For This Segment  2111  =  140.0\n",
      "Total ETA For This Segment  2112  =  139.0\n",
      "Total ETA For This Segment  2113  =  285.0\n",
      "Total ETA For This Segment  2114  =  140.0\n",
      "Total ETA For This Segment  2115  =  173.0\n",
      "Total ETA For This Segment  2116  =  265.0\n",
      "Total ETA For This Segment  2117  =  172.0\n",
      "Total ETA For This Segment  2118  =  388.0\n",
      "Total ETA For This Segment  2119  =  442.0\n",
      "Total ETA For This Segment  2120  =  460.0\n",
      "Total ETA For This Segment  2121  =  542.0\n",
      "Total ETA For This Segment  2122  =  528.0\n",
      "Total ETA For This Segment  2123  =  481.0\n",
      "Total ETA For This Segment  2124  =  492.0\n",
      "Total ETA For This Segment  2125  =  439.0\n",
      "Total ETA For This Segment  2126  =  306.0\n",
      "Total ETA For This Segment  2127  =  346.0\n",
      "Total ETA For This Segment  2128  =  165.0\n",
      "Total ETA For This Segment  2129  =  160.0\n",
      "Total ETA For This Segment  2130  =  257.0\n",
      "Total ETA For This Segment  2131  =  380.0\n",
      "Total ETA For This Segment  2132  =  267.0\n",
      "Total ETA For This Segment  2133  =  292.0\n",
      "Total ETA For This Segment  2134  =  396.0\n",
      "Total ETA For This Segment  2135  =  400.0\n"
     ]
    },
    {
     "name": "stderr",
     "output_type": "stream",
     "text": [
      "/tmp/ipykernel_4549/2500732777.py:76: RuntimeWarning: invalid value encountered in cast\n",
      "  start_array[idx] = np.asarray(segment_values1[0])\n",
      "/tmp/ipykernel_4549/2500732777.py:82: RuntimeWarning: invalid value encountered in cast\n",
      "  end_array[idx] = np.asarray(segment_values2[0])\n"
     ]
    },
    {
     "name": "stdout",
     "output_type": "stream",
     "text": [
      "Total ETA For This Segment  2138  =  338.0\n",
      "Total ETA For This Segment  2139  =  330.0\n",
      "Total ETA For This Segment  2140  =  283.0\n",
      "Total ETA For This Segment  2141  =  325.0\n",
      "Total ETA For This Segment  2142  =  256.0\n",
      "Total ETA For This Segment  2143  =  154.0\n",
      "Total ETA For This Segment  2144  =  395.0\n",
      "Total ETA For This Segment  2145  =  139.0\n",
      "Total ETA For This Segment  2146  =  418.0\n",
      "Total ETA For This Segment  2147  =  388.0\n",
      "Total ETA For This Segment  2148  =  401.0\n"
     ]
    },
    {
     "name": "stderr",
     "output_type": "stream",
     "text": [
      "/tmp/ipykernel_4549/2500732777.py:76: RuntimeWarning: invalid value encountered in cast\n",
      "  start_array[idx] = np.asarray(segment_values1[0])\n",
      "/tmp/ipykernel_4549/2500732777.py:82: RuntimeWarning: invalid value encountered in cast\n",
      "  end_array[idx] = np.asarray(segment_values2[0])\n",
      "/tmp/ipykernel_4549/2500732777.py:76: RuntimeWarning: invalid value encountered in cast\n",
      "  start_array[idx] = np.asarray(segment_values1[0])\n",
      "/tmp/ipykernel_4549/2500732777.py:82: RuntimeWarning: invalid value encountered in cast\n",
      "  end_array[idx] = np.asarray(segment_values2[0])\n"
     ]
    },
    {
     "name": "stdout",
     "output_type": "stream",
     "text": [
      "Total ETA For This Segment  2151  =  301.0\n",
      "Total ETA For This Segment  2152  =  210.0\n"
     ]
    },
    {
     "name": "stderr",
     "output_type": "stream",
     "text": [
      "/tmp/ipykernel_4549/2500732777.py:76: RuntimeWarning: invalid value encountered in cast\n",
      "  start_array[idx] = np.asarray(segment_values1[0])\n",
      "/tmp/ipykernel_4549/2500732777.py:82: RuntimeWarning: invalid value encountered in cast\n",
      "  end_array[idx] = np.asarray(segment_values2[0])\n",
      "/tmp/ipykernel_4549/2500732777.py:76: RuntimeWarning: invalid value encountered in cast\n",
      "  start_array[idx] = np.asarray(segment_values1[0])\n",
      "/tmp/ipykernel_4549/2500732777.py:82: RuntimeWarning: invalid value encountered in cast\n",
      "  end_array[idx] = np.asarray(segment_values2[0])\n"
     ]
    },
    {
     "name": "stdout",
     "output_type": "stream",
     "text": [
      "Total ETA For This Segment  2155  =  125.0\n",
      "Total ETA For This Segment  2156  =  68.0\n",
      "Total ETA For This Segment  2157  =  404.0\n",
      "Total ETA For This Segment  2159  =  410.0\n",
      "Total ETA For This Segment  2160  =  109.0\n",
      "Total ETA For This Segment  2161  =  359.0\n",
      "Total ETA For This Segment  2162  =  162.0\n",
      "Total ETA For This Segment  2163  =  76.0\n",
      "Total ETA For This Segment  2164  =  381.0\n",
      "Total ETA For This Segment  2165  =  173.0\n",
      "Total ETA For This Segment  2166  =  213.0\n",
      "Total ETA For This Segment  2466  =  380.0\n",
      "Total ETA For This Segment  2467  =  271.0\n",
      "Total ETA For This Segment  2468  =  257.0\n",
      "Total ETA For This Segment  2469  =  349.0\n",
      "Total ETA For This Segment  2470  =  407.0\n",
      "Total ETA For This Segment  2471  =  189.0\n",
      "Total ETA For This Segment  2472  =  298.0\n",
      "Total ETA For This Segment  2473  =  282.0\n",
      "Total ETA For This Segment  2474  =  268.0\n",
      "Total ETA For This Segment  2475  =  246.0\n",
      "Total ETA For This Segment  2476  =  209.0\n",
      "Total ETA For This Segment  2477  =  311.0\n",
      "Total ETA For This Segment  2478  =  376.0\n",
      "Total ETA For This Segment  2479  =  284.0\n",
      "Total ETA For This Segment  2480  =  424.0\n",
      "Total ETA For This Segment  2481  =  418.0\n",
      "Total ETA For This Segment  2482  =  280.0\n",
      "Total ETA For This Segment  2483  =  53.0\n",
      "Total ETA For This Segment  2484  =  379.0\n",
      "Total ETA For This Segment  2485  =  227.0\n",
      "Total ETA For This Segment  2486  =  233.0\n",
      "Total ETA For This Segment  2487  =  256.0\n",
      "Total ETA For This Segment  2488  =  273.0\n",
      "Total ETA For This Segment  2489  =  144.0\n",
      "Total ETA For This Segment  2490  =  241.0\n",
      "Total ETA For This Segment  2491  =  269.0\n",
      "Total ETA For This Segment  2492  =  303.0\n",
      "Total ETA For This Segment  2493  =  338.0\n",
      "Total ETA For This Segment  2494  =  170.0\n",
      "Total ETA For This Segment  2496  =  345.0\n",
      "Total ETA For This Segment  2497  =  126.0\n",
      "Total ETA For This Segment  2498  =  80.0\n",
      "Total ETA For This Segment  2499  =  184.0\n",
      "Total ETA For This Segment  2500  =  266.0\n",
      "Total ETA For This Segment  2502  =  275.0\n",
      "Total ETA For This Segment  2503  =  139.0\n",
      "Total ETA For This Segment  2504  =  251.0\n",
      "Total ETA For This Segment  2505  =  397.0\n",
      "Total ETA For This Segment  2506  =  167.0\n",
      "Total ETA For This Segment  2507  =  338.0\n",
      "Total ETA For This Segment  2508  =  332.0\n",
      "Total ETA For This Segment  2510  =  65.0\n"
     ]
    },
    {
     "name": "stderr",
     "output_type": "stream",
     "text": [
      "/tmp/ipykernel_4549/2500732777.py:76: RuntimeWarning: invalid value encountered in cast\n",
      "  start_array[idx] = np.asarray(segment_values1[0])\n",
      "/tmp/ipykernel_4549/2500732777.py:82: RuntimeWarning: invalid value encountered in cast\n",
      "  end_array[idx] = np.asarray(segment_values2[0])\n"
     ]
    },
    {
     "name": "stdout",
     "output_type": "stream",
     "text": [
      "Total ETA For This Segment  2512  =  77.0\n",
      "Total ETA For This Segment  2513  =  345.0\n",
      "Total ETA For This Segment  2514  =  256.0\n",
      "Total ETA For This Segment  2515  =  383.0\n",
      "Total ETA For This Segment  2516  =  317.0\n",
      "Total ETA For This Segment  2517  =  370.0\n",
      "Total ETA For This Segment  2518  =  241.0\n",
      "Total ETA For This Segment  2519  =  276.0\n",
      "Total ETA For This Segment  2520  =  361.0\n",
      "Total ETA For This Segment  2521  =  265.0\n",
      "Total ETA For This Segment  2522  =  329.0\n",
      "Total ETA For This Segment  2523  =  81.0\n",
      "Total ETA For This Segment  2524  =  355.0\n",
      "Total ETA For This Segment  2525  =  328.0\n"
     ]
    },
    {
     "name": "stderr",
     "output_type": "stream",
     "text": [
      "/tmp/ipykernel_4549/2500732777.py:76: RuntimeWarning: invalid value encountered in cast\n",
      "  start_array[idx] = np.asarray(segment_values1[0])\n",
      "/tmp/ipykernel_4549/2500732777.py:82: RuntimeWarning: invalid value encountered in cast\n",
      "  end_array[idx] = np.asarray(segment_values2[0])\n"
     ]
    },
    {
     "name": "stdout",
     "output_type": "stream",
     "text": [
      "Total ETA For This Segment  2820  =  299.0\n",
      "Total ETA For This Segment  2821  =  102.0\n",
      "Total ETA For This Segment  2822  =  334.0\n",
      "Total ETA For This Segment  2823  =  266.0\n",
      "Total ETA For This Segment  2824  =  189.0\n",
      "Total ETA For This Segment  2825  =  96.0\n",
      "Total ETA For This Segment  2826  =  472.0\n",
      "Total ETA For This Segment  2827  =  454.0\n",
      "Total ETA For This Segment  2828  =  305.0\n",
      "Total ETA For This Segment  2829  =  384.0\n",
      "Total ETA For This Segment  2830  =  325.0\n",
      "Total ETA For This Segment  2831  =  430.0\n",
      "Total ETA For This Segment  2832  =  113.0\n",
      "Total ETA For This Segment  2833  =  468.0\n",
      "Total ETA For This Segment  2834  =  489.0\n",
      "Total ETA For This Segment  2835  =  303.0\n",
      "Total ETA For This Segment  2836  =  443.0\n",
      "Total ETA For This Segment  2837  =  404.0\n",
      "Total ETA For This Segment  2838  =  243.0\n",
      "Total ETA For This Segment  2839  =  494.0\n",
      "Total ETA For This Segment  2840  =  500.0\n",
      "Total ETA For This Segment  2842  =  338.0\n",
      "Total ETA For This Segment  2843  =  112.0\n",
      "Total ETA For This Segment  2844  =  260.0\n",
      "Total ETA For This Segment  2845  =  429.0\n",
      "Total ETA For This Segment  2846  =  228.0\n",
      "Total ETA For This Segment  2847  =  384.0\n",
      "Total ETA For This Segment  2848  =  262.0\n",
      "Total ETA For This Segment  2849  =  192.0\n",
      "Total ETA For This Segment  2850  =  98.0\n",
      "Total ETA For This Segment  2851  =  351.0\n",
      "Total ETA For This Segment  2852  =  392.0\n",
      "Total ETA For This Segment  2853  =  402.0\n",
      "Total ETA For This Segment  2854  =  299.0\n"
     ]
    },
    {
     "name": "stderr",
     "output_type": "stream",
     "text": [
      "/tmp/ipykernel_4549/2500732777.py:76: RuntimeWarning: invalid value encountered in cast\n",
      "  start_array[idx] = np.asarray(segment_values1[0])\n",
      "/tmp/ipykernel_4549/2500732777.py:82: RuntimeWarning: invalid value encountered in cast\n",
      "  end_array[idx] = np.asarray(segment_values2[0])\n"
     ]
    },
    {
     "name": "stdout",
     "output_type": "stream",
     "text": [
      "Total ETA For This Segment  2856  =  341.0\n",
      "Total ETA For This Segment  2857  =  202.0\n"
     ]
    },
    {
     "name": "stderr",
     "output_type": "stream",
     "text": [
      "/tmp/ipykernel_4549/2500732777.py:76: RuntimeWarning: invalid value encountered in cast\n",
      "  start_array[idx] = np.asarray(segment_values1[0])\n",
      "/tmp/ipykernel_4549/2500732777.py:82: RuntimeWarning: invalid value encountered in cast\n",
      "  end_array[idx] = np.asarray(segment_values2[0])\n",
      "/tmp/ipykernel_4549/2500732777.py:76: RuntimeWarning: invalid value encountered in cast\n",
      "  start_array[idx] = np.asarray(segment_values1[0])\n",
      "/tmp/ipykernel_4549/2500732777.py:82: RuntimeWarning: invalid value encountered in cast\n",
      "  end_array[idx] = np.asarray(segment_values2[0])\n"
     ]
    },
    {
     "name": "stdout",
     "output_type": "stream",
     "text": [
      "Total ETA For This Segment  2861  =  361.0\n"
     ]
    },
    {
     "name": "stderr",
     "output_type": "stream",
     "text": [
      "/tmp/ipykernel_4549/2500732777.py:76: RuntimeWarning: invalid value encountered in cast\n",
      "  start_array[idx] = np.asarray(segment_values1[0])\n",
      "/tmp/ipykernel_4549/2500732777.py:82: RuntimeWarning: invalid value encountered in cast\n",
      "  end_array[idx] = np.asarray(segment_values2[0])\n"
     ]
    },
    {
     "name": "stdout",
     "output_type": "stream",
     "text": [
      "Total ETA For This Segment  2863  =  88.0\n"
     ]
    },
    {
     "name": "stderr",
     "output_type": "stream",
     "text": [
      "/tmp/ipykernel_4549/2500732777.py:76: RuntimeWarning: invalid value encountered in cast\n",
      "  start_array[idx] = np.asarray(segment_values1[0])\n",
      "/tmp/ipykernel_4549/2500732777.py:82: RuntimeWarning: invalid value encountered in cast\n",
      "  end_array[idx] = np.asarray(segment_values2[0])\n"
     ]
    },
    {
     "name": "stdout",
     "output_type": "stream",
     "text": [
      "Total ETA For This Segment  2865  =  205.0\n",
      "Total ETA For This Segment  2866  =  412.0\n",
      "Total ETA For This Segment  2867  =  95.0\n",
      "Total ETA For This Segment  2868  =  374.0\n",
      "Total ETA For This Segment  2869  =  247.0\n",
      "Total ETA For This Segment  2870  =  83.0\n",
      "Total ETA For This Segment  2871  =  91.0\n"
     ]
    },
    {
     "name": "stderr",
     "output_type": "stream",
     "text": [
      "/tmp/ipykernel_4549/2500732777.py:76: RuntimeWarning: invalid value encountered in cast\n",
      "  start_array[idx] = np.asarray(segment_values1[0])\n",
      "/tmp/ipykernel_4549/2500732777.py:82: RuntimeWarning: invalid value encountered in cast\n",
      "  end_array[idx] = np.asarray(segment_values2[0])\n"
     ]
    },
    {
     "name": "stdout",
     "output_type": "stream",
     "text": [
      "Total ETA For This Segment  2874  =  374.0\n",
      "Total ETA For This Segment  2875  =  393.0\n"
     ]
    },
    {
     "name": "stderr",
     "output_type": "stream",
     "text": [
      "/tmp/ipykernel_4549/2500732777.py:76: RuntimeWarning: invalid value encountered in cast\n",
      "  start_array[idx] = np.asarray(segment_values1[0])\n",
      "/tmp/ipykernel_4549/2500732777.py:82: RuntimeWarning: invalid value encountered in cast\n",
      "  end_array[idx] = np.asarray(segment_values2[0])\n"
     ]
    },
    {
     "name": "stdout",
     "output_type": "stream",
     "text": [
      "Total ETA For This Segment  2877  =  251.0\n",
      "Total ETA For This Segment  2878  =  367.0\n",
      "Total ETA For This Segment  2879  =  129.0\n",
      "Total ETA For This Segment  2881  =  379.0\n",
      "Total ETA For This Segment  2882  =  338.0\n",
      "Total ETA For This Segment  2883  =  218.0\n"
     ]
    },
    {
     "name": "stderr",
     "output_type": "stream",
     "text": [
      "/tmp/ipykernel_4549/2500732777.py:76: RuntimeWarning: invalid value encountered in cast\n",
      "  start_array[idx] = np.asarray(segment_values1[0])\n",
      "/tmp/ipykernel_4549/2500732777.py:82: RuntimeWarning: invalid value encountered in cast\n",
      "  end_array[idx] = np.asarray(segment_values2[0])\n"
     ]
    },
    {
     "name": "stdout",
     "output_type": "stream",
     "text": [
      "Total ETA For This Segment  2885  =  255.0\n",
      "Total ETA For This Segment  2886  =  354.0\n",
      "Total ETA For This Segment  2888  =  383.0\n",
      "Total ETA For This Segment  2889  =  339.0\n",
      "Total ETA For This Segment  2890  =  305.0\n",
      "Total ETA For This Segment  2891  =  355.0\n",
      "Total ETA For This Segment  2892  =  268.0\n",
      "Total ETA For This Segment  3183  =  358.0\n",
      "Total ETA For This Segment  3184  =  351.0\n",
      "Total ETA For This Segment  3185  =  303.0\n",
      "Total ETA For This Segment  3186  =  94.0\n",
      "Total ETA For This Segment  3187  =  103.0\n",
      "Total ETA For This Segment  3188  =  81.0\n",
      "Total ETA For This Segment  3189  =  297.0\n",
      "Total ETA For This Segment  3190  =  155.0\n",
      "Total ETA For This Segment  3191  =  351.0\n",
      "Total ETA For This Segment  3192  =  189.0\n",
      "Total ETA For This Segment  3193  =  479.0\n",
      "Total ETA For This Segment  3194  =  312.0\n",
      "Total ETA For This Segment  3195  =  422.0\n",
      "Total ETA For This Segment  3196  =  426.0\n",
      "Total ETA For This Segment  3197  =  246.0\n",
      "Total ETA For This Segment  3198  =  477.0\n",
      "Total ETA For This Segment  3199  =  467.0\n",
      "Total ETA For This Segment  3200  =  127.0\n",
      "Total ETA For This Segment  3201  =  184.0\n",
      "Total ETA For This Segment  3202  =  348.0\n",
      "Total ETA For This Segment  3203  =  333.0\n",
      "Total ETA For This Segment  3204  =  211.0\n",
      "Total ETA For This Segment  3205  =  179.0\n",
      "Total ETA For This Segment  3206  =  155.0\n",
      "Total ETA For This Segment  3207  =  300.0\n",
      "Total ETA For This Segment  3208  =  317.0\n",
      "Total ETA For This Segment  3209  =  305.0\n",
      "Total ETA For This Segment  3210  =  244.0\n",
      "Total ETA For This Segment  3211  =  102.0\n",
      "Total ETA For This Segment  3212  =  203.0\n"
     ]
    },
    {
     "name": "stderr",
     "output_type": "stream",
     "text": [
      "/tmp/ipykernel_4549/2500732777.py:76: RuntimeWarning: invalid value encountered in cast\n",
      "  start_array[idx] = np.asarray(segment_values1[0])\n",
      "/tmp/ipykernel_4549/2500732777.py:82: RuntimeWarning: invalid value encountered in cast\n",
      "  end_array[idx] = np.asarray(segment_values2[0])\n"
     ]
    },
    {
     "name": "stdout",
     "output_type": "stream",
     "text": [
      "Total ETA For This Segment  3214  =  366.0\n",
      "Total ETA For This Segment  3215  =  348.0\n"
     ]
    },
    {
     "name": "stderr",
     "output_type": "stream",
     "text": [
      "/tmp/ipykernel_4549/2500732777.py:76: RuntimeWarning: invalid value encountered in cast\n",
      "  start_array[idx] = np.asarray(segment_values1[0])\n",
      "/tmp/ipykernel_4549/2500732777.py:82: RuntimeWarning: invalid value encountered in cast\n",
      "  end_array[idx] = np.asarray(segment_values2[0])\n"
     ]
    },
    {
     "name": "stdout",
     "output_type": "stream",
     "text": [
      "Total ETA For This Segment  3217  =  369.0\n",
      "Total ETA For This Segment  3218  =  223.0\n",
      "Total ETA For This Segment  3219  =  142.0\n",
      "Total ETA For This Segment  3220  =  365.0\n",
      "Total ETA For This Segment  3221  =  409.0\n",
      "Total ETA For This Segment  3222  =  420.0\n",
      "Total ETA For This Segment  3223  =  310.0\n",
      "Total ETA For This Segment  3224  =  211.0\n",
      "Total ETA For This Segment  3225  =  276.0\n",
      "Total ETA For This Segment  3226  =  361.0\n",
      "Total ETA For This Segment  3227  =  262.0\n",
      "Total ETA For This Segment  3228  =  161.0\n",
      "Total ETA For This Segment  3229  =  371.0\n",
      "Total ETA For This Segment  3230  =  331.0\n",
      "Total ETA For This Segment  3231  =  372.0\n",
      "Total ETA For This Segment  3232  =  164.0\n"
     ]
    },
    {
     "name": "stderr",
     "output_type": "stream",
     "text": [
      "/tmp/ipykernel_4549/2500732777.py:76: RuntimeWarning: invalid value encountered in cast\n",
      "  start_array[idx] = np.asarray(segment_values1[0])\n",
      "/tmp/ipykernel_4549/2500732777.py:82: RuntimeWarning: invalid value encountered in cast\n",
      "  end_array[idx] = np.asarray(segment_values2[0])\n"
     ]
    },
    {
     "name": "stdout",
     "output_type": "stream",
     "text": [
      "Total ETA For This Segment  3235  =  358.0\n",
      "Total ETA For This Segment  3236  =  160.0\n",
      "Total ETA For This Segment  3237  =  189.0\n",
      "Total ETA For This Segment  3238  =  268.0\n"
     ]
    },
    {
     "name": "stderr",
     "output_type": "stream",
     "text": [
      "/tmp/ipykernel_4549/2500732777.py:76: RuntimeWarning: invalid value encountered in cast\n",
      "  start_array[idx] = np.asarray(segment_values1[0])\n",
      "/tmp/ipykernel_4549/2500732777.py:82: RuntimeWarning: invalid value encountered in cast\n",
      "  end_array[idx] = np.asarray(segment_values2[0])\n"
     ]
    },
    {
     "name": "stdout",
     "output_type": "stream",
     "text": [
      "Total ETA For This Segment  3240  =  343.0\n",
      "Total ETA For This Segment  3241  =  374.0\n"
     ]
    },
    {
     "name": "stderr",
     "output_type": "stream",
     "text": [
      "/tmp/ipykernel_4549/2500732777.py:76: RuntimeWarning: invalid value encountered in cast\n",
      "  start_array[idx] = np.asarray(segment_values1[0])\n",
      "/tmp/ipykernel_4549/2500732777.py:82: RuntimeWarning: invalid value encountered in cast\n",
      "  end_array[idx] = np.asarray(segment_values2[0])\n"
     ]
    },
    {
     "name": "stdout",
     "output_type": "stream",
     "text": [
      "Total ETA For This Segment  3243  =  259.0\n",
      "Total ETA For This Segment  3244  =  387.0\n",
      "Total ETA For This Segment  3245  =  215.0\n",
      "Total ETA For This Segment  3246  =  220.0\n",
      "Total ETA For This Segment  3247  =  134.0\n"
     ]
    },
    {
     "name": "stderr",
     "output_type": "stream",
     "text": [
      "/tmp/ipykernel_4549/2500732777.py:76: RuntimeWarning: invalid value encountered in cast\n",
      "  start_array[idx] = np.asarray(segment_values1[0])\n",
      "/tmp/ipykernel_4549/2500732777.py:82: RuntimeWarning: invalid value encountered in cast\n",
      "  end_array[idx] = np.asarray(segment_values2[0])\n"
     ]
    },
    {
     "name": "stdout",
     "output_type": "stream",
     "text": [
      "Total ETA For This Segment  3249  =  410.0\n",
      "Total ETA For This Segment  3250  =  186.0\n",
      "Total ETA For This Segment  3251  =  299.0\n",
      "Total ETA For This Segment  3252  =  364.0\n",
      "Total ETA For This Segment  3253  =  193.0\n"
     ]
    },
    {
     "name": "stderr",
     "output_type": "stream",
     "text": [
      "/tmp/ipykernel_4549/2500732777.py:76: RuntimeWarning: invalid value encountered in cast\n",
      "  start_array[idx] = np.asarray(segment_values1[0])\n",
      "/tmp/ipykernel_4549/2500732777.py:82: RuntimeWarning: invalid value encountered in cast\n",
      "  end_array[idx] = np.asarray(segment_values2[0])\n"
     ]
    },
    {
     "name": "stdout",
     "output_type": "stream",
     "text": [
      "Total ETA For This Segment  3255  =  283.0\n",
      "Total ETA For This Segment  3543  =  117.0\n",
      "Total ETA For This Segment  3544  =  81.0\n",
      "Total ETA For This Segment  3545  =  209.0\n",
      "Total ETA For This Segment  3546  =  517.0\n",
      "Total ETA For This Segment  3547  =  293.0\n",
      "Total ETA For This Segment  3548  =  278.0\n",
      "Total ETA For This Segment  3549  =  88.0\n",
      "Total ETA For This Segment  3550  =  178.0\n",
      "Total ETA For This Segment  3551  =  204.0\n",
      "Total ETA For This Segment  3552  =  134.0\n",
      "Total ETA For This Segment  3553  =  29.0\n",
      "Total ETA For This Segment  3554  =  41.0\n",
      "Total ETA For This Segment  3555  =  229.0\n",
      "Total ETA For This Segment  3556  =  47.0\n",
      "Total ETA For This Segment  3557  =  402.0\n",
      "Total ETA For This Segment  3558  =  270.0\n",
      "Total ETA For This Segment  3559  =  344.0\n",
      "Total ETA For This Segment  3560  =  422.0\n",
      "Total ETA For This Segment  3561  =  377.0\n",
      "Total ETA For This Segment  3562  =  386.0\n",
      "Total ETA For This Segment  3563  =  213.0\n",
      "Total ETA For This Segment  3564  =  247.0\n",
      "Total ETA For This Segment  3565  =  184.0\n",
      "Total ETA For This Segment  3566  =  188.0\n",
      "Total ETA For This Segment  3567  =  252.0\n",
      "Total ETA For This Segment  3568  =  204.0\n",
      "Total ETA For This Segment  3569  =  186.0\n",
      "Total ETA For This Segment  3570  =  65.0\n",
      "Total ETA For This Segment  3571  =  244.0\n"
     ]
    },
    {
     "name": "stderr",
     "output_type": "stream",
     "text": [
      "/tmp/ipykernel_4549/2500732777.py:76: RuntimeWarning: invalid value encountered in cast\n",
      "  start_array[idx] = np.asarray(segment_values1[0])\n",
      "/tmp/ipykernel_4549/2500732777.py:82: RuntimeWarning: invalid value encountered in cast\n",
      "  end_array[idx] = np.asarray(segment_values2[0])\n"
     ]
    },
    {
     "name": "stdout",
     "output_type": "stream",
     "text": [
      "Total ETA For This Segment  3573  =  370.0\n",
      "Total ETA For This Segment  3574  =  216.0\n",
      "Total ETA For This Segment  3575  =  198.0\n",
      "Total ETA For This Segment  3576  =  161.0\n",
      "Total ETA For This Segment  3577  =  402.0\n",
      "Total ETA For This Segment  3578  =  201.0\n",
      "Total ETA For This Segment  3579  =  383.0\n",
      "Total ETA For This Segment  3580  =  268.0\n",
      "Total ETA For This Segment  3581  =  315.0\n",
      "Total ETA For This Segment  3582  =  148.0\n",
      "Total ETA For This Segment  3583  =  224.0\n",
      "Total ETA For This Segment  3584  =  307.0\n",
      "Total ETA For This Segment  3585  =  170.0\n",
      "Total ETA For This Segment  3586  =  219.0\n",
      "Total ETA For This Segment  3587  =  258.0\n",
      "Total ETA For This Segment  3588  =  399.0\n",
      "Total ETA For This Segment  3589  =  227.0\n",
      "Total ETA For This Segment  3590  =  220.0\n",
      "Total ETA For This Segment  3591  =  263.0\n",
      "Total ETA For This Segment  3592  =  139.0\n",
      "Total ETA For This Segment  3593  =  330.0\n",
      "Total ETA For This Segment  3594  =  191.0\n",
      "Total ETA For This Segment  3595  =  288.0\n",
      "Total ETA For This Segment  3596  =  243.0\n",
      "Total ETA For This Segment  3597  =  191.0\n",
      "Total ETA For This Segment  3598  =  275.0\n",
      "Total ETA For This Segment  3599  =  224.0\n",
      "Total ETA For This Segment  3600  =  84.0\n",
      "Total ETA For This Segment  3601  =  217.0\n",
      "Total ETA For This Segment  3602  =  352.0\n"
     ]
    },
    {
     "name": "stderr",
     "output_type": "stream",
     "text": [
      "/tmp/ipykernel_4549/2500732777.py:76: RuntimeWarning: invalid value encountered in cast\n",
      "  start_array[idx] = np.asarray(segment_values1[0])\n",
      "/tmp/ipykernel_4549/2500732777.py:82: RuntimeWarning: invalid value encountered in cast\n",
      "  end_array[idx] = np.asarray(segment_values2[0])\n"
     ]
    },
    {
     "name": "stdout",
     "output_type": "stream",
     "text": [
      "Total ETA For This Segment  3604  =  290.0\n",
      "Total ETA For This Segment  3605  =  216.0\n",
      "Total ETA For This Segment  3606  =  382.0\n"
     ]
    },
    {
     "name": "stderr",
     "output_type": "stream",
     "text": [
      "/tmp/ipykernel_4549/2500732777.py:76: RuntimeWarning: invalid value encountered in cast\n",
      "  start_array[idx] = np.asarray(segment_values1[0])\n",
      "/tmp/ipykernel_4549/2500732777.py:82: RuntimeWarning: invalid value encountered in cast\n",
      "  end_array[idx] = np.asarray(segment_values2[0])\n",
      "/tmp/ipykernel_4549/2500732777.py:76: RuntimeWarning: invalid value encountered in cast\n",
      "  start_array[idx] = np.asarray(segment_values1[0])\n",
      "/tmp/ipykernel_4549/2500732777.py:82: RuntimeWarning: invalid value encountered in cast\n",
      "  end_array[idx] = np.asarray(segment_values2[0])\n"
     ]
    },
    {
     "name": "stdout",
     "output_type": "stream",
     "text": [
      "Total ETA For This Segment  3609  =  110.0\n"
     ]
    },
    {
     "name": "stderr",
     "output_type": "stream",
     "text": [
      "/tmp/ipykernel_4549/2500732777.py:76: RuntimeWarning: invalid value encountered in cast\n",
      "  start_array[idx] = np.asarray(segment_values1[0])\n",
      "/tmp/ipykernel_4549/2500732777.py:82: RuntimeWarning: invalid value encountered in cast\n",
      "  end_array[idx] = np.asarray(segment_values2[0])\n"
     ]
    },
    {
     "name": "stdout",
     "output_type": "stream",
     "text": [
      "Total ETA For This Segment  3611  =  242.0\n",
      "Total ETA For This Segment  3612  =  333.0\n",
      "Total ETA For This Segment  3613  =  217.0\n",
      "Total ETA For This Segment  3614  =  365.0\n",
      "Total ETA For This Segment  3615  =  292.0\n",
      "Total ETA For This Segment  3616  =  242.0\n",
      "Total ETA For This Segment  3618  =  212.0\n",
      "Total ETA For This Segment  3619  =  338.0\n",
      "Total ETA For This Segment  3620  =  423.0\n",
      "Total ETA For This Segment  3621  =  238.0\n",
      "Total ETA For This Segment  3907  =  54.0\n",
      "Total ETA For This Segment  3908  =  201.0\n",
      "Total ETA For This Segment  3909  =  305.0\n",
      "Total ETA For This Segment  3910  =  184.0\n",
      "Total ETA For This Segment  3911  =  200.0\n",
      "Total ETA For This Segment  3912  =  179.0\n",
      "Total ETA For This Segment  3913  =  156.0\n",
      "Total ETA For This Segment  3914  =  62.0\n",
      "Total ETA For This Segment  3915  =  132.0\n",
      "Total ETA For This Segment  3916  =  364.0\n",
      "Total ETA For This Segment  3917  =  396.0\n",
      "Total ETA For This Segment  3918  =  415.0\n",
      "Total ETA For This Segment  3919  =  373.0\n",
      "Total ETA For This Segment  3920  =  277.0\n",
      "Total ETA For This Segment  3921  =  200.0\n",
      "Total ETA For This Segment  3922  =  420.0\n",
      "Total ETA For This Segment  3923  =  129.0\n",
      "Total ETA For This Segment  3924  =  56.0\n",
      "Total ETA For This Segment  3925  =  82.0\n",
      "Total ETA For This Segment  3926  =  69.0\n",
      "Total ETA For This Segment  3927  =  78.0\n",
      "Total ETA For This Segment  3928  =  282.0\n",
      "Total ETA For This Segment  3929  =  264.0\n",
      "Total ETA For This Segment  3930  =  138.0\n",
      "Total ETA For This Segment  3931  =  364.0\n",
      "Total ETA For This Segment  3932  =  396.0\n",
      "Total ETA For This Segment  3933  =  325.0\n"
     ]
    },
    {
     "name": "stderr",
     "output_type": "stream",
     "text": [
      "/tmp/ipykernel_4549/2500732777.py:76: RuntimeWarning: invalid value encountered in cast\n",
      "  start_array[idx] = np.asarray(segment_values1[0])\n",
      "/tmp/ipykernel_4549/2500732777.py:82: RuntimeWarning: invalid value encountered in cast\n",
      "  end_array[idx] = np.asarray(segment_values2[0])\n"
     ]
    },
    {
     "name": "stdout",
     "output_type": "stream",
     "text": [
      "Total ETA For This Segment  3935  =  249.0\n",
      "Total ETA For This Segment  3936  =  220.0\n",
      "Total ETA For This Segment  3937  =  244.0\n",
      "Total ETA For This Segment  3938  =  203.0\n",
      "Total ETA For This Segment  3939  =  248.0\n"
     ]
    },
    {
     "name": "stderr",
     "output_type": "stream",
     "text": [
      "/tmp/ipykernel_4549/2500732777.py:76: RuntimeWarning: invalid value encountered in cast\n",
      "  start_array[idx] = np.asarray(segment_values1[0])\n",
      "/tmp/ipykernel_4549/2500732777.py:82: RuntimeWarning: invalid value encountered in cast\n",
      "  end_array[idx] = np.asarray(segment_values2[0])\n"
     ]
    },
    {
     "name": "stdout",
     "output_type": "stream",
     "text": [
      "Total ETA For This Segment  3941  =  300.0\n",
      "Total ETA For This Segment  3942  =  191.0\n",
      "Total ETA For This Segment  3943  =  158.0\n",
      "Total ETA For This Segment  3944  =  97.0\n",
      "Total ETA For This Segment  3945  =  372.0\n",
      "Total ETA For This Segment  3946  =  310.0\n",
      "Total ETA For This Segment  3947  =  300.0\n",
      "Total ETA For This Segment  3948  =  123.0\n",
      "Total ETA For This Segment  3949  =  275.0\n",
      "Total ETA For This Segment  3950  =  308.0\n",
      "Total ETA For This Segment  3951  =  390.0\n",
      "Total ETA For This Segment  3952  =  308.0\n",
      "Total ETA For This Segment  3953  =  186.0\n",
      "Total ETA For This Segment  3954  =  110.0\n",
      "Total ETA For This Segment  3955  =  179.0\n",
      "Total ETA For This Segment  3956  =  292.0\n",
      "Total ETA For This Segment  3957  =  156.0\n",
      "Total ETA For This Segment  3958  =  338.0\n"
     ]
    },
    {
     "name": "stderr",
     "output_type": "stream",
     "text": [
      "/tmp/ipykernel_4549/2500732777.py:76: RuntimeWarning: invalid value encountered in cast\n",
      "  start_array[idx] = np.asarray(segment_values1[0])\n",
      "/tmp/ipykernel_4549/2500732777.py:82: RuntimeWarning: invalid value encountered in cast\n",
      "  end_array[idx] = np.asarray(segment_values2[0])\n",
      "/tmp/ipykernel_4549/2500732777.py:76: RuntimeWarning: invalid value encountered in cast\n",
      "  start_array[idx] = np.asarray(segment_values1[0])\n",
      "/tmp/ipykernel_4549/2500732777.py:82: RuntimeWarning: invalid value encountered in cast\n",
      "  end_array[idx] = np.asarray(segment_values2[0])\n"
     ]
    },
    {
     "name": "stdout",
     "output_type": "stream",
     "text": [
      "Total ETA For This Segment  3961  =  143.0\n",
      "Total ETA For This Segment  3962  =  296.0\n",
      "Total ETA For This Segment  3963  =  188.0\n",
      "Total ETA For This Segment  3964  =  233.0\n",
      "Total ETA For This Segment  3965  =  232.0\n",
      "Total ETA For This Segment  3966  =  188.0\n",
      "Total ETA For This Segment  3967  =  223.0\n",
      "Total ETA For This Segment  3968  =  177.0\n",
      "Total ETA For This Segment  3969  =  245.0\n",
      "Total ETA For This Segment  3970  =  208.0\n",
      "Total ETA For This Segment  3971  =  145.0\n",
      "Total ETA For This Segment  3972  =  373.0\n",
      "Total ETA For This Segment  3973  =  129.0\n",
      "Total ETA For This Segment  3974  =  366.0\n"
     ]
    },
    {
     "name": "stderr",
     "output_type": "stream",
     "text": [
      "/tmp/ipykernel_4549/2500732777.py:76: RuntimeWarning: invalid value encountered in cast\n",
      "  start_array[idx] = np.asarray(segment_values1[0])\n",
      "/tmp/ipykernel_4549/2500732777.py:82: RuntimeWarning: invalid value encountered in cast\n",
      "  end_array[idx] = np.asarray(segment_values2[0])\n"
     ]
    },
    {
     "name": "stdout",
     "output_type": "stream",
     "text": [
      "Total ETA For This Segment  3976  =  88.0\n",
      "Total ETA For This Segment  3977  =  62.0\n",
      "Total ETA For This Segment  3978  =  222.0\n",
      "Total ETA For This Segment  3979  =  232.0\n",
      "Total ETA For This Segment  3980  =  124.0\n",
      "Total ETA For This Segment  3981  =  140.0\n",
      "Total ETA For This Segment  3982  =  233.0\n"
     ]
    },
    {
     "name": "stderr",
     "output_type": "stream",
     "text": [
      "/tmp/ipykernel_4549/2500732777.py:76: RuntimeWarning: invalid value encountered in cast\n",
      "  start_array[idx] = np.asarray(segment_values1[0])\n",
      "/tmp/ipykernel_4549/2500732777.py:82: RuntimeWarning: invalid value encountered in cast\n",
      "  end_array[idx] = np.asarray(segment_values2[0])\n",
      "/tmp/ipykernel_4549/2500732777.py:76: RuntimeWarning: invalid value encountered in cast\n",
      "  start_array[idx] = np.asarray(segment_values1[0])\n",
      "/tmp/ipykernel_4549/2500732777.py:82: RuntimeWarning: invalid value encountered in cast\n",
      "  end_array[idx] = np.asarray(segment_values2[0])\n"
     ]
    },
    {
     "name": "stdout",
     "output_type": "stream",
     "text": [
      "Total ETA For This Segment  4271  =  156.0\n",
      "Total ETA For This Segment  4272  =  203.0\n",
      "Total ETA For This Segment  4273  =  117.0\n",
      "Total ETA For This Segment  4274  =  92.0\n",
      "Total ETA For This Segment  4275  =  85.0\n",
      "Total ETA For This Segment  4276  =  258.0\n",
      "Total ETA For This Segment  4277  =  181.0\n",
      "Total ETA For This Segment  4278  =  208.0\n",
      "Total ETA For This Segment  4279  =  167.0\n",
      "Total ETA For This Segment  4280  =  383.0\n",
      "Total ETA For This Segment  4281  =  242.0\n",
      "Total ETA For This Segment  4282  =  340.0\n",
      "Total ETA For This Segment  4283  =  271.0\n",
      "Total ETA For This Segment  4284  =  242.0\n",
      "Total ETA For This Segment  4285  =  242.0\n",
      "Total ETA For This Segment  4286  =  63.0\n",
      "Total ETA For This Segment  4287  =  109.0\n",
      "Total ETA For This Segment  4288  =  112.0\n",
      "Total ETA For This Segment  4289  =  92.0\n",
      "Total ETA For This Segment  4290  =  135.0\n",
      "Total ETA For This Segment  4291  =  289.0\n",
      "Total ETA For This Segment  4292  =  255.0\n",
      "Total ETA For This Segment  4293  =  45.0\n",
      "Total ETA For This Segment  4294  =  255.0\n",
      "Total ETA For This Segment  4295  =  261.0\n",
      "Total ETA For This Segment  4296  =  381.0\n",
      "Total ETA For This Segment  4297  =  218.0\n",
      "Total ETA For This Segment  4298  =  126.0\n"
     ]
    },
    {
     "name": "stderr",
     "output_type": "stream",
     "text": [
      "/tmp/ipykernel_4549/2500732777.py:76: RuntimeWarning: invalid value encountered in cast\n",
      "  start_array[idx] = np.asarray(segment_values1[0])\n",
      "/tmp/ipykernel_4549/2500732777.py:82: RuntimeWarning: invalid value encountered in cast\n",
      "  end_array[idx] = np.asarray(segment_values2[0])\n"
     ]
    },
    {
     "name": "stdout",
     "output_type": "stream",
     "text": [
      "Total ETA For This Segment  4300  =  159.0\n",
      "Total ETA For This Segment  4301  =  262.0\n",
      "Total ETA For This Segment  4302  =  84.0\n",
      "Total ETA For This Segment  4303  =  240.0\n",
      "Total ETA For This Segment  4304  =  290.0\n",
      "Total ETA For This Segment  4305  =  307.0\n",
      "Total ETA For This Segment  4306  =  115.0\n",
      "Total ETA For This Segment  4307  =  387.0\n",
      "Total ETA For This Segment  4308  =  206.0\n",
      "Total ETA For This Segment  4309  =  297.0\n",
      "Total ETA For This Segment  4310  =  210.0\n",
      "Total ETA For This Segment  4311  =  177.0\n"
     ]
    },
    {
     "name": "stderr",
     "output_type": "stream",
     "text": [
      "/tmp/ipykernel_4549/2500732777.py:76: RuntimeWarning: invalid value encountered in cast\n",
      "  start_array[idx] = np.asarray(segment_values1[0])\n",
      "/tmp/ipykernel_4549/2500732777.py:82: RuntimeWarning: invalid value encountered in cast\n",
      "  end_array[idx] = np.asarray(segment_values2[0])\n"
     ]
    },
    {
     "name": "stdout",
     "output_type": "stream",
     "text": [
      "Total ETA For This Segment  4313  =  275.0\n",
      "Total ETA For This Segment  4314  =  100.0\n",
      "Total ETA For This Segment  4315  =  149.0\n",
      "Total ETA For This Segment  4316  =  397.0\n",
      "Total ETA For This Segment  4317  =  97.0\n",
      "Total ETA For This Segment  4318  =  315.0\n"
     ]
    },
    {
     "name": "stderr",
     "output_type": "stream",
     "text": [
      "/tmp/ipykernel_4549/2500732777.py:76: RuntimeWarning: invalid value encountered in cast\n",
      "  start_array[idx] = np.asarray(segment_values1[0])\n",
      "/tmp/ipykernel_4549/2500732777.py:82: RuntimeWarning: invalid value encountered in cast\n",
      "  end_array[idx] = np.asarray(segment_values2[0])\n",
      "/tmp/ipykernel_4549/2500732777.py:76: RuntimeWarning: invalid value encountered in cast\n",
      "  start_array[idx] = np.asarray(segment_values1[0])\n",
      "/tmp/ipykernel_4549/2500732777.py:82: RuntimeWarning: invalid value encountered in cast\n",
      "  end_array[idx] = np.asarray(segment_values2[0])\n",
      "/tmp/ipykernel_4549/2500732777.py:76: RuntimeWarning: invalid value encountered in cast\n",
      "  start_array[idx] = np.asarray(segment_values1[0])\n",
      "/tmp/ipykernel_4549/2500732777.py:82: RuntimeWarning: invalid value encountered in cast\n",
      "  end_array[idx] = np.asarray(segment_values2[0])\n",
      "/tmp/ipykernel_4549/2500732777.py:76: RuntimeWarning: invalid value encountered in cast\n",
      "  start_array[idx] = np.asarray(segment_values1[0])\n",
      "/tmp/ipykernel_4549/2500732777.py:82: RuntimeWarning: invalid value encountered in cast\n",
      "  end_array[idx] = np.asarray(segment_values2[0])\n",
      "/tmp/ipykernel_4549/2500732777.py:76: RuntimeWarning: invalid value encountered in cast\n",
      "  start_array[idx] = np.asarray(segment_values1[0])\n",
      "/tmp/ipykernel_4549/2500732777.py:82: RuntimeWarning: invalid value encountered in cast\n",
      "  end_array[idx] = np.asarray(segment_values2[0])\n",
      "/tmp/ipykernel_4549/2500732777.py:76: RuntimeWarning: invalid value encountered in cast\n",
      "  start_array[idx] = np.asarray(segment_values1[0])\n",
      "/tmp/ipykernel_4549/2500732777.py:82: RuntimeWarning: invalid value encountered in cast\n",
      "  end_array[idx] = np.asarray(segment_values2[0])\n"
     ]
    },
    {
     "name": "stdout",
     "output_type": "stream",
     "text": [
      "Total ETA For This Segment  4325  =  211.0\n",
      "Total ETA For This Segment  4326  =  136.0\n",
      "Total ETA For This Segment  4327  =  295.0\n",
      "Total ETA For This Segment  4328  =  104.0\n",
      "Total ETA For This Segment  4329  =  211.0\n",
      "Total ETA For This Segment  4330  =  183.0\n",
      "Total ETA For This Segment  4331  =  216.0\n",
      "Total ETA For This Segment  4332  =  210.0\n",
      "Total ETA For This Segment  4333  =  273.0\n",
      "Total ETA For This Segment  4334  =  320.0\n",
      "Total ETA For This Segment  4335  =  129.0\n",
      "Total ETA For This Segment  4336  =  116.0\n",
      "Total ETA For This Segment  4337  =  189.0\n"
     ]
    },
    {
     "name": "stderr",
     "output_type": "stream",
     "text": [
      "/tmp/ipykernel_4549/2500732777.py:76: RuntimeWarning: invalid value encountered in cast\n",
      "  start_array[idx] = np.asarray(segment_values1[0])\n",
      "/tmp/ipykernel_4549/2500732777.py:82: RuntimeWarning: invalid value encountered in cast\n",
      "  end_array[idx] = np.asarray(segment_values2[0])\n",
      "/tmp/ipykernel_4549/2500732777.py:76: RuntimeWarning: invalid value encountered in cast\n",
      "  start_array[idx] = np.asarray(segment_values1[0])\n",
      "/tmp/ipykernel_4549/2500732777.py:82: RuntimeWarning: invalid value encountered in cast\n",
      "  end_array[idx] = np.asarray(segment_values2[0])\n"
     ]
    },
    {
     "name": "stdout",
     "output_type": "stream",
     "text": [
      "Total ETA For This Segment  4341  =  308.0\n"
     ]
    },
    {
     "name": "stderr",
     "output_type": "stream",
     "text": [
      "/tmp/ipykernel_4549/2500732777.py:76: RuntimeWarning: invalid value encountered in cast\n",
      "  start_array[idx] = np.asarray(segment_values1[0])\n",
      "/tmp/ipykernel_4549/2500732777.py:82: RuntimeWarning: invalid value encountered in cast\n",
      "  end_array[idx] = np.asarray(segment_values2[0])\n"
     ]
    },
    {
     "name": "stdout",
     "output_type": "stream",
     "text": [
      "Total ETA For This Segment  4343  =  50.0\n"
     ]
    },
    {
     "name": "stderr",
     "output_type": "stream",
     "text": [
      "/tmp/ipykernel_4549/2500732777.py:76: RuntimeWarning: invalid value encountered in cast\n",
      "  start_array[idx] = np.asarray(segment_values1[0])\n",
      "/tmp/ipykernel_4549/2500732777.py:82: RuntimeWarning: invalid value encountered in cast\n",
      "  end_array[idx] = np.asarray(segment_values2[0])\n",
      "/tmp/ipykernel_4549/2500732777.py:76: RuntimeWarning: invalid value encountered in cast\n",
      "  start_array[idx] = np.asarray(segment_values1[0])\n",
      "/tmp/ipykernel_4549/2500732777.py:82: RuntimeWarning: invalid value encountered in cast\n",
      "  end_array[idx] = np.asarray(segment_values2[0])\n",
      "/tmp/ipykernel_4549/2500732777.py:76: RuntimeWarning: invalid value encountered in cast\n",
      "  start_array[idx] = np.asarray(segment_values1[0])\n",
      "/tmp/ipykernel_4549/2500732777.py:82: RuntimeWarning: invalid value encountered in cast\n",
      "  end_array[idx] = np.asarray(segment_values2[0])\n",
      "/tmp/ipykernel_4549/2500732777.py:76: RuntimeWarning: invalid value encountered in cast\n",
      "  start_array[idx] = np.asarray(segment_values1[0])\n",
      "/tmp/ipykernel_4549/2500732777.py:82: RuntimeWarning: invalid value encountered in cast\n",
      "  end_array[idx] = np.asarray(segment_values2[0])\n"
     ]
    },
    {
     "name": "stdout",
     "output_type": "stream",
     "text": [
      "Total ETA For This Segment  4348  =  289.0\n",
      "Total ETA For This Segment  4349  =  205.0\n"
     ]
    },
    {
     "name": "stderr",
     "output_type": "stream",
     "text": [
      "/tmp/ipykernel_4549/2500732777.py:76: RuntimeWarning: invalid value encountered in cast\n",
      "  start_array[idx] = np.asarray(segment_values1[0])\n",
      "/tmp/ipykernel_4549/2500732777.py:82: RuntimeWarning: invalid value encountered in cast\n",
      "  end_array[idx] = np.asarray(segment_values2[0])\n",
      "/tmp/ipykernel_4549/2500732777.py:76: RuntimeWarning: invalid value encountered in cast\n",
      "  start_array[idx] = np.asarray(segment_values1[0])\n",
      "/tmp/ipykernel_4549/2500732777.py:82: RuntimeWarning: invalid value encountered in cast\n",
      "  end_array[idx] = np.asarray(segment_values2[0])\n"
     ]
    },
    {
     "name": "stdout",
     "output_type": "stream",
     "text": [
      "Total ETA For This Segment  4353  =  163.0\n",
      "Total ETA For This Segment  4543  =  40.0\n",
      "Total ETA For This Segment  4544  =  178.0\n",
      "Total ETA For This Segment  4545  =  156.0\n",
      "Total ETA For This Segment  4546  =  159.0\n",
      "Total ETA For This Segment  4547  =  168.0\n",
      "Total ETA For This Segment  4548  =  27.0\n",
      "Total ETA For This Segment  4549  =  77.0\n",
      "Total ETA For This Segment  4550  =  103.0\n"
     ]
    },
    {
     "name": "stderr",
     "output_type": "stream",
     "text": [
      "/tmp/ipykernel_4549/2500732777.py:76: RuntimeWarning: invalid value encountered in cast\n",
      "  start_array[idx] = np.asarray(segment_values1[0])\n",
      "/tmp/ipykernel_4549/2500732777.py:82: RuntimeWarning: invalid value encountered in cast\n",
      "  end_array[idx] = np.asarray(segment_values2[0])\n"
     ]
    },
    {
     "name": "stdout",
     "output_type": "stream",
     "text": [
      "Total ETA For This Segment  4552  =  141.0\n",
      "Total ETA For This Segment  4605  =  101.0\n",
      "Total ETA For This Segment  4608  =  75.0\n",
      "Total ETA For This Segment  4609  =  117.0\n",
      "Total ETA For This Segment  4610  =  242.0\n",
      "Total ETA For This Segment  4611  =  201.0\n",
      "Total ETA For This Segment  4612  =  202.0\n",
      "Total ETA For This Segment  4613  =  202.0\n",
      "Total ETA For This Segment  4614  =  168.0\n",
      "Total ETA For This Segment  4615  =  173.0\n",
      "Total ETA For This Segment  4616  =  144.0\n",
      "Total ETA For This Segment  4617  =  149.0\n",
      "Total ETA For This Segment  4618  =  212.0\n",
      "Total ETA For This Segment  4619  =  302.0\n",
      "Total ETA For This Segment  4620  =  212.0\n",
      "Total ETA For This Segment  4621  =  250.0\n",
      "Total ETA For This Segment  4622  =  257.0\n",
      "Total ETA For This Segment  4623  =  202.0\n",
      "Total ETA For This Segment  4624  =  159.0\n",
      "Total ETA For This Segment  4625  =  346.0\n",
      "Total ETA For This Segment  4626  =  272.0\n",
      "Total ETA For This Segment  4627  =  83.0\n",
      "Total ETA For This Segment  4628  =  159.0\n",
      "Total ETA For This Segment  4629  =  149.0\n",
      "Total ETA For This Segment  4630  =  243.0\n",
      "Total ETA For This Segment  4631  =  206.0\n",
      "Total ETA For This Segment  4632  =  303.0\n",
      "Total ETA For This Segment  4633  =  452.0\n",
      "Total ETA For This Segment  4634  =  511.0\n",
      "Total ETA For This Segment  4635  =  413.0\n",
      "Total ETA For This Segment  4636  =  341.0\n",
      "Total ETA For This Segment  4637  =  434.0\n",
      "Total ETA For This Segment  4638  =  319.0\n",
      "Total ETA For This Segment  4639  =  289.0\n"
     ]
    },
    {
     "name": "stderr",
     "output_type": "stream",
     "text": [
      "/tmp/ipykernel_4549/2500732777.py:76: RuntimeWarning: invalid value encountered in cast\n",
      "  start_array[idx] = np.asarray(segment_values1[0])\n",
      "/tmp/ipykernel_4549/2500732777.py:82: RuntimeWarning: invalid value encountered in cast\n",
      "  end_array[idx] = np.asarray(segment_values2[0])\n"
     ]
    },
    {
     "name": "stdout",
     "output_type": "stream",
     "text": [
      "Total ETA For This Segment  4642  =  231.0\n",
      "Total ETA For This Segment  4643  =  108.0\n",
      "Total ETA For This Segment  4644  =  162.0\n",
      "Total ETA For This Segment  4645  =  193.0\n",
      "Total ETA For This Segment  4646  =  233.0\n",
      "Total ETA For This Segment  4647  =  219.0\n",
      "Total ETA For This Segment  4648  =  195.0\n",
      "Total ETA For This Segment  4649  =  78.0\n",
      "Total ETA For This Segment  4650  =  326.0\n",
      "Total ETA For This Segment  4651  =  247.0\n"
     ]
    },
    {
     "name": "stderr",
     "output_type": "stream",
     "text": [
      "/tmp/ipykernel_4549/2500732777.py:76: RuntimeWarning: invalid value encountered in cast\n",
      "  start_array[idx] = np.asarray(segment_values1[0])\n",
      "/tmp/ipykernel_4549/2500732777.py:82: RuntimeWarning: invalid value encountered in cast\n",
      "  end_array[idx] = np.asarray(segment_values2[0])\n"
     ]
    },
    {
     "name": "stdout",
     "output_type": "stream",
     "text": [
      "Total ETA For This Segment  4654  =  181.0\n",
      "Total ETA For This Segment  4655  =  109.0\n",
      "Total ETA For This Segment  4657  =  117.0\n",
      "Total ETA For This Segment  4658  =  198.0\n",
      "Total ETA For This Segment  4659  =  82.0\n"
     ]
    },
    {
     "name": "stderr",
     "output_type": "stream",
     "text": [
      "/tmp/ipykernel_4549/2500732777.py:76: RuntimeWarning: invalid value encountered in cast\n",
      "  start_array[idx] = np.asarray(segment_values1[0])\n",
      "/tmp/ipykernel_4549/2500732777.py:82: RuntimeWarning: invalid value encountered in cast\n",
      "  end_array[idx] = np.asarray(segment_values2[0])\n"
     ]
    },
    {
     "name": "stdout",
     "output_type": "stream",
     "text": [
      "Total ETA For This Segment  4662  =  212.0\n"
     ]
    },
    {
     "name": "stderr",
     "output_type": "stream",
     "text": [
      "/tmp/ipykernel_4549/2500732777.py:76: RuntimeWarning: invalid value encountered in cast\n",
      "  start_array[idx] = np.asarray(segment_values1[0])\n",
      "/tmp/ipykernel_4549/2500732777.py:82: RuntimeWarning: invalid value encountered in cast\n",
      "  end_array[idx] = np.asarray(segment_values2[0])\n"
     ]
    },
    {
     "name": "stdout",
     "output_type": "stream",
     "text": [
      "Total ETA For This Segment  4665  =  265.0\n",
      "Total ETA For This Segment  4666  =  78.0\n",
      "Total ETA For This Segment  4667  =  141.0\n",
      "Total ETA For This Segment  4670  =  267.0\n",
      "Total ETA For This Segment  4671  =  210.0\n",
      "Total ETA For This Segment  4672  =  297.0\n"
     ]
    },
    {
     "name": "stderr",
     "output_type": "stream",
     "text": [
      "/tmp/ipykernel_4549/2500732777.py:76: RuntimeWarning: invalid value encountered in cast\n",
      "  start_array[idx] = np.asarray(segment_values1[0])\n",
      "/tmp/ipykernel_4549/2500732777.py:82: RuntimeWarning: invalid value encountered in cast\n",
      "  end_array[idx] = np.asarray(segment_values2[0])\n",
      "/tmp/ipykernel_4549/2500732777.py:76: RuntimeWarning: invalid value encountered in cast\n",
      "  start_array[idx] = np.asarray(segment_values1[0])\n",
      "/tmp/ipykernel_4549/2500732777.py:82: RuntimeWarning: invalid value encountered in cast\n",
      "  end_array[idx] = np.asarray(segment_values2[0])\n"
     ]
    },
    {
     "name": "stdout",
     "output_type": "stream",
     "text": [
      "Total ETA For This Segment  4677  =  216.0\n",
      "Total ETA For This Segment  4678  =  104.0\n"
     ]
    },
    {
     "name": "stderr",
     "output_type": "stream",
     "text": [
      "/tmp/ipykernel_4549/2500732777.py:76: RuntimeWarning: invalid value encountered in cast\n",
      "  start_array[idx] = np.asarray(segment_values1[0])\n",
      "/tmp/ipykernel_4549/2500732777.py:82: RuntimeWarning: invalid value encountered in cast\n",
      "  end_array[idx] = np.asarray(segment_values2[0])\n"
     ]
    },
    {
     "name": "stdout",
     "output_type": "stream",
     "text": [
      "Total ETA For This Segment  4680  =  329.0\n",
      "Total ETA For This Segment  4683  =  247.0\n",
      "Total ETA For This Segment  4684  =  258.0\n"
     ]
    },
    {
     "name": "stderr",
     "output_type": "stream",
     "text": [
      "/tmp/ipykernel_4549/2500732777.py:76: RuntimeWarning: invalid value encountered in cast\n",
      "  start_array[idx] = np.asarray(segment_values1[0])\n",
      "/tmp/ipykernel_4549/2500732777.py:82: RuntimeWarning: invalid value encountered in cast\n",
      "  end_array[idx] = np.asarray(segment_values2[0])\n"
     ]
    },
    {
     "name": "stdout",
     "output_type": "stream",
     "text": [
      "Total ETA For This Segment  4687  =  355.0\n"
     ]
    },
    {
     "name": "stderr",
     "output_type": "stream",
     "text": [
      "/tmp/ipykernel_4549/2500732777.py:76: RuntimeWarning: invalid value encountered in cast\n",
      "  start_array[idx] = np.asarray(segment_values1[0])\n",
      "/tmp/ipykernel_4549/2500732777.py:82: RuntimeWarning: invalid value encountered in cast\n",
      "  end_array[idx] = np.asarray(segment_values2[0])\n"
     ]
    },
    {
     "name": "stdout",
     "output_type": "stream",
     "text": [
      "Total ETA For This Segment  4690  =  136.0\n"
     ]
    },
    {
     "name": "stderr",
     "output_type": "stream",
     "text": [
      "/tmp/ipykernel_4549/2500732777.py:76: RuntimeWarning: invalid value encountered in cast\n",
      "  start_array[idx] = np.asarray(segment_values1[0])\n",
      "/tmp/ipykernel_4549/2500732777.py:82: RuntimeWarning: invalid value encountered in cast\n",
      "  end_array[idx] = np.asarray(segment_values2[0])\n"
     ]
    },
    {
     "name": "stdout",
     "output_type": "stream",
     "text": [
      "Total ETA For This Segment  4692  =  120.0\n"
     ]
    },
    {
     "name": "stderr",
     "output_type": "stream",
     "text": [
      "/tmp/ipykernel_4549/2500732777.py:76: RuntimeWarning: invalid value encountered in cast\n",
      "  start_array[idx] = np.asarray(segment_values1[0])\n",
      "/tmp/ipykernel_4549/2500732777.py:82: RuntimeWarning: invalid value encountered in cast\n",
      "  end_array[idx] = np.asarray(segment_values2[0])\n",
      "/tmp/ipykernel_4549/2500732777.py:76: RuntimeWarning: invalid value encountered in cast\n",
      "  start_array[idx] = np.asarray(segment_values1[0])\n",
      "/tmp/ipykernel_4549/2500732777.py:82: RuntimeWarning: invalid value encountered in cast\n",
      "  end_array[idx] = np.asarray(segment_values2[0])\n"
     ]
    },
    {
     "name": "stdout",
     "output_type": "stream",
     "text": [
      "Total ETA For This Segment  4696  =  281.0\n",
      "Total ETA For This Segment  4697  =  362.0\n",
      "Total ETA For This Segment  4698  =  246.0\n",
      "Total ETA For This Segment  4699  =  101.0\n",
      "Total ETA For This Segment  4701  =  275.0\n",
      "Total ETA For This Segment  4702  =  253.0\n",
      "Total ETA For This Segment  4703  =  163.0\n",
      "Total ETA For This Segment  4704  =  368.0\n",
      "Total ETA For This Segment  4706  =  433.0\n",
      "Total ETA For This Segment  4707  =  101.0\n",
      "Total ETA For This Segment  4708  =  164.0\n",
      "Total ETA For This Segment  4709  =  102.0\n"
     ]
    },
    {
     "name": "stderr",
     "output_type": "stream",
     "text": [
      "/tmp/ipykernel_4549/2500732777.py:76: RuntimeWarning: invalid value encountered in cast\n",
      "  start_array[idx] = np.asarray(segment_values1[0])\n",
      "/tmp/ipykernel_4549/2500732777.py:82: RuntimeWarning: invalid value encountered in cast\n",
      "  end_array[idx] = np.asarray(segment_values2[0])\n"
     ]
    },
    {
     "name": "stdout",
     "output_type": "stream",
     "text": [
      "Total ETA For This Segment  4712  =  271.0\n",
      "Total ETA For This Segment  4713  =  289.0\n"
     ]
    },
    {
     "name": "stderr",
     "output_type": "stream",
     "text": [
      "/tmp/ipykernel_4549/2500732777.py:76: RuntimeWarning: invalid value encountered in cast\n",
      "  start_array[idx] = np.asarray(segment_values1[0])\n",
      "/tmp/ipykernel_4549/2500732777.py:82: RuntimeWarning: invalid value encountered in cast\n",
      "  end_array[idx] = np.asarray(segment_values2[0])\n",
      "/tmp/ipykernel_4549/2500732777.py:76: RuntimeWarning: invalid value encountered in cast\n",
      "  start_array[idx] = np.asarray(segment_values1[0])\n",
      "/tmp/ipykernel_4549/2500732777.py:82: RuntimeWarning: invalid value encountered in cast\n",
      "  end_array[idx] = np.asarray(segment_values2[0])\n",
      "/tmp/ipykernel_4549/2500732777.py:76: RuntimeWarning: invalid value encountered in cast\n",
      "  start_array[idx] = np.asarray(segment_values1[0])\n",
      "/tmp/ipykernel_4549/2500732777.py:82: RuntimeWarning: invalid value encountered in cast\n",
      "  end_array[idx] = np.asarray(segment_values2[0])\n",
      "/tmp/ipykernel_4549/2500732777.py:76: RuntimeWarning: invalid value encountered in cast\n",
      "  start_array[idx] = np.asarray(segment_values1[0])\n",
      "/tmp/ipykernel_4549/2500732777.py:82: RuntimeWarning: invalid value encountered in cast\n",
      "  end_array[idx] = np.asarray(segment_values2[0])\n",
      "/tmp/ipykernel_4549/2500732777.py:76: RuntimeWarning: invalid value encountered in cast\n",
      "  start_array[idx] = np.asarray(segment_values1[0])\n",
      "/tmp/ipykernel_4549/2500732777.py:82: RuntimeWarning: invalid value encountered in cast\n",
      "  end_array[idx] = np.asarray(segment_values2[0])\n",
      "/tmp/ipykernel_4549/2500732777.py:76: RuntimeWarning: invalid value encountered in cast\n",
      "  start_array[idx] = np.asarray(segment_values1[0])\n",
      "/tmp/ipykernel_4549/2500732777.py:82: RuntimeWarning: invalid value encountered in cast\n",
      "  end_array[idx] = np.asarray(segment_values2[0])\n",
      "/tmp/ipykernel_4549/2500732777.py:76: RuntimeWarning: invalid value encountered in cast\n",
      "  start_array[idx] = np.asarray(segment_values1[0])\n",
      "/tmp/ipykernel_4549/2500732777.py:82: RuntimeWarning: invalid value encountered in cast\n",
      "  end_array[idx] = np.asarray(segment_values2[0])\n"
     ]
    },
    {
     "name": "stdout",
     "output_type": "stream",
     "text": [
      "Total ETA For This Segment  4722  =  332.0\n",
      "Total ETA For This Segment  4723  =  237.0\n"
     ]
    },
    {
     "name": "stderr",
     "output_type": "stream",
     "text": [
      "/tmp/ipykernel_4549/2500732777.py:76: RuntimeWarning: invalid value encountered in cast\n",
      "  start_array[idx] = np.asarray(segment_values1[0])\n",
      "/tmp/ipykernel_4549/2500732777.py:82: RuntimeWarning: invalid value encountered in cast\n",
      "  end_array[idx] = np.asarray(segment_values2[0])\n",
      "/tmp/ipykernel_4549/2500732777.py:76: RuntimeWarning: invalid value encountered in cast\n",
      "  start_array[idx] = np.asarray(segment_values1[0])\n",
      "/tmp/ipykernel_4549/2500732777.py:82: RuntimeWarning: invalid value encountered in cast\n",
      "  end_array[idx] = np.asarray(segment_values2[0])\n",
      "/tmp/ipykernel_4549/2500732777.py:76: RuntimeWarning: invalid value encountered in cast\n",
      "  start_array[idx] = np.asarray(segment_values1[0])\n",
      "/tmp/ipykernel_4549/2500732777.py:82: RuntimeWarning: invalid value encountered in cast\n",
      "  end_array[idx] = np.asarray(segment_values2[0])\n",
      "/tmp/ipykernel_4549/2500732777.py:76: RuntimeWarning: invalid value encountered in cast\n",
      "  start_array[idx] = np.asarray(segment_values1[0])\n",
      "/tmp/ipykernel_4549/2500732777.py:82: RuntimeWarning: invalid value encountered in cast\n",
      "  end_array[idx] = np.asarray(segment_values2[0])\n",
      "/tmp/ipykernel_4549/2500732777.py:76: RuntimeWarning: invalid value encountered in cast\n",
      "  start_array[idx] = np.asarray(segment_values1[0])\n",
      "/tmp/ipykernel_4549/2500732777.py:82: RuntimeWarning: invalid value encountered in cast\n",
      "  end_array[idx] = np.asarray(segment_values2[0])\n",
      "/tmp/ipykernel_4549/2500732777.py:76: RuntimeWarning: invalid value encountered in cast\n",
      "  start_array[idx] = np.asarray(segment_values1[0])\n",
      "/tmp/ipykernel_4549/2500732777.py:82: RuntimeWarning: invalid value encountered in cast\n",
      "  end_array[idx] = np.asarray(segment_values2[0])\n",
      "/tmp/ipykernel_4549/2500732777.py:76: RuntimeWarning: invalid value encountered in cast\n",
      "  start_array[idx] = np.asarray(segment_values1[0])\n",
      "/tmp/ipykernel_4549/2500732777.py:82: RuntimeWarning: invalid value encountered in cast\n",
      "  end_array[idx] = np.asarray(segment_values2[0])\n"
     ]
    },
    {
     "name": "stdout",
     "output_type": "stream",
     "text": [
      "Total ETA For This Segment  4732  =  378.0\n",
      "Total ETA For This Segment  4734  =  325.0\n",
      "Total ETA For This Segment  4735  =  191.0\n",
      "Total ETA For This Segment  4737  =  259.0\n",
      "Total ETA For This Segment  4738  =  221.0\n"
     ]
    },
    {
     "name": "stderr",
     "output_type": "stream",
     "text": [
      "/tmp/ipykernel_4549/2500732777.py:76: RuntimeWarning: invalid value encountered in cast\n",
      "  start_array[idx] = np.asarray(segment_values1[0])\n",
      "/tmp/ipykernel_4549/2500732777.py:82: RuntimeWarning: invalid value encountered in cast\n",
      "  end_array[idx] = np.asarray(segment_values2[0])\n"
     ]
    },
    {
     "name": "stdout",
     "output_type": "stream",
     "text": [
      "Total ETA For This Segment  4742  =  125.0\n"
     ]
    },
    {
     "name": "stderr",
     "output_type": "stream",
     "text": [
      "/tmp/ipykernel_4549/2500732777.py:76: RuntimeWarning: invalid value encountered in cast\n",
      "  start_array[idx] = np.asarray(segment_values1[0])\n",
      "/tmp/ipykernel_4549/2500732777.py:82: RuntimeWarning: invalid value encountered in cast\n",
      "  end_array[idx] = np.asarray(segment_values2[0])\n"
     ]
    },
    {
     "name": "stdout",
     "output_type": "stream",
     "text": [
      "Total ETA For This Segment  4745  =  322.0\n",
      "Total ETA For This Segment  4746  =  258.0\n",
      "Total ETA For This Segment  4747  =  201.0\n"
     ]
    },
    {
     "name": "stderr",
     "output_type": "stream",
     "text": [
      "/tmp/ipykernel_4549/2500732777.py:76: RuntimeWarning: invalid value encountered in cast\n",
      "  start_array[idx] = np.asarray(segment_values1[0])\n",
      "/tmp/ipykernel_4549/2500732777.py:82: RuntimeWarning: invalid value encountered in cast\n",
      "  end_array[idx] = np.asarray(segment_values2[0])\n"
     ]
    },
    {
     "name": "stdout",
     "output_type": "stream",
     "text": [
      "Total ETA For This Segment  4750  =  216.0\n",
      "Total ETA For This Segment  4752  =  379.0\n",
      "Total ETA For This Segment  4753  =  116.0\n",
      "Total ETA For This Segment  4760  =  442.0\n",
      "Total ETA For This Segment  4761  =  275.0\n",
      "Total ETA For This Segment  4762  =  374.0\n",
      "Total ETA For This Segment  4763  =  216.0\n",
      "Total ETA For This Segment  4764  =  172.0\n",
      "Total ETA For This Segment  4766  =  271.0\n",
      "Total ETA For This Segment  4948  =  147.0\n",
      "Total ETA For This Segment  4950  =  532.0\n",
      "Total ETA For This Segment  4951  =  200.0\n",
      "Total ETA For This Segment  4952  =  113.0\n",
      "Total ETA For This Segment  4953  =  340.0\n",
      "Total ETA For This Segment  4954  =  362.0\n",
      "Total ETA For This Segment  4955  =  199.0\n",
      "Total ETA For This Segment  4956  =  288.0\n",
      "Total ETA For This Segment  4957  =  232.0\n",
      "Total ETA For This Segment  4958  =  108.0\n",
      "Total ETA For This Segment  4959  =  122.0\n",
      "Total ETA For This Segment  4960  =  172.0\n",
      "Total ETA For This Segment  4961  =  200.0\n",
      "Total ETA For This Segment  4962  =  135.0\n",
      "Total ETA For This Segment  4963  =  242.0\n",
      "Total ETA For This Segment  4964  =  145.0\n",
      "Total ETA For This Segment  4965  =  157.0\n",
      "Total ETA For This Segment  4966  =  339.0\n",
      "Total ETA For This Segment  4967  =  295.0\n"
     ]
    },
    {
     "name": "stderr",
     "output_type": "stream",
     "text": [
      "/tmp/ipykernel_4549/2500732777.py:76: RuntimeWarning: invalid value encountered in cast\n",
      "  start_array[idx] = np.asarray(segment_values1[0])\n",
      "/tmp/ipykernel_4549/2500732777.py:82: RuntimeWarning: invalid value encountered in cast\n",
      "  end_array[idx] = np.asarray(segment_values2[0])\n",
      "/tmp/ipykernel_4549/2500732777.py:76: RuntimeWarning: invalid value encountered in cast\n",
      "  start_array[idx] = np.asarray(segment_values1[0])\n",
      "/tmp/ipykernel_4549/2500732777.py:82: RuntimeWarning: invalid value encountered in cast\n",
      "  end_array[idx] = np.asarray(segment_values2[0])\n"
     ]
    },
    {
     "name": "stdout",
     "output_type": "stream",
     "text": [
      "Total ETA For This Segment  4975  =  152.0\n",
      "Total ETA For This Segment  4976  =  67.0\n",
      "Total ETA For This Segment  4977  =  62.0\n",
      "Total ETA For This Segment  4978  =  72.0\n"
     ]
    },
    {
     "name": "stderr",
     "output_type": "stream",
     "text": [
      "/tmp/ipykernel_4549/2500732777.py:76: RuntimeWarning: invalid value encountered in cast\n",
      "  start_array[idx] = np.asarray(segment_values1[0])\n",
      "/tmp/ipykernel_4549/2500732777.py:82: RuntimeWarning: invalid value encountered in cast\n",
      "  end_array[idx] = np.asarray(segment_values2[0])\n"
     ]
    },
    {
     "name": "stdout",
     "output_type": "stream",
     "text": [
      "Total ETA For This Segment  4981  =  249.0\n",
      "Total ETA For This Segment  4982  =  224.0\n",
      "Total ETA For This Segment  4983  =  89.0\n",
      "Total ETA For This Segment  4984  =  241.0\n",
      "Total ETA For This Segment  4985  =  255.0\n",
      "Total ETA For This Segment  4986  =  113.0\n",
      "Total ETA For This Segment  4987  =  343.0\n",
      "Total ETA For This Segment  4988  =  235.0\n"
     ]
    },
    {
     "name": "stderr",
     "output_type": "stream",
     "text": [
      "/tmp/ipykernel_4549/2500732777.py:76: RuntimeWarning: invalid value encountered in cast\n",
      "  start_array[idx] = np.asarray(segment_values1[0])\n",
      "/tmp/ipykernel_4549/2500732777.py:82: RuntimeWarning: invalid value encountered in cast\n",
      "  end_array[idx] = np.asarray(segment_values2[0])\n"
     ]
    },
    {
     "name": "stdout",
     "output_type": "stream",
     "text": [
      "Total ETA For This Segment  4990  =  174.0\n"
     ]
    },
    {
     "name": "stderr",
     "output_type": "stream",
     "text": [
      "/tmp/ipykernel_4549/2500732777.py:76: RuntimeWarning: invalid value encountered in cast\n",
      "  start_array[idx] = np.asarray(segment_values1[0])\n",
      "/tmp/ipykernel_4549/2500732777.py:82: RuntimeWarning: invalid value encountered in cast\n",
      "  end_array[idx] = np.asarray(segment_values2[0])\n"
     ]
    },
    {
     "name": "stdout",
     "output_type": "stream",
     "text": [
      "Total ETA For This Segment  4992  =  240.0\n",
      "Total ETA For This Segment  4993  =  226.0\n",
      "Total ETA For This Segment  4994  =  376.0\n",
      "Total ETA For This Segment  4995  =  87.0\n",
      "Total ETA For This Segment  4996  =  178.0\n",
      "Total ETA For This Segment  4997  =  132.0\n",
      "Total ETA For This Segment  4998  =  165.0\n",
      "Total ETA For This Segment  4999  =  269.0\n",
      "Total ETA For This Segment  5000  =  279.0\n",
      "Total ETA For This Segment  5001  =  258.0\n",
      "Total ETA For This Segment  5002  =  227.0\n",
      "Total ETA For This Segment  5003  =  201.0\n",
      "Total ETA For This Segment  5004  =  217.0\n",
      "Total ETA For This Segment  5005  =  260.0\n",
      "Total ETA For This Segment  5006  =  390.0\n",
      "Total ETA For This Segment  5007  =  428.0\n",
      "Total ETA For This Segment  5008  =  409.0\n",
      "Total ETA For This Segment  5009  =  376.0\n",
      "Total ETA For This Segment  5010  =  218.0\n",
      "Total ETA For This Segment  5011  =  123.0\n",
      "Total ETA For This Segment  5012  =  66.0\n",
      "Total ETA For This Segment  5013  =  274.0\n",
      "Total ETA For This Segment  5014  =  286.0\n",
      "Total ETA For This Segment  5015  =  372.0\n",
      "Total ETA For This Segment  5016  =  343.0\n",
      "Total ETA For This Segment  5017  =  460.0\n",
      "Total ETA For This Segment  5018  =  49.0\n",
      "Total ETA For This Segment  5019  =  478.0\n",
      "Total ETA For This Segment  5020  =  199.0\n",
      "Total ETA For This Segment  5021  =  406.0\n",
      "Total ETA For This Segment  5022  =  395.0\n"
     ]
    },
    {
     "name": "stderr",
     "output_type": "stream",
     "text": [
      "/tmp/ipykernel_4549/2500732777.py:76: RuntimeWarning: invalid value encountered in cast\n",
      "  start_array[idx] = np.asarray(segment_values1[0])\n",
      "/tmp/ipykernel_4549/2500732777.py:82: RuntimeWarning: invalid value encountered in cast\n",
      "  end_array[idx] = np.asarray(segment_values2[0])\n",
      "/tmp/ipykernel_4549/2500732777.py:76: RuntimeWarning: invalid value encountered in cast\n",
      "  start_array[idx] = np.asarray(segment_values1[0])\n",
      "/tmp/ipykernel_4549/2500732777.py:82: RuntimeWarning: invalid value encountered in cast\n",
      "  end_array[idx] = np.asarray(segment_values2[0])\n",
      "/tmp/ipykernel_4549/2500732777.py:76: RuntimeWarning: invalid value encountered in cast\n",
      "  start_array[idx] = np.asarray(segment_values1[0])\n",
      "/tmp/ipykernel_4549/2500732777.py:82: RuntimeWarning: invalid value encountered in cast\n",
      "  end_array[idx] = np.asarray(segment_values2[0])\n"
     ]
    },
    {
     "name": "stdout",
     "output_type": "stream",
     "text": [
      "Total ETA For This Segment  5027  =  340.0\n",
      "Total ETA For This Segment  5028  =  415.0\n"
     ]
    },
    {
     "name": "stderr",
     "output_type": "stream",
     "text": [
      "/tmp/ipykernel_4549/2500732777.py:76: RuntimeWarning: invalid value encountered in cast\n",
      "  start_array[idx] = np.asarray(segment_values1[0])\n",
      "/tmp/ipykernel_4549/2500732777.py:82: RuntimeWarning: invalid value encountered in cast\n",
      "  end_array[idx] = np.asarray(segment_values2[0])\n",
      "/tmp/ipykernel_4549/2500732777.py:76: RuntimeWarning: invalid value encountered in cast\n",
      "  start_array[idx] = np.asarray(segment_values1[0])\n",
      "/tmp/ipykernel_4549/2500732777.py:82: RuntimeWarning: invalid value encountered in cast\n",
      "  end_array[idx] = np.asarray(segment_values2[0])\n",
      "/tmp/ipykernel_4549/2500732777.py:76: RuntimeWarning: invalid value encountered in cast\n",
      "  start_array[idx] = np.asarray(segment_values1[0])\n",
      "/tmp/ipykernel_4549/2500732777.py:82: RuntimeWarning: invalid value encountered in cast\n",
      "  end_array[idx] = np.asarray(segment_values2[0])\n"
     ]
    },
    {
     "name": "stdout",
     "output_type": "stream",
     "text": [
      "Total ETA For This Segment  5036  =  92.0\n"
     ]
    },
    {
     "name": "stderr",
     "output_type": "stream",
     "text": [
      "/tmp/ipykernel_4549/2500732777.py:76: RuntimeWarning: invalid value encountered in cast\n",
      "  start_array[idx] = np.asarray(segment_values1[0])\n",
      "/tmp/ipykernel_4549/2500732777.py:82: RuntimeWarning: invalid value encountered in cast\n",
      "  end_array[idx] = np.asarray(segment_values2[0])\n",
      "/tmp/ipykernel_4549/2500732777.py:76: RuntimeWarning: invalid value encountered in cast\n",
      "  start_array[idx] = np.asarray(segment_values1[0])\n",
      "/tmp/ipykernel_4549/2500732777.py:82: RuntimeWarning: invalid value encountered in cast\n",
      "  end_array[idx] = np.asarray(segment_values2[0])\n"
     ]
    },
    {
     "name": "stdout",
     "output_type": "stream",
     "text": [
      "Total ETA For This Segment  5041  =  301.0\n",
      "Total ETA For This Segment  5042  =  298.0\n"
     ]
    },
    {
     "name": "stderr",
     "output_type": "stream",
     "text": [
      "/tmp/ipykernel_4549/2500732777.py:76: RuntimeWarning: invalid value encountered in cast\n",
      "  start_array[idx] = np.asarray(segment_values1[0])\n",
      "/tmp/ipykernel_4549/2500732777.py:82: RuntimeWarning: invalid value encountered in cast\n",
      "  end_array[idx] = np.asarray(segment_values2[0])\n",
      "/tmp/ipykernel_4549/2500732777.py:76: RuntimeWarning: invalid value encountered in cast\n",
      "  start_array[idx] = np.asarray(segment_values1[0])\n",
      "/tmp/ipykernel_4549/2500732777.py:82: RuntimeWarning: invalid value encountered in cast\n",
      "  end_array[idx] = np.asarray(segment_values2[0])\n",
      "/tmp/ipykernel_4549/2500732777.py:76: RuntimeWarning: invalid value encountered in cast\n",
      "  start_array[idx] = np.asarray(segment_values1[0])\n",
      "/tmp/ipykernel_4549/2500732777.py:82: RuntimeWarning: invalid value encountered in cast\n",
      "  end_array[idx] = np.asarray(segment_values2[0])\n",
      "/tmp/ipykernel_4549/2500732777.py:76: RuntimeWarning: invalid value encountered in cast\n",
      "  start_array[idx] = np.asarray(segment_values1[0])\n",
      "/tmp/ipykernel_4549/2500732777.py:82: RuntimeWarning: invalid value encountered in cast\n",
      "  end_array[idx] = np.asarray(segment_values2[0])\n",
      "/tmp/ipykernel_4549/2500732777.py:76: RuntimeWarning: invalid value encountered in cast\n",
      "  start_array[idx] = np.asarray(segment_values1[0])\n",
      "/tmp/ipykernel_4549/2500732777.py:82: RuntimeWarning: invalid value encountered in cast\n",
      "  end_array[idx] = np.asarray(segment_values2[0])\n"
     ]
    },
    {
     "name": "stdout",
     "output_type": "stream",
     "text": [
      "Total ETA For This Segment  5049  =  40.0\n",
      "Total ETA For This Segment  5050  =  384.0\n"
     ]
    },
    {
     "name": "stderr",
     "output_type": "stream",
     "text": [
      "/tmp/ipykernel_4549/2500732777.py:76: RuntimeWarning: invalid value encountered in cast\n",
      "  start_array[idx] = np.asarray(segment_values1[0])\n",
      "/tmp/ipykernel_4549/2500732777.py:82: RuntimeWarning: invalid value encountered in cast\n",
      "  end_array[idx] = np.asarray(segment_values2[0])\n"
     ]
    },
    {
     "name": "stdout",
     "output_type": "stream",
     "text": [
      "Total ETA For This Segment  5052  =  312.0\n",
      "Total ETA For This Segment  5053  =  443.0\n",
      "Total ETA For This Segment  5054  =  312.0\n",
      "Total ETA For This Segment  5055  =  126.0\n",
      "Total ETA For This Segment  5056  =  134.0\n",
      "Total ETA For This Segment  5057  =  183.0\n",
      "Total ETA For This Segment  5058  =  383.0\n",
      "Total ETA For This Segment  5059  =  186.0\n",
      "Total ETA For This Segment  5060  =  175.0\n",
      "Total ETA For This Segment  5061  =  131.0\n",
      "Total ETA For This Segment  5062  =  188.0\n",
      "Total ETA For This Segment  5063  =  197.0\n",
      "Total ETA For This Segment  5064  =  306.0\n",
      "Total ETA For This Segment  5065  =  173.0\n"
     ]
    },
    {
     "name": "stderr",
     "output_type": "stream",
     "text": [
      "/tmp/ipykernel_4549/2500732777.py:76: RuntimeWarning: invalid value encountered in cast\n",
      "  start_array[idx] = np.asarray(segment_values1[0])\n",
      "/tmp/ipykernel_4549/2500732777.py:82: RuntimeWarning: invalid value encountered in cast\n",
      "  end_array[idx] = np.asarray(segment_values2[0])\n",
      "/tmp/ipykernel_4549/2500732777.py:76: RuntimeWarning: invalid value encountered in cast\n",
      "  start_array[idx] = np.asarray(segment_values1[0])\n",
      "/tmp/ipykernel_4549/2500732777.py:82: RuntimeWarning: invalid value encountered in cast\n",
      "  end_array[idx] = np.asarray(segment_values2[0])\n"
     ]
    },
    {
     "name": "stdout",
     "output_type": "stream",
     "text": [
      "Total ETA For This Segment  5069  =  85.0\n",
      "Total ETA For This Segment  5070  =  166.0\n",
      "Total ETA For This Segment  5071  =  201.0\n",
      "Total ETA For This Segment  5072  =  169.0\n",
      "Total ETA For This Segment  5073  =  214.0\n",
      "Total ETA For This Segment  5074  =  235.0\n",
      "Total ETA For This Segment  5075  =  149.0\n",
      "Total ETA For This Segment  5076  =  234.0\n",
      "Total ETA For This Segment  5078  =  122.0\n",
      "Total ETA For This Segment  5079  =  109.0\n",
      "Total ETA For This Segment  5080  =  182.0\n"
     ]
    },
    {
     "name": "stderr",
     "output_type": "stream",
     "text": [
      "/tmp/ipykernel_4549/2500732777.py:76: RuntimeWarning: invalid value encountered in cast\n",
      "  start_array[idx] = np.asarray(segment_values1[0])\n",
      "/tmp/ipykernel_4549/2500732777.py:82: RuntimeWarning: invalid value encountered in cast\n",
      "  end_array[idx] = np.asarray(segment_values2[0])\n"
     ]
    },
    {
     "name": "stdout",
     "output_type": "stream",
     "text": [
      "Total ETA For This Segment  5082  =  308.0\n"
     ]
    },
    {
     "name": "stderr",
     "output_type": "stream",
     "text": [
      "/tmp/ipykernel_4549/2500732777.py:76: RuntimeWarning: invalid value encountered in cast\n",
      "  start_array[idx] = np.asarray(segment_values1[0])\n",
      "/tmp/ipykernel_4549/2500732777.py:82: RuntimeWarning: invalid value encountered in cast\n",
      "  end_array[idx] = np.asarray(segment_values2[0])\n",
      "/tmp/ipykernel_4549/2500732777.py:76: RuntimeWarning: invalid value encountered in cast\n",
      "  start_array[idx] = np.asarray(segment_values1[0])\n",
      "/tmp/ipykernel_4549/2500732777.py:82: RuntimeWarning: invalid value encountered in cast\n",
      "  end_array[idx] = np.asarray(segment_values2[0])\n",
      "/tmp/ipykernel_4549/2500732777.py:76: RuntimeWarning: invalid value encountered in cast\n",
      "  start_array[idx] = np.asarray(segment_values1[0])\n",
      "/tmp/ipykernel_4549/2500732777.py:82: RuntimeWarning: invalid value encountered in cast\n",
      "  end_array[idx] = np.asarray(segment_values2[0])\n",
      "/tmp/ipykernel_4549/2500732777.py:76: RuntimeWarning: invalid value encountered in cast\n",
      "  start_array[idx] = np.asarray(segment_values1[0])\n",
      "/tmp/ipykernel_4549/2500732777.py:82: RuntimeWarning: invalid value encountered in cast\n",
      "  end_array[idx] = np.asarray(segment_values2[0])\n"
     ]
    },
    {
     "name": "stdout",
     "output_type": "stream",
     "text": [
      "Total ETA For This Segment  5089  =  269.0\n",
      "Total ETA For This Segment  5090  =  247.0\n",
      "Total ETA For This Segment  5091  =  218.0\n"
     ]
    },
    {
     "name": "stderr",
     "output_type": "stream",
     "text": [
      "/tmp/ipykernel_4549/2500732777.py:76: RuntimeWarning: invalid value encountered in cast\n",
      "  start_array[idx] = np.asarray(segment_values1[0])\n",
      "/tmp/ipykernel_4549/2500732777.py:82: RuntimeWarning: invalid value encountered in cast\n",
      "  end_array[idx] = np.asarray(segment_values2[0])\n",
      "/tmp/ipykernel_4549/2500732777.py:76: RuntimeWarning: invalid value encountered in cast\n",
      "  start_array[idx] = np.asarray(segment_values1[0])\n",
      "/tmp/ipykernel_4549/2500732777.py:82: RuntimeWarning: invalid value encountered in cast\n",
      "  end_array[idx] = np.asarray(segment_values2[0])\n",
      "/tmp/ipykernel_4549/2500732777.py:76: RuntimeWarning: invalid value encountered in cast\n",
      "  start_array[idx] = np.asarray(segment_values1[0])\n",
      "/tmp/ipykernel_4549/2500732777.py:82: RuntimeWarning: invalid value encountered in cast\n",
      "  end_array[idx] = np.asarray(segment_values2[0])\n"
     ]
    },
    {
     "name": "stdout",
     "output_type": "stream",
     "text": [
      "Total ETA For This Segment  5096  =  193.0\n"
     ]
    },
    {
     "name": "stderr",
     "output_type": "stream",
     "text": [
      "/tmp/ipykernel_4549/2500732777.py:76: RuntimeWarning: invalid value encountered in cast\n",
      "  start_array[idx] = np.asarray(segment_values1[0])\n",
      "/tmp/ipykernel_4549/2500732777.py:82: RuntimeWarning: invalid value encountered in cast\n",
      "  end_array[idx] = np.asarray(segment_values2[0])\n",
      "/tmp/ipykernel_4549/2500732777.py:76: RuntimeWarning: invalid value encountered in cast\n",
      "  start_array[idx] = np.asarray(segment_values1[0])\n",
      "/tmp/ipykernel_4549/2500732777.py:82: RuntimeWarning: invalid value encountered in cast\n",
      "  end_array[idx] = np.asarray(segment_values2[0])\n",
      "/tmp/ipykernel_4549/2500732777.py:76: RuntimeWarning: invalid value encountered in cast\n",
      "  start_array[idx] = np.asarray(segment_values1[0])\n",
      "/tmp/ipykernel_4549/2500732777.py:82: RuntimeWarning: invalid value encountered in cast\n",
      "  end_array[idx] = np.asarray(segment_values2[0])\n"
     ]
    },
    {
     "name": "stdout",
     "output_type": "stream",
     "text": [
      "Total ETA For This Segment  5100  =  246.0\n"
     ]
    },
    {
     "name": "stderr",
     "output_type": "stream",
     "text": [
      "/tmp/ipykernel_4549/2500732777.py:76: RuntimeWarning: invalid value encountered in cast\n",
      "  start_array[idx] = np.asarray(segment_values1[0])\n",
      "/tmp/ipykernel_4549/2500732777.py:82: RuntimeWarning: invalid value encountered in cast\n",
      "  end_array[idx] = np.asarray(segment_values2[0])\n"
     ]
    },
    {
     "name": "stdout",
     "output_type": "stream",
     "text": [
      "Total ETA For This Segment  5102  =  104.0\n",
      "Total ETA For This Segment  5103  =  323.0\n",
      "Total ETA For This Segment  5104  =  152.0\n",
      "Total ETA For This Segment  5105  =  276.0\n",
      "Total ETA For This Segment  5106  =  327.0\n",
      "Total ETA For This Segment  5107  =  429.0\n",
      "Total ETA For This Segment  5108  =  248.0\n",
      "Total ETA For This Segment  5109  =  122.0\n",
      "Total ETA For This Segment  5110  =  143.0\n",
      "Total ETA For This Segment  5111  =  48.0\n",
      "Total ETA For This Segment  5112  =  165.0\n",
      "Total ETA For This Segment  5113  =  237.0\n",
      "Total ETA For This Segment  5114  =  97.0\n",
      "Total ETA For This Segment  5115  =  417.0\n",
      "Total ETA For This Segment  5116  =  212.0\n",
      "Total ETA For This Segment  5117  =  224.0\n",
      "Total ETA For This Segment  5118  =  166.0\n",
      "Total ETA For This Segment  5119  =  402.0\n",
      "Total ETA For This Segment  5120  =  336.0\n",
      "Total ETA For This Segment  5121  =  271.0\n",
      "Total ETA For This Segment  5122  =  41.0\n",
      "Total ETA For This Segment  5123  =  426.0\n",
      "Total ETA For This Segment  5124  =  341.0\n",
      "Total ETA For This Segment  5125  =  107.0\n",
      "Total ETA For This Segment  5126  =  136.0\n",
      "Total ETA For This Segment  5127  =  220.0\n",
      "Total ETA For This Segment  5128  =  303.0\n",
      "Total ETA For This Segment  5129  =  135.0\n",
      "Total ETA For This Segment  5130  =  385.0\n",
      "Total ETA For This Segment  5131  =  321.0\n"
     ]
    },
    {
     "name": "stderr",
     "output_type": "stream",
     "text": [
      "/tmp/ipykernel_4549/2500732777.py:76: RuntimeWarning: invalid value encountered in cast\n",
      "  start_array[idx] = np.asarray(segment_values1[0])\n",
      "/tmp/ipykernel_4549/2500732777.py:82: RuntimeWarning: invalid value encountered in cast\n",
      "  end_array[idx] = np.asarray(segment_values2[0])\n"
     ]
    },
    {
     "name": "stdout",
     "output_type": "stream",
     "text": [
      "Total ETA For This Segment  5134  =  254.0\n",
      "Total ETA For This Segment  5135  =  187.0\n",
      "Total ETA For This Segment  5136  =  295.0\n",
      "Total ETA For This Segment  5137  =  243.0\n",
      "Total ETA For This Segment  5138  =  247.0\n",
      "Total ETA For This Segment  5140  =  348.0\n",
      "Total ETA For This Segment  5141  =  237.0\n",
      "Total ETA For This Segment  5142  =  317.0\n",
      "Total ETA For This Segment  5143  =  249.0\n",
      "Total ETA For This Segment  5144  =  324.0\n"
     ]
    },
    {
     "name": "stderr",
     "output_type": "stream",
     "text": [
      "/tmp/ipykernel_4549/2500732777.py:76: RuntimeWarning: invalid value encountered in cast\n",
      "  start_array[idx] = np.asarray(segment_values1[0])\n",
      "/tmp/ipykernel_4549/2500732777.py:82: RuntimeWarning: invalid value encountered in cast\n",
      "  end_array[idx] = np.asarray(segment_values2[0])\n",
      "/tmp/ipykernel_4549/2500732777.py:76: RuntimeWarning: invalid value encountered in cast\n",
      "  start_array[idx] = np.asarray(segment_values1[0])\n",
      "/tmp/ipykernel_4549/2500732777.py:82: RuntimeWarning: invalid value encountered in cast\n",
      "  end_array[idx] = np.asarray(segment_values2[0])\n"
     ]
    },
    {
     "name": "stdout",
     "output_type": "stream",
     "text": [
      "Total ETA For This Segment  5147  =  401.0\n",
      "Total ETA For This Segment  5148  =  380.0\n",
      "Total ETA For This Segment  5149  =  244.0\n"
     ]
    },
    {
     "name": "stderr",
     "output_type": "stream",
     "text": [
      "/tmp/ipykernel_4549/2500732777.py:76: RuntimeWarning: invalid value encountered in cast\n",
      "  start_array[idx] = np.asarray(segment_values1[0])\n",
      "/tmp/ipykernel_4549/2500732777.py:82: RuntimeWarning: invalid value encountered in cast\n",
      "  end_array[idx] = np.asarray(segment_values2[0])\n"
     ]
    },
    {
     "name": "stdout",
     "output_type": "stream",
     "text": [
      "Total ETA For This Segment  5151  =  193.0\n",
      "Total ETA For This Segment  5326  =  38.0\n",
      "Total ETA For This Segment  5327  =  266.0\n",
      "Total ETA For This Segment  5328  =  126.0\n",
      "Total ETA For This Segment  5329  =  150.0\n",
      "Total ETA For This Segment  5330  =  94.0\n",
      "Total ETA For This Segment  5331  =  47.0\n",
      "Total ETA For This Segment  5332  =  151.0\n",
      "Total ETA For This Segment  5333  =  194.0\n",
      "Total ETA For This Segment  5334  =  114.0\n",
      "Total ETA For This Segment  5335  =  171.0\n",
      "Total ETA For This Segment  5336  =  129.0\n",
      "Total ETA For This Segment  5337  =  140.0\n",
      "Total ETA For This Segment  5338  =  75.0\n",
      "Total ETA For This Segment  5339  =  14.0\n",
      "Total ETA For This Segment  5340  =  1.0\n",
      "Total ETA For This Segment  5341  =  484.0\n",
      "Total ETA For This Segment  5342  =  162.0\n",
      "Total ETA For This Segment  5343  =  99.0\n",
      "Total ETA For This Segment  5344  =  231.0\n",
      "Total ETA For This Segment  5345  =  213.0\n",
      "Total ETA For This Segment  5346  =  126.0\n",
      "Total ETA For This Segment  5347  =  119.0\n",
      "Total ETA For This Segment  5348  =  150.0\n",
      "Total ETA For This Segment  5349  =  422.0\n",
      "Total ETA For This Segment  5350  =  349.0\n",
      "Total ETA For This Segment  5351  =  349.0\n",
      "Total ETA For This Segment  5352  =  255.0\n",
      "Total ETA For This Segment  5353  =  169.0\n",
      "Total ETA For This Segment  5354  =  269.0\n",
      "Total ETA For This Segment  5355  =  212.0\n",
      "Total ETA For This Segment  5356  =  131.0\n",
      "Total ETA For This Segment  5357  =  145.0\n",
      "Total ETA For This Segment  5358  =  338.0\n",
      "Total ETA For This Segment  5359  =  203.0\n",
      "Total ETA For This Segment  5360  =  223.0\n",
      "Total ETA For This Segment  5361  =  287.0\n",
      "Total ETA For This Segment  5362  =  232.0\n",
      "Total ETA For This Segment  5363  =  299.0\n",
      "Total ETA For This Segment  5364  =  448.0\n",
      "Total ETA For This Segment  5365  =  233.0\n",
      "Total ETA For This Segment  5366  =  220.0\n",
      "Total ETA For This Segment  5367  =  411.0\n",
      "Total ETA For This Segment  5368  =  307.0\n",
      "Total ETA For This Segment  5369  =  350.0\n",
      "Total ETA For This Segment  5370  =  185.0\n",
      "Total ETA For This Segment  5371  =  170.0\n",
      "Total ETA For This Segment  5372  =  97.0\n",
      "Total ETA For This Segment  5373  =  193.0\n",
      "Total ETA For This Segment  5374  =  185.0\n",
      "Total ETA For This Segment  5375  =  145.0\n",
      "Total ETA For This Segment  5376  =  26.0\n",
      "Total ETA For This Segment  5377  =  102.0\n",
      "Total ETA For This Segment  5378  =  179.0\n",
      "Total ETA For This Segment  5379  =  67.0\n",
      "Total ETA For This Segment  5380  =  205.0\n",
      "Total ETA For This Segment  5381  =  274.0\n",
      "Total ETA For This Segment  5382  =  165.0\n",
      "Total ETA For This Segment  5383  =  177.0\n",
      "Total ETA For This Segment  5384  =  132.0\n",
      "Total ETA For This Segment  5385  =  226.0\n",
      "Total ETA For This Segment  5386  =  198.0\n",
      "Total ETA For This Segment  5387  =  55.0\n",
      "Total ETA For This Segment  5388  =  153.0\n",
      "Total ETA For This Segment  5389  =  135.0\n",
      "Total ETA For This Segment  5390  =  427.0\n",
      "Total ETA For This Segment  5391  =  214.0\n",
      "Total ETA For This Segment  5392  =  325.0\n",
      "Total ETA For This Segment  5393  =  191.0\n",
      "Total ETA For This Segment  5394  =  163.0\n",
      "Total ETA For This Segment  5395  =  401.0\n",
      "Total ETA For This Segment  5396  =  422.0\n",
      "Total ETA For This Segment  5397  =  349.0\n",
      "Total ETA For This Segment  5398  =  303.0\n",
      "Total ETA For This Segment  5399  =  13.0\n",
      "Total ETA For This Segment  5400  =  62.0\n",
      "Total ETA For This Segment  5401  =  54.0\n",
      "Total ETA For This Segment  5402  =  370.0\n",
      "Total ETA For This Segment  5403  =  381.0\n",
      "Total ETA For This Segment  5404  =  243.0\n",
      "Total ETA For This Segment  5405  =  249.0\n",
      "Total ETA For This Segment  5406  =  432.0\n",
      "Total ETA For This Segment  5407  =  597.0\n",
      "Total ETA For This Segment  5408  =  537.0\n",
      "Total ETA For This Segment  5409  =  547.0\n",
      "Total ETA For This Segment  5410  =  59.0\n",
      "Total ETA For This Segment  5411  =  358.0\n",
      "Total ETA For This Segment  5412  =  244.0\n"
     ]
    },
    {
     "name": "stderr",
     "output_type": "stream",
     "text": [
      "/tmp/ipykernel_4549/2500732777.py:76: RuntimeWarning: invalid value encountered in cast\n",
      "  start_array[idx] = np.asarray(segment_values1[0])\n",
      "/tmp/ipykernel_4549/2500732777.py:82: RuntimeWarning: invalid value encountered in cast\n",
      "  end_array[idx] = np.asarray(segment_values2[0])\n"
     ]
    },
    {
     "name": "stdout",
     "output_type": "stream",
     "text": [
      "Total ETA For This Segment  5414  =  178.0\n",
      "Total ETA For This Segment  5415  =  227.0\n",
      "Total ETA For This Segment  5416  =  245.0\n",
      "Total ETA For This Segment  5417  =  123.0\n"
     ]
    },
    {
     "name": "stderr",
     "output_type": "stream",
     "text": [
      "/tmp/ipykernel_4549/2500732777.py:76: RuntimeWarning: invalid value encountered in cast\n",
      "  start_array[idx] = np.asarray(segment_values1[0])\n",
      "/tmp/ipykernel_4549/2500732777.py:82: RuntimeWarning: invalid value encountered in cast\n",
      "  end_array[idx] = np.asarray(segment_values2[0])\n",
      "/tmp/ipykernel_4549/2500732777.py:76: RuntimeWarning: invalid value encountered in cast\n",
      "  start_array[idx] = np.asarray(segment_values1[0])\n",
      "/tmp/ipykernel_4549/2500732777.py:82: RuntimeWarning: invalid value encountered in cast\n",
      "  end_array[idx] = np.asarray(segment_values2[0])\n",
      "/tmp/ipykernel_4549/2500732777.py:76: RuntimeWarning: invalid value encountered in cast\n",
      "  start_array[idx] = np.asarray(segment_values1[0])\n",
      "/tmp/ipykernel_4549/2500732777.py:82: RuntimeWarning: invalid value encountered in cast\n",
      "  end_array[idx] = np.asarray(segment_values2[0])\n"
     ]
    },
    {
     "name": "stdout",
     "output_type": "stream",
     "text": [
      "Total ETA For This Segment  5421  =  238.0\n",
      "Total ETA For This Segment  5422  =  375.0\n",
      "Total ETA For This Segment  5423  =  235.0\n",
      "Total ETA For This Segment  5424  =  222.0\n",
      "Total ETA For This Segment  5425  =  151.0\n",
      "Total ETA For This Segment  5426  =  124.0\n",
      "Total ETA For This Segment  5427  =  249.0\n",
      "Total ETA For This Segment  5428  =  221.0\n",
      "Total ETA For This Segment  5429  =  379.0\n",
      "Total ETA For This Segment  5430  =  177.0\n",
      "Total ETA For This Segment  5431  =  119.0\n",
      "Total ETA For This Segment  5432  =  374.0\n",
      "Total ETA For This Segment  5433  =  195.0\n",
      "Total ETA For This Segment  5434  =  440.0\n",
      "Total ETA For This Segment  5435  =  269.0\n"
     ]
    },
    {
     "name": "stderr",
     "output_type": "stream",
     "text": [
      "/tmp/ipykernel_4549/2500732777.py:76: RuntimeWarning: invalid value encountered in cast\n",
      "  start_array[idx] = np.asarray(segment_values1[0])\n",
      "/tmp/ipykernel_4549/2500732777.py:82: RuntimeWarning: invalid value encountered in cast\n",
      "  end_array[idx] = np.asarray(segment_values2[0])\n"
     ]
    },
    {
     "name": "stdout",
     "output_type": "stream",
     "text": [
      "Total ETA For This Segment  5437  =  275.0\n"
     ]
    },
    {
     "name": "stderr",
     "output_type": "stream",
     "text": [
      "/tmp/ipykernel_4549/2500732777.py:76: RuntimeWarning: invalid value encountered in cast\n",
      "  start_array[idx] = np.asarray(segment_values1[0])\n",
      "/tmp/ipykernel_4549/2500732777.py:82: RuntimeWarning: invalid value encountered in cast\n",
      "  end_array[idx] = np.asarray(segment_values2[0])\n"
     ]
    },
    {
     "name": "stdout",
     "output_type": "stream",
     "text": [
      "Total ETA For This Segment  5439  =  114.0\n",
      "Total ETA For This Segment  5440  =  303.0\n",
      "Total ETA For This Segment  5441  =  313.0\n",
      "Total ETA For This Segment  5442  =  129.0\n",
      "Total ETA For This Segment  5443  =  273.0\n",
      "Total ETA For This Segment  5444  =  251.0\n",
      "Total ETA For This Segment  5445  =  346.0\n"
     ]
    },
    {
     "name": "stderr",
     "output_type": "stream",
     "text": [
      "/tmp/ipykernel_4549/2500732777.py:76: RuntimeWarning: invalid value encountered in cast\n",
      "  start_array[idx] = np.asarray(segment_values1[0])\n",
      "/tmp/ipykernel_4549/2500732777.py:82: RuntimeWarning: invalid value encountered in cast\n",
      "  end_array[idx] = np.asarray(segment_values2[0])\n"
     ]
    },
    {
     "name": "stdout",
     "output_type": "stream",
     "text": [
      "Total ETA For This Segment  5447  =  205.0\n",
      "Total ETA For This Segment  5448  =  217.0\n",
      "Total ETA For This Segment  5449  =  373.0\n",
      "Total ETA For This Segment  5450  =  224.0\n",
      "Total ETA For This Segment  5451  =  125.0\n",
      "Total ETA For This Segment  5452  =  425.0\n"
     ]
    },
    {
     "name": "stderr",
     "output_type": "stream",
     "text": [
      "/tmp/ipykernel_4549/2500732777.py:76: RuntimeWarning: invalid value encountered in cast\n",
      "  start_array[idx] = np.asarray(segment_values1[0])\n",
      "/tmp/ipykernel_4549/2500732777.py:82: RuntimeWarning: invalid value encountered in cast\n",
      "  end_array[idx] = np.asarray(segment_values2[0])\n",
      "/tmp/ipykernel_4549/2500732777.py:76: RuntimeWarning: invalid value encountered in cast\n",
      "  start_array[idx] = np.asarray(segment_values1[0])\n",
      "/tmp/ipykernel_4549/2500732777.py:82: RuntimeWarning: invalid value encountered in cast\n",
      "  end_array[idx] = np.asarray(segment_values2[0])\n"
     ]
    },
    {
     "name": "stdout",
     "output_type": "stream",
     "text": [
      "Total ETA For This Segment  5455  =  230.0\n",
      "Total ETA For This Segment  5456  =  319.0\n",
      "Total ETA For This Segment  5457  =  171.0\n",
      "Total ETA For This Segment  5458  =  430.0\n",
      "Total ETA For This Segment  5459  =  467.0\n",
      "Total ETA For This Segment  5460  =  178.0\n",
      "Total ETA For This Segment  5461  =  79.0\n"
     ]
    },
    {
     "name": "stderr",
     "output_type": "stream",
     "text": [
      "/tmp/ipykernel_4549/2500732777.py:76: RuntimeWarning: invalid value encountered in cast\n",
      "  start_array[idx] = np.asarray(segment_values1[0])\n",
      "/tmp/ipykernel_4549/2500732777.py:82: RuntimeWarning: invalid value encountered in cast\n",
      "  end_array[idx] = np.asarray(segment_values2[0])\n"
     ]
    },
    {
     "name": "stdout",
     "output_type": "stream",
     "text": [
      "Total ETA For This Segment  5463  =  242.0\n",
      "Total ETA For This Segment  5464  =  239.0\n",
      "Total ETA For This Segment  5465  =  418.0\n",
      "Total ETA For This Segment  5466  =  312.0\n",
      "Total ETA For This Segment  5467  =  130.0\n"
     ]
    },
    {
     "name": "stderr",
     "output_type": "stream",
     "text": [
      "/tmp/ipykernel_4549/2500732777.py:76: RuntimeWarning: invalid value encountered in cast\n",
      "  start_array[idx] = np.asarray(segment_values1[0])\n",
      "/tmp/ipykernel_4549/2500732777.py:82: RuntimeWarning: invalid value encountered in cast\n",
      "  end_array[idx] = np.asarray(segment_values2[0])\n"
     ]
    },
    {
     "name": "stdout",
     "output_type": "stream",
     "text": [
      "Total ETA For This Segment  5469  =  85.0\n"
     ]
    },
    {
     "name": "stderr",
     "output_type": "stream",
     "text": [
      "/tmp/ipykernel_4549/2500732777.py:76: RuntimeWarning: invalid value encountered in cast\n",
      "  start_array[idx] = np.asarray(segment_values1[0])\n",
      "/tmp/ipykernel_4549/2500732777.py:82: RuntimeWarning: invalid value encountered in cast\n",
      "  end_array[idx] = np.asarray(segment_values2[0])\n",
      "/tmp/ipykernel_4549/2500732777.py:76: RuntimeWarning: invalid value encountered in cast\n",
      "  start_array[idx] = np.asarray(segment_values1[0])\n",
      "/tmp/ipykernel_4549/2500732777.py:82: RuntimeWarning: invalid value encountered in cast\n",
      "  end_array[idx] = np.asarray(segment_values2[0])\n"
     ]
    },
    {
     "name": "stdout",
     "output_type": "stream",
     "text": [
      "Total ETA For This Segment  5472  =  177.0\n",
      "Total ETA For This Segment  5473  =  251.0\n",
      "Total ETA For This Segment  5474  =  285.0\n",
      "Total ETA For This Segment  5475  =  252.0\n",
      "Total ETA For This Segment  5476  =  367.0\n",
      "Total ETA For This Segment  5477  =  380.0\n",
      "Total ETA For This Segment  5478  =  295.0\n",
      "Total ETA For This Segment  5479  =  224.0\n",
      "Total ETA For This Segment  5480  =  93.0\n",
      "Total ETA For This Segment  5481  =  276.0\n",
      "Total ETA For This Segment  5482  =  293.0\n",
      "Total ETA For This Segment  5483  =  265.0\n",
      "Total ETA For This Segment  5484  =  53.0\n",
      "Total ETA For This Segment  5485  =  136.0\n",
      "Total ETA For This Segment  5486  =  130.0\n",
      "Total ETA For This Segment  5487  =  249.0\n",
      "Total ETA For This Segment  5488  =  140.0\n",
      "Total ETA For This Segment  5489  =  132.0\n",
      "Total ETA For This Segment  5490  =  160.0\n",
      "Total ETA For This Segment  5491  =  54.0\n",
      "Total ETA For This Segment  5492  =  73.0\n"
     ]
    },
    {
     "name": "stderr",
     "output_type": "stream",
     "text": [
      "/tmp/ipykernel_4549/2500732777.py:76: RuntimeWarning: invalid value encountered in cast\n",
      "  start_array[idx] = np.asarray(segment_values1[0])\n",
      "/tmp/ipykernel_4549/2500732777.py:82: RuntimeWarning: invalid value encountered in cast\n",
      "  end_array[idx] = np.asarray(segment_values2[0])\n"
     ]
    },
    {
     "name": "stdout",
     "output_type": "stream",
     "text": [
      "Total ETA For This Segment  5494  =  259.0\n"
     ]
    },
    {
     "name": "stderr",
     "output_type": "stream",
     "text": [
      "/tmp/ipykernel_4549/2500732777.py:76: RuntimeWarning: invalid value encountered in cast\n",
      "  start_array[idx] = np.asarray(segment_values1[0])\n",
      "/tmp/ipykernel_4549/2500732777.py:82: RuntimeWarning: invalid value encountered in cast\n",
      "  end_array[idx] = np.asarray(segment_values2[0])\n"
     ]
    },
    {
     "name": "stdout",
     "output_type": "stream",
     "text": [
      "Total ETA For This Segment  5496  =  169.0\n",
      "Total ETA For This Segment  5497  =  177.0\n",
      "Total ETA For This Segment  5498  =  207.0\n",
      "Total ETA For This Segment  5499  =  265.0\n",
      "Total ETA For This Segment  5500  =  196.0\n"
     ]
    },
    {
     "name": "stderr",
     "output_type": "stream",
     "text": [
      "/tmp/ipykernel_4549/2500732777.py:76: RuntimeWarning: invalid value encountered in cast\n",
      "  start_array[idx] = np.asarray(segment_values1[0])\n",
      "/tmp/ipykernel_4549/2500732777.py:82: RuntimeWarning: invalid value encountered in cast\n",
      "  end_array[idx] = np.asarray(segment_values2[0])\n",
      "/tmp/ipykernel_4549/2500732777.py:76: RuntimeWarning: invalid value encountered in cast\n",
      "  start_array[idx] = np.asarray(segment_values1[0])\n",
      "/tmp/ipykernel_4549/2500732777.py:82: RuntimeWarning: invalid value encountered in cast\n",
      "  end_array[idx] = np.asarray(segment_values2[0])\n"
     ]
    },
    {
     "name": "stdout",
     "output_type": "stream",
     "text": [
      "Total ETA For This Segment  5503  =  152.0\n"
     ]
    },
    {
     "name": "stderr",
     "output_type": "stream",
     "text": [
      "/tmp/ipykernel_4549/2500732777.py:76: RuntimeWarning: invalid value encountered in cast\n",
      "  start_array[idx] = np.asarray(segment_values1[0])\n",
      "/tmp/ipykernel_4549/2500732777.py:82: RuntimeWarning: invalid value encountered in cast\n",
      "  end_array[idx] = np.asarray(segment_values2[0])\n"
     ]
    },
    {
     "name": "stdout",
     "output_type": "stream",
     "text": [
      "Total ETA For This Segment  5505  =  125.0\n"
     ]
    },
    {
     "name": "stderr",
     "output_type": "stream",
     "text": [
      "/tmp/ipykernel_4549/2500732777.py:76: RuntimeWarning: invalid value encountered in cast\n",
      "  start_array[idx] = np.asarray(segment_values1[0])\n",
      "/tmp/ipykernel_4549/2500732777.py:82: RuntimeWarning: invalid value encountered in cast\n",
      "  end_array[idx] = np.asarray(segment_values2[0])\n",
      "/tmp/ipykernel_4549/2500732777.py:76: RuntimeWarning: invalid value encountered in cast\n",
      "  start_array[idx] = np.asarray(segment_values1[0])\n",
      "/tmp/ipykernel_4549/2500732777.py:82: RuntimeWarning: invalid value encountered in cast\n",
      "  end_array[idx] = np.asarray(segment_values2[0])\n",
      "/tmp/ipykernel_4549/2500732777.py:76: RuntimeWarning: invalid value encountered in cast\n",
      "  start_array[idx] = np.asarray(segment_values1[0])\n",
      "/tmp/ipykernel_4549/2500732777.py:82: RuntimeWarning: invalid value encountered in cast\n",
      "  end_array[idx] = np.asarray(segment_values2[0])\n"
     ]
    },
    {
     "name": "stdout",
     "output_type": "stream",
     "text": [
      "Total ETA For This Segment  5509  =  315.0\n",
      "Total ETA For This Segment  5676  =  88.0\n",
      "Total ETA For This Segment  5677  =  162.0\n",
      "Total ETA For This Segment  5678  =  152.0\n",
      "Total ETA For This Segment  5679  =  188.0\n",
      "Total ETA For This Segment  5680  =  145.0\n",
      "Total ETA For This Segment  5681  =  209.0\n",
      "Total ETA For This Segment  5682  =  308.0\n",
      "Total ETA For This Segment  5683  =  187.0\n",
      "Total ETA For This Segment  5684  =  248.0\n",
      "Total ETA For This Segment  5685  =  277.0\n",
      "Total ETA For This Segment  5686  =  297.0\n",
      "Total ETA For This Segment  5687  =  300.0\n",
      "Total ETA For This Segment  5688  =  164.0\n",
      "Total ETA For This Segment  5689  =  108.0\n",
      "Total ETA For This Segment  5690  =  327.0\n",
      "Total ETA For This Segment  5691  =  147.0\n",
      "Total ETA For This Segment  5692  =  182.0\n",
      "Total ETA For This Segment  5693  =  232.0\n",
      "Total ETA For This Segment  5694  =  108.0\n",
      "Total ETA For This Segment  5695  =  108.0\n",
      "Total ETA For This Segment  5696  =  117.0\n",
      "Total ETA For This Segment  5697  =  61.0\n",
      "Total ETA For This Segment  5698  =  70.0\n",
      "Total ETA For This Segment  5699  =  83.0\n",
      "Total ETA For This Segment  5700  =  227.0\n",
      "Total ETA For This Segment  5701  =  179.0\n",
      "Total ETA For This Segment  5702  =  221.0\n",
      "Total ETA For This Segment  5703  =  202.0\n",
      "Total ETA For This Segment  5704  =  128.0\n",
      "Total ETA For This Segment  5705  =  101.0\n",
      "Total ETA For This Segment  5706  =  172.0\n",
      "Total ETA For This Segment  5707  =  51.0\n",
      "Total ETA For This Segment  5708  =  160.0\n",
      "Total ETA For This Segment  5709  =  181.0\n",
      "Total ETA For This Segment  5710  =  66.0\n",
      "Total ETA For This Segment  5711  =  99.0\n",
      "Total ETA For This Segment  5712  =  256.0\n",
      "Total ETA For This Segment  5713  =  370.0\n",
      "Total ETA For This Segment  5714  =  27.0\n",
      "Total ETA For This Segment  5715  =  386.0\n",
      "Total ETA For This Segment  5716  =  156.0\n",
      "Total ETA For This Segment  5717  =  251.0\n",
      "Total ETA For This Segment  5718  =  230.0\n",
      "Total ETA For This Segment  5719  =  252.0\n",
      "Total ETA For This Segment  5720  =  170.0\n",
      "Total ETA For This Segment  5721  =  344.0\n",
      "Total ETA For This Segment  5722  =  221.0\n",
      "Total ETA For This Segment  5723  =  309.0\n",
      "Total ETA For This Segment  5724  =  230.0\n",
      "Total ETA For This Segment  5725  =  104.0\n",
      "Total ETA For This Segment  5726  =  233.0\n",
      "Total ETA For This Segment  5727  =  300.0\n",
      "Total ETA For This Segment  5728  =  254.0\n",
      "Total ETA For This Segment  5729  =  277.0\n",
      "Total ETA For This Segment  5730  =  233.0\n",
      "Total ETA For This Segment  5731  =  305.0\n",
      "Total ETA For This Segment  5732  =  297.0\n",
      "Total ETA For This Segment  5733  =  270.0\n",
      "Total ETA For This Segment  5734  =  271.0\n",
      "Total ETA For This Segment  5735  =  349.0\n",
      "Total ETA For This Segment  5736  =  372.0\n",
      "Total ETA For This Segment  5737  =  436.0\n",
      "Total ETA For This Segment  5738  =  242.0\n",
      "Total ETA For This Segment  5739  =  216.0\n",
      "Total ETA For This Segment  5740  =  408.0\n",
      "Total ETA For This Segment  5741  =  458.0\n",
      "Total ETA For This Segment  5742  =  295.0\n",
      "Total ETA For This Segment  5743  =  214.0\n",
      "Total ETA For This Segment  5744  =  174.0\n",
      "Total ETA For This Segment  5745  =  245.0\n",
      "Total ETA For This Segment  5746  =  248.0\n",
      "Total ETA For This Segment  5747  =  363.0\n",
      "Total ETA For This Segment  5748  =  209.0\n",
      "Total ETA For This Segment  5749  =  75.0\n",
      "Total ETA For This Segment  5750  =  290.0\n",
      "Total ETA For This Segment  5751  =  221.0\n",
      "Total ETA For This Segment  5752  =  197.0\n",
      "Total ETA For This Segment  5753  =  140.0\n",
      "Total ETA For This Segment  5754  =  119.0\n",
      "Total ETA For This Segment  5755  =  199.0\n",
      "Total ETA For This Segment  5756  =  138.0\n",
      "Total ETA For This Segment  5757  =  170.0\n",
      "Total ETA For This Segment  5758  =  144.0\n",
      "Total ETA For This Segment  5759  =  250.0\n",
      "Total ETA For This Segment  5760  =  271.0\n",
      "Total ETA For This Segment  5761  =  69.0\n",
      "Total ETA For This Segment  5762  =  344.0\n",
      "Total ETA For This Segment  5763  =  298.0\n",
      "Total ETA For This Segment  5764  =  126.0\n",
      "Total ETA For This Segment  5765  =  347.0\n",
      "Total ETA For This Segment  5766  =  265.0\n",
      "Total ETA For This Segment  5767  =  284.0\n",
      "Total ETA For This Segment  5768  =  369.0\n",
      "Total ETA For This Segment  5769  =  462.0\n",
      "Total ETA For This Segment  5770  =  148.0\n",
      "Total ETA For This Segment  5771  =  212.0\n",
      "Total ETA For This Segment  5772  =  54.0\n",
      "Total ETA For This Segment  5773  =  426.0\n",
      "Total ETA For This Segment  5774  =  248.0\n",
      "Total ETA For This Segment  5775  =  398.0\n",
      "Total ETA For This Segment  5776  =  163.0\n",
      "Total ETA For This Segment  5777  =  264.0\n",
      "Total ETA For This Segment  5778  =  201.0\n",
      "Total ETA For This Segment  5779  =  176.0\n",
      "Total ETA For This Segment  5780  =  165.0\n",
      "Total ETA For This Segment  5781  =  210.0\n",
      "Total ETA For This Segment  5782  =  74.0\n",
      "Total ETA For This Segment  5783  =  191.0\n",
      "Total ETA For This Segment  5784  =  52.0\n",
      "Total ETA For This Segment  5785  =  217.0\n",
      "Total ETA For This Segment  5786  =  393.0\n",
      "Total ETA For This Segment  5787  =  350.0\n",
      "Total ETA For This Segment  5788  =  72.0\n",
      "Total ETA For This Segment  5789  =  398.0\n",
      "Total ETA For This Segment  5790  =  409.0\n",
      "Total ETA For This Segment  5791  =  320.0\n",
      "Total ETA For This Segment  5792  =  267.0\n",
      "Total ETA For This Segment  5793  =  216.0\n"
     ]
    },
    {
     "name": "stderr",
     "output_type": "stream",
     "text": [
      "/tmp/ipykernel_4549/2500732777.py:76: RuntimeWarning: invalid value encountered in cast\n",
      "  start_array[idx] = np.asarray(segment_values1[0])\n",
      "/tmp/ipykernel_4549/2500732777.py:82: RuntimeWarning: invalid value encountered in cast\n",
      "  end_array[idx] = np.asarray(segment_values2[0])\n"
     ]
    },
    {
     "name": "stdout",
     "output_type": "stream",
     "text": [
      "Total ETA For This Segment  5795  =  213.0\n"
     ]
    },
    {
     "name": "stderr",
     "output_type": "stream",
     "text": [
      "/tmp/ipykernel_4549/2500732777.py:76: RuntimeWarning: invalid value encountered in cast\n",
      "  start_array[idx] = np.asarray(segment_values1[0])\n",
      "/tmp/ipykernel_4549/2500732777.py:82: RuntimeWarning: invalid value encountered in cast\n",
      "  end_array[idx] = np.asarray(segment_values2[0])\n",
      "/tmp/ipykernel_4549/2500732777.py:76: RuntimeWarning: invalid value encountered in cast\n",
      "  start_array[idx] = np.asarray(segment_values1[0])\n",
      "/tmp/ipykernel_4549/2500732777.py:82: RuntimeWarning: invalid value encountered in cast\n",
      "  end_array[idx] = np.asarray(segment_values2[0])\n"
     ]
    },
    {
     "name": "stdout",
     "output_type": "stream",
     "text": [
      "Total ETA For This Segment  5798  =  117.0\n",
      "Total ETA For This Segment  5799  =  222.0\n",
      "Total ETA For This Segment  5800  =  295.0\n",
      "Total ETA For This Segment  5801  =  173.0\n",
      "Total ETA For This Segment  5802  =  140.0\n",
      "Total ETA For This Segment  5803  =  354.0\n",
      "Total ETA For This Segment  5804  =  109.0\n",
      "Total ETA For This Segment  5805  =  345.0\n",
      "Total ETA For This Segment  5806  =  353.0\n",
      "Total ETA For This Segment  5807  =  509.0\n",
      "Total ETA For This Segment  5808  =  354.0\n",
      "Total ETA For This Segment  5809  =  179.0\n",
      "Total ETA For This Segment  5810  =  303.0\n",
      "Total ETA For This Segment  5811  =  258.0\n",
      "Total ETA For This Segment  5812  =  356.0\n",
      "Total ETA For This Segment  5813  =  210.0\n",
      "Total ETA For This Segment  5814  =  248.0\n",
      "Total ETA For This Segment  5815  =  257.0\n",
      "Total ETA For This Segment  5816  =  284.0\n",
      "Total ETA For This Segment  5817  =  92.0\n",
      "Total ETA For This Segment  5818  =  43.0\n",
      "Total ETA For This Segment  5819  =  281.0\n",
      "Total ETA For This Segment  5820  =  262.0\n",
      "Total ETA For This Segment  5821  =  89.0\n",
      "Total ETA For This Segment  5822  =  158.0\n",
      "Total ETA For This Segment  5823  =  184.0\n",
      "Total ETA For This Segment  5824  =  90.0\n",
      "Total ETA For This Segment  5825  =  451.0\n",
      "Total ETA For This Segment  5826  =  125.0\n"
     ]
    },
    {
     "name": "stderr",
     "output_type": "stream",
     "text": [
      "/tmp/ipykernel_4549/2500732777.py:76: RuntimeWarning: invalid value encountered in cast\n",
      "  start_array[idx] = np.asarray(segment_values1[0])\n",
      "/tmp/ipykernel_4549/2500732777.py:82: RuntimeWarning: invalid value encountered in cast\n",
      "  end_array[idx] = np.asarray(segment_values2[0])\n"
     ]
    },
    {
     "name": "stdout",
     "output_type": "stream",
     "text": [
      "Total ETA For This Segment  5828  =  348.0\n",
      "Total ETA For This Segment  5829  =  271.0\n",
      "Total ETA For This Segment  5830  =  274.0\n",
      "Total ETA For This Segment  5831  =  127.0\n",
      "Total ETA For This Segment  5832  =  341.0\n",
      "Total ETA For This Segment  5833  =  429.0\n",
      "Total ETA For This Segment  5834  =  378.0\n",
      "Total ETA For This Segment  5835  =  272.0\n",
      "Total ETA For This Segment  5836  =  215.0\n",
      "Total ETA For This Segment  5837  =  215.0\n",
      "Total ETA For This Segment  5838  =  352.0\n",
      "Total ETA For This Segment  5839  =  247.0\n",
      "Total ETA For This Segment  5840  =  311.0\n",
      "Total ETA For This Segment  5841  =  247.0\n",
      "Total ETA For This Segment  5842  =  280.0\n",
      "Total ETA For This Segment  5843  =  117.0\n",
      "Total ETA For This Segment  5844  =  278.0\n"
     ]
    },
    {
     "name": "stderr",
     "output_type": "stream",
     "text": [
      "/tmp/ipykernel_4549/2500732777.py:76: RuntimeWarning: invalid value encountered in cast\n",
      "  start_array[idx] = np.asarray(segment_values1[0])\n",
      "/tmp/ipykernel_4549/2500732777.py:82: RuntimeWarning: invalid value encountered in cast\n",
      "  end_array[idx] = np.asarray(segment_values2[0])\n"
     ]
    },
    {
     "name": "stdout",
     "output_type": "stream",
     "text": [
      "Total ETA For This Segment  5846  =  255.0\n",
      "Total ETA For This Segment  5847  =  138.0\n",
      "Total ETA For This Segment  5848  =  134.0\n",
      "Total ETA For This Segment  5849  =  319.0\n",
      "Total ETA For This Segment  5850  =  276.0\n",
      "Total ETA For This Segment  5851  =  328.0\n",
      "Total ETA For This Segment  5852  =  320.0\n",
      "Total ETA For This Segment  5853  =  144.0\n",
      "Total ETA For This Segment  5854  =  198.0\n"
     ]
    },
    {
     "name": "stderr",
     "output_type": "stream",
     "text": [
      "/tmp/ipykernel_4549/2500732777.py:76: RuntimeWarning: invalid value encountered in cast\n",
      "  start_array[idx] = np.asarray(segment_values1[0])\n",
      "/tmp/ipykernel_4549/2500732777.py:82: RuntimeWarning: invalid value encountered in cast\n",
      "  end_array[idx] = np.asarray(segment_values2[0])\n",
      "/tmp/ipykernel_4549/2500732777.py:76: RuntimeWarning: invalid value encountered in cast\n",
      "  start_array[idx] = np.asarray(segment_values1[0])\n",
      "/tmp/ipykernel_4549/2500732777.py:82: RuntimeWarning: invalid value encountered in cast\n",
      "  end_array[idx] = np.asarray(segment_values2[0])\n"
     ]
    },
    {
     "name": "stdout",
     "output_type": "stream",
     "text": [
      "Total ETA For This Segment  5857  =  313.0\n"
     ]
    },
    {
     "name": "stderr",
     "output_type": "stream",
     "text": [
      "/tmp/ipykernel_4549/2500732777.py:76: RuntimeWarning: invalid value encountered in cast\n",
      "  start_array[idx] = np.asarray(segment_values1[0])\n",
      "/tmp/ipykernel_4549/2500732777.py:82: RuntimeWarning: invalid value encountered in cast\n",
      "  end_array[idx] = np.asarray(segment_values2[0])\n"
     ]
    },
    {
     "name": "stdout",
     "output_type": "stream",
     "text": [
      "Total ETA For This Segment  5859  =  191.0\n",
      "Total ETA For This Segment  5860  =  375.0\n",
      "Total ETA For This Segment  5861  =  146.0\n",
      "Total ETA For This Segment  5862  =  110.0\n",
      "Total ETA For This Segment  5863  =  372.0\n",
      "Total ETA For This Segment  5864  =  81.0\n",
      "Total ETA For This Segment  5865  =  330.0\n",
      "Total ETA For This Segment  5866  =  98.0\n",
      "Total ETA For This Segment  5867  =  202.0\n",
      "Total ETA For This Segment  5868  =  311.0\n",
      "Total ETA For This Segment  5869  =  184.0\n",
      "Total ETA For This Segment  5870  =  115.0\n",
      "Total ETA For This Segment  5871  =  291.0\n",
      "Total ETA For This Segment  5872  =  341.0\n",
      "Total ETA For This Segment  5873  =  146.0\n",
      "Total ETA For This Segment  5874  =  133.0\n",
      "Total ETA For This Segment  5875  =  293.0\n",
      "Total ETA For This Segment  5876  =  400.0\n",
      "Total ETA For This Segment  5877  =  206.0\n",
      "Total ETA For This Segment  5878  =  364.0\n",
      "Total ETA For This Segment  5879  =  381.0\n",
      "Total ETA For This Segment  5880  =  281.0\n",
      "Total ETA For This Segment  5881  =  277.0\n",
      "Total ETA For This Segment  5882  =  103.0\n",
      "Total ETA For This Segment  5883  =  146.0\n",
      "Total ETA For This Segment  5884  =  301.0\n",
      "Total ETA For This Segment  5885  =  374.0\n",
      "Total ETA For This Segment  5886  =  351.0\n",
      "Total ETA For This Segment  5887  =  414.0\n",
      "Total ETA For This Segment  5888  =  258.0\n"
     ]
    },
    {
     "name": "stderr",
     "output_type": "stream",
     "text": [
      "/tmp/ipykernel_4549/2500732777.py:76: RuntimeWarning: invalid value encountered in cast\n",
      "  start_array[idx] = np.asarray(segment_values1[0])\n",
      "/tmp/ipykernel_4549/2500732777.py:82: RuntimeWarning: invalid value encountered in cast\n",
      "  end_array[idx] = np.asarray(segment_values2[0])\n"
     ]
    },
    {
     "name": "stdout",
     "output_type": "stream",
     "text": [
      "Total ETA For This Segment  5890  =  299.0\n",
      "Total ETA For This Segment  5891  =  312.0\n",
      "Total ETA For This Segment  5892  =  447.0\n",
      "Total ETA For This Segment  5893  =  203.0\n",
      "Total ETA For This Segment  5894  =  182.0\n",
      "Total ETA For This Segment  5895  =  446.0\n",
      "Total ETA For This Segment  5896  =  372.0\n",
      "Total ETA For This Segment  5897  =  169.0\n",
      "Total ETA For This Segment  5898  =  160.0\n",
      "Total ETA For This Segment  5899  =  330.0\n",
      "Total ETA For This Segment  5900  =  40.0\n",
      "Total ETA For This Segment  5901  =  247.0\n",
      "Total ETA For This Segment  6027  =  93.0\n",
      "Total ETA For This Segment  6028  =  205.0\n",
      "Total ETA For This Segment  6029  =  189.0\n",
      "Total ETA For This Segment  6030  =  319.0\n",
      "Total ETA For This Segment  6031  =  334.0\n",
      "Total ETA For This Segment  6047  =  271.0\n",
      "Total ETA For This Segment  6048  =  306.0\n",
      "Total ETA For This Segment  6049  =  267.0\n",
      "Total ETA For This Segment  6050  =  160.0\n",
      "Total ETA For This Segment  6051  =  202.0\n",
      "Total ETA For This Segment  6052  =  226.0\n",
      "Total ETA For This Segment  6053  =  362.0\n",
      "Total ETA For This Segment  6054  =  270.0\n",
      "Total ETA For This Segment  6055  =  318.0\n",
      "Total ETA For This Segment  6056  =  548.0\n",
      "Total ETA For This Segment  6057  =  265.0\n",
      "Total ETA For This Segment  6058  =  73.0\n",
      "Total ETA For This Segment  6059  =  576.0\n",
      "Total ETA For This Segment  6060  =  411.0\n",
      "Total ETA For This Segment  6061  =  240.0\n",
      "Total ETA For This Segment  6062  =  136.0\n",
      "Total ETA For This Segment  6063  =  84.0\n",
      "Total ETA For This Segment  6064  =  101.0\n",
      "Total ETA For This Segment  6065  =  85.0\n",
      "Total ETA For This Segment  6066  =  46.0\n",
      "Total ETA For This Segment  6067  =  270.0\n",
      "Total ETA For This Segment  6068  =  249.0\n",
      "Total ETA For This Segment  6069  =  315.0\n",
      "Total ETA For This Segment  6070  =  471.0\n",
      "Total ETA For This Segment  6071  =  427.0\n",
      "Total ETA For This Segment  6072  =  532.0\n",
      "Total ETA For This Segment  6073  =  73.0\n",
      "Total ETA For This Segment  6074  =  298.0\n",
      "Total ETA For This Segment  6075  =  170.0\n",
      "Total ETA For This Segment  6076  =  155.0\n",
      "Total ETA For This Segment  6077  =  175.0\n",
      "Total ETA For This Segment  6078  =  129.0\n",
      "Total ETA For This Segment  6079  =  122.0\n",
      "Total ETA For This Segment  6080  =  134.0\n",
      "Total ETA For This Segment  6081  =  84.0\n",
      "Total ETA For This Segment  6082  =  87.0\n",
      "Total ETA For This Segment  6083  =  83.0\n",
      "Total ETA For This Segment  6084  =  103.0\n",
      "Total ETA For This Segment  6085  =  109.0\n",
      "Total ETA For This Segment  6086  =  128.0\n",
      "Total ETA For This Segment  6087  =  98.0\n",
      "Total ETA For This Segment  6088  =  64.0\n",
      "Total ETA For This Segment  6089  =  107.0\n",
      "Total ETA For This Segment  6090  =  99.0\n",
      "Total ETA For This Segment  6091  =  40.0\n",
      "Total ETA For This Segment  6092  =  106.0\n",
      "Total ETA For This Segment  6093  =  126.0\n",
      "Total ETA For This Segment  6094  =  135.0\n",
      "Total ETA For This Segment  6095  =  133.0\n",
      "Total ETA For This Segment  6096  =  99.0\n",
      "Total ETA For This Segment  6097  =  241.0\n",
      "Total ETA For This Segment  6098  =  183.0\n",
      "Total ETA For This Segment  6099  =  40.0\n",
      "Total ETA For This Segment  6100  =  318.0\n",
      "Total ETA For This Segment  6101  =  59.0\n",
      "Total ETA For This Segment  6102  =  244.0\n",
      "Total ETA For This Segment  6103  =  301.0\n",
      "Total ETA For This Segment  6104  =  208.0\n",
      "Total ETA For This Segment  6105  =  343.0\n",
      "Total ETA For This Segment  6106  =  284.0\n",
      "Total ETA For This Segment  6107  =  408.0\n",
      "Total ETA For This Segment  6108  =  376.0\n",
      "Total ETA For This Segment  6109  =  65.0\n",
      "Total ETA For This Segment  6111  =  186.0\n",
      "Total ETA For This Segment  6112  =  141.0\n",
      "Total ETA For This Segment  6113  =  208.0\n",
      "Total ETA For This Segment  6114  =  237.0\n",
      "Total ETA For This Segment  6115  =  74.0\n",
      "Total ETA For This Segment  6116  =  314.0\n",
      "Total ETA For This Segment  6117  =  295.0\n",
      "Total ETA For This Segment  6118  =  226.0\n",
      "Total ETA For This Segment  6119  =  392.0\n",
      "Total ETA For This Segment  6120  =  319.0\n",
      "Total ETA For This Segment  6121  =  272.0\n",
      "Total ETA For This Segment  6122  =  205.0\n",
      "Total ETA For This Segment  6123  =  153.0\n",
      "Total ETA For This Segment  6124  =  375.0\n",
      "Total ETA For This Segment  6125  =  232.0\n",
      "Total ETA For This Segment  6126  =  337.0\n",
      "Total ETA For This Segment  6127  =  223.0\n",
      "Total ETA For This Segment  6128  =  167.0\n",
      "Total ETA For This Segment  6129  =  154.0\n",
      "Total ETA For This Segment  6130  =  181.0\n",
      "Total ETA For This Segment  6131  =  280.0\n",
      "Total ETA For This Segment  6132  =  200.0\n",
      "Total ETA For This Segment  6133  =  200.0\n",
      "Total ETA For This Segment  6134  =  44.0\n",
      "Total ETA For This Segment  6135  =  278.0\n",
      "Total ETA For This Segment  6136  =  400.0\n",
      "Total ETA For This Segment  6137  =  447.0\n",
      "Total ETA For This Segment  6138  =  451.0\n",
      "Total ETA For This Segment  6139  =  521.0\n",
      "Total ETA For This Segment  6140  =  388.0\n",
      "Total ETA For This Segment  6141  =  304.0\n",
      "Total ETA For This Segment  6142  =  421.0\n"
     ]
    },
    {
     "name": "stderr",
     "output_type": "stream",
     "text": [
      "/tmp/ipykernel_4549/2500732777.py:76: RuntimeWarning: invalid value encountered in cast\n",
      "  start_array[idx] = np.asarray(segment_values1[0])\n",
      "/tmp/ipykernel_4549/2500732777.py:82: RuntimeWarning: invalid value encountered in cast\n",
      "  end_array[idx] = np.asarray(segment_values2[0])\n"
     ]
    },
    {
     "name": "stdout",
     "output_type": "stream",
     "text": [
      "Total ETA For This Segment  6144  =  386.0\n",
      "Total ETA For This Segment  6145  =  426.0\n"
     ]
    },
    {
     "name": "stderr",
     "output_type": "stream",
     "text": [
      "/tmp/ipykernel_4549/2500732777.py:76: RuntimeWarning: invalid value encountered in cast\n",
      "  start_array[idx] = np.asarray(segment_values1[0])\n",
      "/tmp/ipykernel_4549/2500732777.py:82: RuntimeWarning: invalid value encountered in cast\n",
      "  end_array[idx] = np.asarray(segment_values2[0])\n"
     ]
    },
    {
     "name": "stdout",
     "output_type": "stream",
     "text": [
      "Total ETA For This Segment  6147  =  132.0\n",
      "Total ETA For This Segment  6148  =  210.0\n",
      "Total ETA For This Segment  6149  =  95.0\n",
      "Total ETA For This Segment  6150  =  163.0\n",
      "Total ETA For This Segment  6151  =  241.0\n"
     ]
    },
    {
     "name": "stderr",
     "output_type": "stream",
     "text": [
      "/tmp/ipykernel_4549/2500732777.py:76: RuntimeWarning: invalid value encountered in cast\n",
      "  start_array[idx] = np.asarray(segment_values1[0])\n",
      "/tmp/ipykernel_4549/2500732777.py:82: RuntimeWarning: invalid value encountered in cast\n",
      "  end_array[idx] = np.asarray(segment_values2[0])\n",
      "/tmp/ipykernel_4549/2500732777.py:76: RuntimeWarning: invalid value encountered in cast\n",
      "  start_array[idx] = np.asarray(segment_values1[0])\n",
      "/tmp/ipykernel_4549/2500732777.py:82: RuntimeWarning: invalid value encountered in cast\n",
      "  end_array[idx] = np.asarray(segment_values2[0])\n",
      "/tmp/ipykernel_4549/2500732777.py:76: RuntimeWarning: invalid value encountered in cast\n",
      "  start_array[idx] = np.asarray(segment_values1[0])\n",
      "/tmp/ipykernel_4549/2500732777.py:82: RuntimeWarning: invalid value encountered in cast\n",
      "  end_array[idx] = np.asarray(segment_values2[0])\n",
      "/tmp/ipykernel_4549/2500732777.py:76: RuntimeWarning: invalid value encountered in cast\n",
      "  start_array[idx] = np.asarray(segment_values1[0])\n",
      "/tmp/ipykernel_4549/2500732777.py:82: RuntimeWarning: invalid value encountered in cast\n",
      "  end_array[idx] = np.asarray(segment_values2[0])\n",
      "/tmp/ipykernel_4549/2500732777.py:76: RuntimeWarning: invalid value encountered in cast\n",
      "  start_array[idx] = np.asarray(segment_values1[0])\n",
      "/tmp/ipykernel_4549/2500732777.py:82: RuntimeWarning: invalid value encountered in cast\n",
      "  end_array[idx] = np.asarray(segment_values2[0])\n"
     ]
    },
    {
     "name": "stdout",
     "output_type": "stream",
     "text": [
      "Total ETA For This Segment  6157  =  62.0\n",
      "Total ETA For This Segment  6158  =  161.0\n",
      "Total ETA For This Segment  6159  =  259.0\n",
      "Total ETA For This Segment  6160  =  382.0\n",
      "Total ETA For This Segment  6161  =  194.0\n",
      "Total ETA For This Segment  6162  =  78.0\n",
      "Total ETA For This Segment  6163  =  270.0\n",
      "Total ETA For This Segment  6164  =  44.0\n",
      "Total ETA For This Segment  6165  =  234.0\n",
      "Total ETA For This Segment  6166  =  251.0\n",
      "Total ETA For This Segment  6167  =  179.0\n",
      "Total ETA For This Segment  6168  =  191.0\n",
      "Total ETA For This Segment  6169  =  214.0\n",
      "Total ETA For This Segment  6170  =  263.0\n",
      "Total ETA For This Segment  6171  =  237.0\n",
      "Total ETA For This Segment  6172  =  131.0\n",
      "Total ETA For This Segment  6173  =  223.0\n",
      "Total ETA For This Segment  6174  =  284.0\n",
      "Total ETA For This Segment  6175  =  55.0\n",
      "Total ETA For This Segment  6176  =  330.0\n",
      "Total ETA For This Segment  6177  =  371.0\n",
      "Total ETA For This Segment  6178  =  192.0\n",
      "Total ETA For This Segment  6179  =  258.0\n",
      "Total ETA For This Segment  6180  =  135.0\n",
      "Total ETA For This Segment  6181  =  96.0\n",
      "Total ETA For This Segment  6182  =  333.0\n",
      "Total ETA For This Segment  6183  =  353.0\n",
      "Total ETA For This Segment  6184  =  250.0\n",
      "Total ETA For This Segment  6185  =  286.0\n",
      "Total ETA For This Segment  6186  =  336.0\n",
      "Total ETA For This Segment  6187  =  47.0\n",
      "Total ETA For This Segment  6188  =  412.0\n",
      "Total ETA For This Segment  6189  =  374.0\n",
      "Total ETA For This Segment  6190  =  217.0\n",
      "Total ETA For This Segment  6191  =  68.0\n"
     ]
    },
    {
     "name": "stderr",
     "output_type": "stream",
     "text": [
      "/tmp/ipykernel_4549/2500732777.py:76: RuntimeWarning: invalid value encountered in cast\n",
      "  start_array[idx] = np.asarray(segment_values1[0])\n",
      "/tmp/ipykernel_4549/2500732777.py:82: RuntimeWarning: invalid value encountered in cast\n",
      "  end_array[idx] = np.asarray(segment_values2[0])\n"
     ]
    },
    {
     "name": "stdout",
     "output_type": "stream",
     "text": [
      "Total ETA For This Segment  6193  =  221.0\n",
      "Total ETA For This Segment  6194  =  327.0\n",
      "Total ETA For This Segment  6195  =  152.0\n",
      "Total ETA For This Segment  6196  =  172.0\n",
      "Total ETA For This Segment  6197  =  280.0\n",
      "Total ETA For This Segment  6198  =  224.0\n",
      "Total ETA For This Segment  6199  =  197.0\n",
      "Total ETA For This Segment  6200  =  128.0\n"
     ]
    },
    {
     "name": "stderr",
     "output_type": "stream",
     "text": [
      "/tmp/ipykernel_4549/2500732777.py:76: RuntimeWarning: invalid value encountered in cast\n",
      "  start_array[idx] = np.asarray(segment_values1[0])\n",
      "/tmp/ipykernel_4549/2500732777.py:82: RuntimeWarning: invalid value encountered in cast\n",
      "  end_array[idx] = np.asarray(segment_values2[0])\n",
      "/tmp/ipykernel_4549/2500732777.py:76: RuntimeWarning: invalid value encountered in cast\n",
      "  start_array[idx] = np.asarray(segment_values1[0])\n",
      "/tmp/ipykernel_4549/2500732777.py:82: RuntimeWarning: invalid value encountered in cast\n",
      "  end_array[idx] = np.asarray(segment_values2[0])\n"
     ]
    },
    {
     "name": "stdout",
     "output_type": "stream",
     "text": [
      "Total ETA For This Segment  6203  =  284.0\n",
      "Total ETA For This Segment  6204  =  339.0\n",
      "Total ETA For This Segment  6205  =  165.0\n"
     ]
    },
    {
     "name": "stderr",
     "output_type": "stream",
     "text": [
      "/tmp/ipykernel_4549/2500732777.py:76: RuntimeWarning: invalid value encountered in cast\n",
      "  start_array[idx] = np.asarray(segment_values1[0])\n",
      "/tmp/ipykernel_4549/2500732777.py:82: RuntimeWarning: invalid value encountered in cast\n",
      "  end_array[idx] = np.asarray(segment_values2[0])\n"
     ]
    },
    {
     "name": "stdout",
     "output_type": "stream",
     "text": [
      "Total ETA For This Segment  6207  =  130.0\n"
     ]
    },
    {
     "name": "stderr",
     "output_type": "stream",
     "text": [
      "/tmp/ipykernel_4549/2500732777.py:76: RuntimeWarning: invalid value encountered in cast\n",
      "  start_array[idx] = np.asarray(segment_values1[0])\n",
      "/tmp/ipykernel_4549/2500732777.py:82: RuntimeWarning: invalid value encountered in cast\n",
      "  end_array[idx] = np.asarray(segment_values2[0])\n"
     ]
    },
    {
     "name": "stdout",
     "output_type": "stream",
     "text": [
      "Total ETA For This Segment  6209  =  50.0\n",
      "Total ETA For This Segment  6210  =  242.0\n",
      "Total ETA For This Segment  6211  =  399.0\n",
      "Total ETA For This Segment  6212  =  401.0\n",
      "Total ETA For This Segment  6213  =  427.0\n",
      "Total ETA For This Segment  6214  =  139.0\n",
      "Total ETA For This Segment  6215  =  364.0\n"
     ]
    },
    {
     "name": "stderr",
     "output_type": "stream",
     "text": [
      "/tmp/ipykernel_4549/2500732777.py:76: RuntimeWarning: invalid value encountered in cast\n",
      "  start_array[idx] = np.asarray(segment_values1[0])\n",
      "/tmp/ipykernel_4549/2500732777.py:82: RuntimeWarning: invalid value encountered in cast\n",
      "  end_array[idx] = np.asarray(segment_values2[0])\n"
     ]
    },
    {
     "name": "stdout",
     "output_type": "stream",
     "text": [
      "Total ETA For This Segment  6217  =  304.0\n",
      "Total ETA For This Segment  6218  =  101.0\n"
     ]
    },
    {
     "name": "stderr",
     "output_type": "stream",
     "text": [
      "/tmp/ipykernel_4549/2500732777.py:76: RuntimeWarning: invalid value encountered in cast\n",
      "  start_array[idx] = np.asarray(segment_values1[0])\n",
      "/tmp/ipykernel_4549/2500732777.py:82: RuntimeWarning: invalid value encountered in cast\n",
      "  end_array[idx] = np.asarray(segment_values2[0])\n",
      "/tmp/ipykernel_4549/2500732777.py:76: RuntimeWarning: invalid value encountered in cast\n",
      "  start_array[idx] = np.asarray(segment_values1[0])\n",
      "/tmp/ipykernel_4549/2500732777.py:82: RuntimeWarning: invalid value encountered in cast\n",
      "  end_array[idx] = np.asarray(segment_values2[0])\n",
      "/tmp/ipykernel_4549/2500732777.py:76: RuntimeWarning: invalid value encountered in cast\n",
      "  start_array[idx] = np.asarray(segment_values1[0])\n",
      "/tmp/ipykernel_4549/2500732777.py:82: RuntimeWarning: invalid value encountered in cast\n",
      "  end_array[idx] = np.asarray(segment_values2[0])\n",
      "/tmp/ipykernel_4549/2500732777.py:76: RuntimeWarning: invalid value encountered in cast\n",
      "  start_array[idx] = np.asarray(segment_values1[0])\n",
      "/tmp/ipykernel_4549/2500732777.py:82: RuntimeWarning: invalid value encountered in cast\n",
      "  end_array[idx] = np.asarray(segment_values2[0])\n"
     ]
    },
    {
     "name": "stdout",
     "output_type": "stream",
     "text": [
      "Total ETA For This Segment  6223  =  195.0\n"
     ]
    },
    {
     "name": "stderr",
     "output_type": "stream",
     "text": [
      "/tmp/ipykernel_4549/2500732777.py:76: RuntimeWarning: invalid value encountered in cast\n",
      "  start_array[idx] = np.asarray(segment_values1[0])\n",
      "/tmp/ipykernel_4549/2500732777.py:82: RuntimeWarning: invalid value encountered in cast\n",
      "  end_array[idx] = np.asarray(segment_values2[0])\n",
      "/tmp/ipykernel_4549/2500732777.py:76: RuntimeWarning: invalid value encountered in cast\n",
      "  start_array[idx] = np.asarray(segment_values1[0])\n",
      "/tmp/ipykernel_4549/2500732777.py:82: RuntimeWarning: invalid value encountered in cast\n",
      "  end_array[idx] = np.asarray(segment_values2[0])\n",
      "/tmp/ipykernel_4549/2500732777.py:76: RuntimeWarning: invalid value encountered in cast\n",
      "  start_array[idx] = np.asarray(segment_values1[0])\n",
      "/tmp/ipykernel_4549/2500732777.py:82: RuntimeWarning: invalid value encountered in cast\n",
      "  end_array[idx] = np.asarray(segment_values2[0])\n"
     ]
    },
    {
     "name": "stdout",
     "output_type": "stream",
     "text": [
      "Total ETA For This Segment  6227  =  325.0\n",
      "Total ETA For This Segment  6228  =  371.0\n",
      "Total ETA For This Segment  6229  =  106.0\n",
      "Total ETA For This Segment  6230  =  220.0\n",
      "Total ETA For This Segment  6231  =  282.0\n",
      "Total ETA For This Segment  6232  =  247.0\n",
      "Total ETA For This Segment  6234  =  85.0\n",
      "Total ETA For This Segment  6235  =  380.0\n",
      "Total ETA For This Segment  6236  =  361.0\n",
      "Total ETA For This Segment  6238  =  407.0\n",
      "Total ETA For This Segment  6239  =  148.0\n",
      "Total ETA For This Segment  6240  =  236.0\n",
      "Total ETA For This Segment  6241  =  254.0\n",
      "Total ETA For This Segment  6242  =  50.0\n",
      "Total ETA For This Segment  6243  =  257.0\n",
      "Total ETA For This Segment  6244  =  288.0\n",
      "Total ETA For This Segment  6245  =  85.0\n"
     ]
    },
    {
     "name": "stderr",
     "output_type": "stream",
     "text": [
      "/tmp/ipykernel_4549/2500732777.py:76: RuntimeWarning: invalid value encountered in cast\n",
      "  start_array[idx] = np.asarray(segment_values1[0])\n",
      "/tmp/ipykernel_4549/2500732777.py:82: RuntimeWarning: invalid value encountered in cast\n",
      "  end_array[idx] = np.asarray(segment_values2[0])\n"
     ]
    },
    {
     "name": "stdout",
     "output_type": "stream",
     "text": [
      "Total ETA For This Segment  6247  =  42.0\n",
      "Total ETA For This Segment  6248  =  213.0\n",
      "Total ETA For This Segment  6249  =  210.0\n",
      "Total ETA For This Segment  6250  =  388.0\n",
      "Total ETA For This Segment  6251  =  331.0\n",
      "Total ETA For This Segment  6252  =  52.0\n"
     ]
    },
    {
     "name": "stderr",
     "output_type": "stream",
     "text": [
      "/tmp/ipykernel_4549/2500732777.py:76: RuntimeWarning: invalid value encountered in cast\n",
      "  start_array[idx] = np.asarray(segment_values1[0])\n",
      "/tmp/ipykernel_4549/2500732777.py:82: RuntimeWarning: invalid value encountered in cast\n",
      "  end_array[idx] = np.asarray(segment_values2[0])\n"
     ]
    },
    {
     "name": "stdout",
     "output_type": "stream",
     "text": [
      "Total ETA For This Segment  6254  =  353.0\n",
      "Total ETA For This Segment  6255  =  383.0\n",
      "Total ETA For This Segment  6256  =  403.0\n",
      "Total ETA For This Segment  6257  =  371.0\n",
      "Total ETA For This Segment  6258  =  410.0\n",
      "Total ETA For This Segment  6259  =  178.0\n",
      "Total ETA For This Segment  6260  =  286.0\n",
      "Total ETA For This Segment  6261  =  241.0\n"
     ]
    },
    {
     "name": "stderr",
     "output_type": "stream",
     "text": [
      "/tmp/ipykernel_4549/2500732777.py:76: RuntimeWarning: invalid value encountered in cast\n",
      "  start_array[idx] = np.asarray(segment_values1[0])\n",
      "/tmp/ipykernel_4549/2500732777.py:82: RuntimeWarning: invalid value encountered in cast\n",
      "  end_array[idx] = np.asarray(segment_values2[0])\n"
     ]
    },
    {
     "name": "stdout",
     "output_type": "stream",
     "text": [
      "Total ETA For This Segment  6263  =  385.0\n",
      "Total ETA For This Segment  6264  =  229.0\n",
      "Total ETA For This Segment  6265  =  308.0\n",
      "Total ETA For This Segment  6266  =  380.0\n",
      "Total ETA For This Segment  6267  =  407.0\n",
      "Total ETA For This Segment  6268  =  357.0\n",
      "Total ETA For This Segment  6269  =  104.0\n",
      "Total ETA For This Segment  6270  =  339.0\n"
     ]
    },
    {
     "name": "stderr",
     "output_type": "stream",
     "text": [
      "/tmp/ipykernel_4549/2500732777.py:76: RuntimeWarning: invalid value encountered in cast\n",
      "  start_array[idx] = np.asarray(segment_values1[0])\n",
      "/tmp/ipykernel_4549/2500732777.py:82: RuntimeWarning: invalid value encountered in cast\n",
      "  end_array[idx] = np.asarray(segment_values2[0])\n",
      "/tmp/ipykernel_4549/2500732777.py:76: RuntimeWarning: invalid value encountered in cast\n",
      "  start_array[idx] = np.asarray(segment_values1[0])\n",
      "/tmp/ipykernel_4549/2500732777.py:82: RuntimeWarning: invalid value encountered in cast\n",
      "  end_array[idx] = np.asarray(segment_values2[0])\n",
      "/tmp/ipykernel_4549/2500732777.py:76: RuntimeWarning: invalid value encountered in cast\n",
      "  start_array[idx] = np.asarray(segment_values1[0])\n",
      "/tmp/ipykernel_4549/2500732777.py:82: RuntimeWarning: invalid value encountered in cast\n",
      "  end_array[idx] = np.asarray(segment_values2[0])\n"
     ]
    },
    {
     "name": "stdout",
     "output_type": "stream",
     "text": [
      "Total ETA For This Segment  6397  =  352.0\n",
      "Total ETA For This Segment  6398  =  134.0\n",
      "Total ETA For This Segment  6399  =  285.0\n",
      "Total ETA For This Segment  6400  =  230.0\n",
      "Total ETA For This Segment  6401  =  172.0\n",
      "Total ETA For This Segment  6402  =  369.0\n",
      "Total ETA For This Segment  6403  =  395.0\n",
      "Total ETA For This Segment  6404  =  368.0\n",
      "Total ETA For This Segment  6405  =  83.0\n",
      "Total ETA For This Segment  6419  =  267.0\n",
      "Total ETA For This Segment  6420  =  219.0\n",
      "Total ETA For This Segment  6421  =  124.0\n",
      "Total ETA For This Segment  6422  =  291.0\n",
      "Total ETA For This Segment  6423  =  436.0\n",
      "Total ETA For This Segment  6424  =  183.0\n",
      "Total ETA For This Segment  6425  =  30.0\n",
      "Total ETA For This Segment  6426  =  24.0\n",
      "Total ETA For This Segment  6427  =  183.0\n",
      "Total ETA For This Segment  6428  =  216.0\n",
      "Total ETA For This Segment  6429  =  187.0\n",
      "Total ETA For This Segment  6430  =  182.0\n",
      "Total ETA For This Segment  6431  =  180.0\n",
      "Total ETA For This Segment  6432  =  173.0\n",
      "Total ETA For This Segment  6433  =  333.0\n",
      "Total ETA For This Segment  6434  =  191.0\n",
      "Total ETA For This Segment  6435  =  123.0\n",
      "Total ETA For This Segment  6436  =  184.0\n",
      "Total ETA For This Segment  6437  =  185.0\n",
      "Total ETA For This Segment  6438  =  235.0\n",
      "Total ETA For This Segment  6439  =  308.0\n",
      "Total ETA For This Segment  6440  =  231.0\n",
      "Total ETA For This Segment  6441  =  246.0\n",
      "Total ETA For This Segment  6442  =  222.0\n",
      "Total ETA For This Segment  6443  =  124.0\n",
      "Total ETA For This Segment  6444  =  159.0\n",
      "Total ETA For This Segment  6445  =  207.0\n",
      "Total ETA For This Segment  6446  =  136.0\n",
      "Total ETA For This Segment  6447  =  133.0\n",
      "Total ETA For This Segment  6448  =  148.0\n",
      "Total ETA For This Segment  6449  =  97.0\n",
      "Total ETA For This Segment  6450  =  152.0\n",
      "Total ETA For This Segment  6451  =  114.0\n",
      "Total ETA For This Segment  6452  =  101.0\n",
      "Total ETA For This Segment  6453  =  98.0\n",
      "Total ETA For This Segment  6454  =  87.0\n",
      "Total ETA For This Segment  6455  =  100.0\n",
      "Total ETA For This Segment  6456  =  88.0\n",
      "Total ETA For This Segment  6457  =  96.0\n",
      "Total ETA For This Segment  6458  =  84.0\n",
      "Total ETA For This Segment  6459  =  98.0\n",
      "Total ETA For This Segment  6460  =  75.0\n",
      "Total ETA For This Segment  6461  =  149.0\n",
      "Total ETA For This Segment  6462  =  122.0\n",
      "Total ETA For This Segment  6463  =  92.0\n",
      "Total ETA For This Segment  6464  =  117.0\n",
      "Total ETA For This Segment  6465  =  178.0\n",
      "Total ETA For This Segment  6466  =  143.0\n",
      "Total ETA For This Segment  6467  =  118.0\n",
      "Total ETA For This Segment  6468  =  103.0\n",
      "Total ETA For This Segment  6469  =  197.0\n",
      "Total ETA For This Segment  6470  =  213.0\n",
      "Total ETA For This Segment  6471  =  193.0\n",
      "Total ETA For This Segment  6472  =  123.0\n",
      "Total ETA For This Segment  6473  =  193.0\n",
      "Total ETA For This Segment  6474  =  135.0\n",
      "Total ETA For This Segment  6475  =  426.0\n",
      "Total ETA For This Segment  6476  =  357.0\n",
      "Total ETA For This Segment  6477  =  67.0\n",
      "Total ETA For This Segment  6478  =  18.0\n",
      "Total ETA For This Segment  6479  =  62.0\n",
      "Total ETA For This Segment  6480  =  54.0\n",
      "Total ETA For This Segment  6481  =  40.0\n",
      "Total ETA For This Segment  6482  =  368.0\n",
      "Total ETA For This Segment  6483  =  353.0\n",
      "Total ETA For This Segment  6484  =  315.0\n",
      "Total ETA For This Segment  6485  =  336.0\n",
      "Total ETA For This Segment  6486  =  308.0\n",
      "Total ETA For This Segment  6487  =  304.0\n",
      "Total ETA For This Segment  6488  =  432.0\n",
      "Total ETA For This Segment  6489  =  419.0\n",
      "Total ETA For This Segment  6490  =  304.0\n",
      "Total ETA For This Segment  6491  =  235.0\n",
      "Total ETA For This Segment  6492  =  207.0\n",
      "Total ETA For This Segment  6493  =  176.0\n",
      "Total ETA For This Segment  6494  =  277.0\n",
      "Total ETA For This Segment  6495  =  223.0\n",
      "Total ETA For This Segment  6496  =  332.0\n",
      "Total ETA For This Segment  6497  =  459.0\n",
      "Total ETA For This Segment  6498  =  273.0\n",
      "Total ETA For This Segment  6499  =  431.0\n",
      "Total ETA For This Segment  6500  =  419.0\n",
      "Total ETA For This Segment  6501  =  297.0\n",
      "Total ETA For This Segment  6502  =  388.0\n",
      "Total ETA For This Segment  6503  =  137.0\n",
      "Total ETA For This Segment  6504  =  318.0\n",
      "Total ETA For This Segment  6505  =  108.0\n",
      "Total ETA For This Segment  6506  =  262.0\n",
      "Total ETA For This Segment  6507  =  201.0\n",
      "Total ETA For This Segment  6508  =  405.0\n",
      "Total ETA For This Segment  6509  =  246.0\n",
      "Total ETA For This Segment  6510  =  359.0\n",
      "Total ETA For This Segment  6511  =  57.0\n",
      "Total ETA For This Segment  6512  =  333.0\n"
     ]
    },
    {
     "name": "stderr",
     "output_type": "stream",
     "text": [
      "/tmp/ipykernel_4549/2500732777.py:76: RuntimeWarning: invalid value encountered in cast\n",
      "  start_array[idx] = np.asarray(segment_values1[0])\n",
      "/tmp/ipykernel_4549/2500732777.py:82: RuntimeWarning: invalid value encountered in cast\n",
      "  end_array[idx] = np.asarray(segment_values2[0])\n"
     ]
    },
    {
     "name": "stdout",
     "output_type": "stream",
     "text": [
      "Total ETA For This Segment  6514  =  311.0\n",
      "Total ETA For This Segment  6515  =  300.0\n",
      "Total ETA For This Segment  6516  =  143.0\n",
      "Total ETA For This Segment  6517  =  262.0\n",
      "Total ETA For This Segment  6518  =  139.0\n",
      "Total ETA For This Segment  6519  =  340.0\n",
      "Total ETA For This Segment  6520  =  331.0\n",
      "Total ETA For This Segment  6521  =  187.0\n",
      "Total ETA For This Segment  6522  =  300.0\n",
      "Total ETA For This Segment  6523  =  40.0\n",
      "Total ETA For This Segment  6524  =  233.0\n",
      "Total ETA For This Segment  6525  =  353.0\n",
      "Total ETA For This Segment  6526  =  332.0\n",
      "Total ETA For This Segment  6527  =  339.0\n",
      "Total ETA For This Segment  6528  =  416.0\n",
      "Total ETA For This Segment  6529  =  311.0\n",
      "Total ETA For This Segment  6530  =  169.0\n",
      "Total ETA For This Segment  6531  =  253.0\n",
      "Total ETA For This Segment  6532  =  461.0\n",
      "Total ETA For This Segment  6533  =  234.0\n",
      "Total ETA For This Segment  6534  =  138.0\n",
      "Total ETA For This Segment  6535  =  177.0\n",
      "Total ETA For This Segment  6536  =  234.0\n",
      "Total ETA For This Segment  6537  =  251.0\n",
      "Total ETA For This Segment  6538  =  168.0\n",
      "Total ETA For This Segment  6539  =  305.0\n",
      "Total ETA For This Segment  6540  =  377.0\n",
      "Total ETA For This Segment  6541  =  249.0\n",
      "Total ETA For This Segment  6542  =  391.0\n",
      "Total ETA For This Segment  6543  =  309.0\n",
      "Total ETA For This Segment  6544  =  117.0\n",
      "Total ETA For This Segment  6545  =  240.0\n",
      "Total ETA For This Segment  6546  =  243.0\n",
      "Total ETA For This Segment  6547  =  171.0\n",
      "Total ETA For This Segment  6548  =  235.0\n",
      "Total ETA For This Segment  6549  =  340.0\n"
     ]
    },
    {
     "name": "stderr",
     "output_type": "stream",
     "text": [
      "/tmp/ipykernel_4549/2500732777.py:76: RuntimeWarning: invalid value encountered in cast\n",
      "  start_array[idx] = np.asarray(segment_values1[0])\n",
      "/tmp/ipykernel_4549/2500732777.py:82: RuntimeWarning: invalid value encountered in cast\n",
      "  end_array[idx] = np.asarray(segment_values2[0])\n"
     ]
    },
    {
     "ename": "KeyboardInterrupt",
     "evalue": "",
     "output_type": "error",
     "traceback": [
      "\u001b[0;31m---------------------------------------------------------------------------\u001b[0m",
      "\u001b[0;31mKeyboardInterrupt\u001b[0m                         Traceback (most recent call last)",
      "Cell \u001b[0;32mIn[2], line 138\u001b[0m\n\u001b[1;32m    136\u001b[0m \u001b[38;5;66;03m# Process accumulated values\u001b[39;00m\n\u001b[1;32m    137\u001b[0m segment_gdf \u001b[38;5;241m=\u001b[39m gdf[gdf[\u001b[38;5;124m'\u001b[39m\u001b[38;5;124mDN\u001b[39m\u001b[38;5;124m'\u001b[39m] \u001b[38;5;241m==\u001b[39m segment_id]\n\u001b[0;32m--> 138\u001b[0m segment_geometry \u001b[38;5;241m=\u001b[39m \u001b[43msegment_gdf\u001b[49m\u001b[38;5;241;43m.\u001b[39;49m\u001b[43munary_union\u001b[49m\n\u001b[1;32m    139\u001b[0m segment_shapes \u001b[38;5;241m=\u001b[39m [(segment_geometry, \u001b[38;5;241m1\u001b[39m)]\n\u001b[1;32m    140\u001b[0m segment_mask \u001b[38;5;241m=\u001b[39m features\u001b[38;5;241m.\u001b[39mgeometry_mask(\n\u001b[1;32m    141\u001b[0m     segment_shapes,\n\u001b[1;32m    142\u001b[0m     out_shape\u001b[38;5;241m=\u001b[39m(model_height, model_width),\n\u001b[1;32m    143\u001b[0m     transform\u001b[38;5;241m=\u001b[39mmodel_transform,\n\u001b[1;32m    144\u001b[0m     invert\u001b[38;5;241m=\u001b[39m\u001b[38;5;28;01mTrue\u001b[39;00m\n\u001b[1;32m    145\u001b[0m )\n",
      "File \u001b[0;32m~/miniconda3/lib/python3.12/site-packages/geopandas/base.py:1219\u001b[0m, in \u001b[0;36mGeoPandasBase.unary_union\u001b[0;34m(self)\u001b[0m\n\u001b[1;32m   1200\u001b[0m \u001b[38;5;129m@property\u001b[39m\n\u001b[1;32m   1201\u001b[0m \u001b[38;5;28;01mdef\u001b[39;00m \u001b[38;5;21munary_union\u001b[39m(\u001b[38;5;28mself\u001b[39m):\n\u001b[1;32m   1202\u001b[0m \u001b[38;5;250m    \u001b[39m\u001b[38;5;124;03m\"\"\"Returns a geometry containing the union of all geometries in the\u001b[39;00m\n\u001b[1;32m   1203\u001b[0m \u001b[38;5;124;03m    ``GeoSeries``.\u001b[39;00m\n\u001b[1;32m   1204\u001b[0m \n\u001b[0;32m   (...)\u001b[0m\n\u001b[1;32m   1217\u001b[0m \u001b[38;5;124;03m    POLYGON ((0 1, 0 2, 2 2, 2 0, 1 0, 0 0, 0 1))\u001b[39;00m\n\u001b[1;32m   1218\u001b[0m \u001b[38;5;124;03m    \"\"\"\u001b[39;00m\n\u001b[0;32m-> 1219\u001b[0m     \u001b[38;5;28;01mreturn\u001b[39;00m \u001b[38;5;28;43mself\u001b[39;49m\u001b[38;5;241;43m.\u001b[39;49m\u001b[43mgeometry\u001b[49m\u001b[38;5;241;43m.\u001b[39;49m\u001b[43mvalues\u001b[49m\u001b[38;5;241;43m.\u001b[39;49m\u001b[43munary_union\u001b[49m\u001b[43m(\u001b[49m\u001b[43m)\u001b[49m\n",
      "File \u001b[0;32m~/miniconda3/lib/python3.12/site-packages/geopandas/array.py:743\u001b[0m, in \u001b[0;36mGeometryArray.unary_union\u001b[0;34m(self)\u001b[0m\n\u001b[1;32m    742\u001b[0m \u001b[38;5;28;01mdef\u001b[39;00m \u001b[38;5;21munary_union\u001b[39m(\u001b[38;5;28mself\u001b[39m):\n\u001b[0;32m--> 743\u001b[0m     \u001b[38;5;28;01mreturn\u001b[39;00m \u001b[43mvectorized\u001b[49m\u001b[38;5;241;43m.\u001b[39;49m\u001b[43munary_union\u001b[49m\u001b[43m(\u001b[49m\u001b[38;5;28;43mself\u001b[39;49m\u001b[38;5;241;43m.\u001b[39;49m\u001b[43m_data\u001b[49m\u001b[43m)\u001b[49m\n",
      "File \u001b[0;32m~/miniconda3/lib/python3.12/site-packages/geopandas/_vectorized.py:1186\u001b[0m, in \u001b[0;36munary_union\u001b[0;34m(data)\u001b[0m\n\u001b[1;32m   1180\u001b[0m warning_msg \u001b[38;5;241m=\u001b[39m (\n\u001b[1;32m   1181\u001b[0m     \u001b[38;5;124m\"\u001b[39m\u001b[38;5;124m`unary_union` returned None due to all-None GeoSeries. In future, \u001b[39m\u001b[38;5;124m\"\u001b[39m\n\u001b[1;32m   1182\u001b[0m     \u001b[38;5;124m\"\u001b[39m\u001b[38;5;124m`unary_union` will return \u001b[39m\u001b[38;5;124m'\u001b[39m\u001b[38;5;124mGEOMETRYCOLLECTION EMPTY\u001b[39m\u001b[38;5;124m'\u001b[39m\u001b[38;5;124m instead.\u001b[39m\u001b[38;5;124m\"\u001b[39m\n\u001b[1;32m   1183\u001b[0m )\n\u001b[1;32m   1185\u001b[0m \u001b[38;5;28;01mif\u001b[39;00m compat\u001b[38;5;241m.\u001b[39mUSE_SHAPELY_20:\n\u001b[0;32m-> 1186\u001b[0m     data \u001b[38;5;241m=\u001b[39m \u001b[43mshapely\u001b[49m\u001b[38;5;241;43m.\u001b[39;49m\u001b[43munion_all\u001b[49m\u001b[43m(\u001b[49m\u001b[43mdata\u001b[49m\u001b[43m)\u001b[49m\n\u001b[1;32m   1187\u001b[0m     \u001b[38;5;28;01mif\u001b[39;00m data \u001b[38;5;129;01mis\u001b[39;00m \u001b[38;5;28;01mNone\u001b[39;00m \u001b[38;5;129;01mor\u001b[39;00m data\u001b[38;5;241m.\u001b[39mis_empty:  \u001b[38;5;66;03m# shapely 2.0a1 and 2.0\u001b[39;00m\n\u001b[1;32m   1188\u001b[0m         warnings\u001b[38;5;241m.\u001b[39mwarn(\n\u001b[1;32m   1189\u001b[0m             warning_msg,\n\u001b[1;32m   1190\u001b[0m             \u001b[38;5;167;01mFutureWarning\u001b[39;00m,\n\u001b[1;32m   1191\u001b[0m             stacklevel\u001b[38;5;241m=\u001b[39m\u001b[38;5;241m4\u001b[39m,\n\u001b[1;32m   1192\u001b[0m         )\n",
      "File \u001b[0;32m~/miniconda3/lib/python3.12/site-packages/shapely/decorators.py:77\u001b[0m, in \u001b[0;36mmultithreading_enabled.<locals>.wrapped\u001b[0;34m(*args, **kwargs)\u001b[0m\n\u001b[1;32m     75\u001b[0m     \u001b[38;5;28;01mfor\u001b[39;00m arr \u001b[38;5;129;01min\u001b[39;00m array_args:\n\u001b[1;32m     76\u001b[0m         arr\u001b[38;5;241m.\u001b[39mflags\u001b[38;5;241m.\u001b[39mwriteable \u001b[38;5;241m=\u001b[39m \u001b[38;5;28;01mFalse\u001b[39;00m\n\u001b[0;32m---> 77\u001b[0m     \u001b[38;5;28;01mreturn\u001b[39;00m \u001b[43mfunc\u001b[49m\u001b[43m(\u001b[49m\u001b[38;5;241;43m*\u001b[39;49m\u001b[43margs\u001b[49m\u001b[43m,\u001b[49m\u001b[43m \u001b[49m\u001b[38;5;241;43m*\u001b[39;49m\u001b[38;5;241;43m*\u001b[39;49m\u001b[43mkwargs\u001b[49m\u001b[43m)\u001b[49m\n\u001b[1;32m     78\u001b[0m \u001b[38;5;28;01mfinally\u001b[39;00m:\n\u001b[1;32m     79\u001b[0m     \u001b[38;5;28;01mfor\u001b[39;00m arr, old_flag \u001b[38;5;129;01min\u001b[39;00m \u001b[38;5;28mzip\u001b[39m(array_args, old_flags):\n",
      "File \u001b[0;32m~/miniconda3/lib/python3.12/site-packages/shapely/set_operations.py:419\u001b[0m, in \u001b[0;36munion_all\u001b[0;34m(geometries, grid_size, axis, **kwargs)\u001b[0m\n\u001b[1;32m    415\u001b[0m         \u001b[38;5;28;01mraise\u001b[39;00m \u001b[38;5;167;01mValueError\u001b[39;00m(\u001b[38;5;124m\"\u001b[39m\u001b[38;5;124mgrid_size parameter only accepts scalar values\u001b[39m\u001b[38;5;124m\"\u001b[39m)\n\u001b[1;32m    417\u001b[0m     \u001b[38;5;28;01mreturn\u001b[39;00m lib\u001b[38;5;241m.\u001b[39munary_union_prec(collections, grid_size, \u001b[38;5;241m*\u001b[39m\u001b[38;5;241m*\u001b[39mkwargs)\n\u001b[0;32m--> 419\u001b[0m \u001b[38;5;28;01mreturn\u001b[39;00m \u001b[43mlib\u001b[49m\u001b[38;5;241;43m.\u001b[39;49m\u001b[43munary_union\u001b[49m\u001b[43m(\u001b[49m\u001b[43mcollections\u001b[49m\u001b[43m,\u001b[49m\u001b[43m \u001b[49m\u001b[38;5;241;43m*\u001b[39;49m\u001b[38;5;241;43m*\u001b[39;49m\u001b[43mkwargs\u001b[49m\u001b[43m)\u001b[49m\n",
      "\u001b[0;31mKeyboardInterrupt\u001b[0m: "
     ]
    }
   ],
   "source": [
    "import geopandas as gpd\n",
    "import rasterio\n",
    "import os\n",
    "import numpy as np\n",
    "from rasterio import features\n",
    "from rasterio.features import geometry_mask\n",
    "\n",
    "# Define the paths to your shapefile and TIFF directory\n",
    "shp_file = \"/home/karim/WaPOR/data/algeria/segmentation/24tiles/V3/SNIC_30000_V2.shp\"\n",
    "tif_directory = \"/home/karim/WaPOR/data/algeria/outputs/PHENOL/\"\n",
    "output_file = \"/home/karim/WaPOR/data/algeria/outputs/cumul/segments_eta_season1_2019.tif\"\n",
    "\n",
    "# Years of the Growing Season:\n",
    "ny1, ny2, ny3 = 18, 19, 20\n",
    "\n",
    "# Load the shapefile\n",
    "gdf = gpd.read_file(shp_file)\n",
    "array_length = gdf.shape[0]\n",
    "\n",
    "# Preallocate arrays\n",
    "start_array = np.full(array_length, np.nan, dtype=int)\n",
    "end_array = np.full(array_length, np.nan, dtype=int)\n",
    "eta_all = np.full(array_length, -99., dtype=float)\n",
    "\n",
    "# Open the model GeoTIFF to get its projection and resolution\n",
    "model = \"/home/karim/WaPOR/data/algeria/segmentation/24tiles/V3/SNIC_30000_V2.tif\"\n",
    "with rasterio.open(model) as model_ds:\n",
    "    model_crs = model_ds.crs\n",
    "    model_transform = model_ds.transform\n",
    "    model_width = model_ds.width\n",
    "    model_height = model_ds.height\n",
    "\n",
    "# Open the output GeoTIFF file for writing\n",
    "accumulated_values = np.zeros((model_height, model_width), dtype='float32')\n",
    "def get_month_and_dekade(k):\n",
    "    # Ensure k is within the valid range\n",
    "    if k < 1 or k > 36:\n",
    "        if k == 0:\n",
    "            return '00', 'D0'\n",
    "        else:\n",
    "            raise ValueError(\"k must be between 1 and 36\")\n",
    "    # Calculate the month and dekade\n",
    "    month_index = (k - 1) // 3\n",
    "    dekade = (k - 1) % 3 + 1\n",
    "    # Convert month_index to a month number (1-based)\n",
    "    month = month_index + 1\n",
    "    # Format month as a two-digit string\n",
    "    month_str = f\"{month:02d}\"\n",
    "    dd='D' + str(dekade)\n",
    "\n",
    "    return month_str, dd\n",
    "\n",
    "# Iterate over the shapefile features\n",
    "for idx, row in gdf.iterrows():\n",
    "    segment_id = row['DN']\n",
    "\n",
    "    # Check if the TIFF files exist\n",
    "    tif_file_path = os.path.join(tif_directory, f\"start_final_season_2019.tif\")\n",
    "    tif_file_path2 = os.path.join(tif_directory, f\"end_final_season_2019.tif\")\n",
    "\n",
    "    with rasterio.open(tif_file_path) as src1, rasterio.open(tif_file_path2) as src2:\n",
    "        geom = row['geometry']\n",
    "\n",
    "        # Create a mask for the segment\n",
    "        mask = features.geometry_mask([geom], out_shape=src1.shape, transform=src1.transform, invert=True)\n",
    "\n",
    "        # Read the values from the TIFF file using the mask\n",
    "        values1 = src1.read(1, masked=True)\n",
    "        values2 = src2.read(1, masked=True)\n",
    "\n",
    "        segment_values1 = values1[mask]\n",
    "        segment_values2 = values2[mask]\n",
    "\n",
    "        # Check if segment_values1 has a size greater than 0 before accessing its elements\n",
    "        if len(segment_values1) > 0:\n",
    "            start_array[idx] = np.asarray(segment_values1[0])\n",
    "        else:\n",
    "            start_array[idx] = 0\n",
    "\n",
    "        # Check if segment_values2 has a size greater than 0 before accessing its elements\n",
    "        if len(segment_values2) > 0:\n",
    "            end_array[idx] = np.asarray(segment_values2[0])\n",
    "        else:\n",
    "            end_array[idx] = 0\n",
    "\n",
    "        # Process ETA data\n",
    "        eta = np.zeros(mask.sum(), dtype=float)  # Initialize eta with the correct shape\n",
    "        nmfic = []\n",
    "        nmyy = []\n",
    "\n",
    "        n1 = start_array[idx]\n",
    "        n2 = end_array[idx]\n",
    "        if n1 < 0. and n2 < 0.:\n",
    "            n1 = 0\n",
    "            n2 = 0\n",
    "            start_array[idx] = 0\n",
    "            end_array[idx]   = 0\n",
    "\n",
    "        for i in range(n1, n2 + 1):\n",
    "            if i < 37:\n",
    "                ssy, k = str(ny1).zfill(2), i - 0\n",
    "            elif 36 < i < 73:\n",
    "                ssy, k = str(ny2).zfill(2), i - 36\n",
    "            elif 72 < i < 109:\n",
    "                ssy, k = str(ny3).zfill(2), i - 72\n",
    "            else:\n",
    "                k, ssy = 0, str(0).zfill(2)\n",
    "            newssy = '20' + ssy\n",
    "            #print('k = ',k, ' i ',i, 'n1 = ',n1,' n2 = ',n2)\n",
    "            newmm, newD = get_month_and_dekade(k)\n",
    "            titr=newssy + '-' + newmm + '-' + newD\n",
    "            \n",
    "            nmfic.append(f\"{titr}\")\n",
    "            nmyy.append(newssy)\n",
    "\n",
    "        if len(nmfic) > 1 and k > 0:\n",
    "            for j in range(len(nmfic)):\n",
    "                input_raw_file = f'/home/karim/WaPOR/data/algeria/outputs/AET_dekad/WAPOR-3.L3-AETI-D.MIT.{nmfic[j]}.tif'\n",
    "                with rasterio.open(input_raw_file) as src:\n",
    "                    values1 = src.read(1, masked=True)\n",
    "\n",
    "                    # Check if the shapes are compatible\n",
    "                    if values1[mask].shape == eta.shape:\n",
    "                        eta += values1[mask]\n",
    "                    else:\n",
    "                        # Handle the case where shapes are not compatible (adjust as needed)\n",
    "                        print(f\"Shapes are not compatible for segment {segment_id}\")\n",
    "\n",
    "            if eta.shape[0] > 0 and not np.isnan(eta[0]):\n",
    "                eta_all[idx] = float(eta[0])\n",
    "                print('Total ETA For This Segment ', idx, ' = ', eta_all[idx])\n",
    "            else:\n",
    "                eta_all[idx] = -99.\n",
    "                print('          ', 'No season for this segment ! ', idx)\n",
    "\n",
    "    # Process accumulated values\n",
    "    segment_gdf = gdf[gdf['DN'] == segment_id]\n",
    "    segment_geometry = segment_gdf.unary_union\n",
    "    segment_shapes = [(segment_geometry, 1)]\n",
    "    segment_mask = features.geometry_mask(\n",
    "        segment_shapes,\n",
    "        out_shape=(model_height, model_width),\n",
    "        transform=model_transform,\n",
    "        invert=True\n",
    "    )\n",
    "    accumulated_values += segment_mask * np.nan_to_num(eta_all[idx], nan=-99.)\n",
    "\n",
    "# Open the output GeoTIFF file for writing\n",
    "with rasterio.open(output_file, 'w', driver='GTiff', height=model_height, width=model_width, count=1,\n",
    "                   dtype='float32', crs=model_crs, transform=model_transform) as dst:\n",
    "    dst.write(accumulated_values, 1)\n",
    "\n",
    "print(f\"Saved segments with values to {output_file}\")"
   ]
  },
  {
   "cell_type": "code",
   "execution_count": null,
   "id": "04a6ba13-be0f-4a0f-9549-3aa64e401b10",
   "metadata": {},
   "outputs": [],
   "source": []
  }
 ],
 "metadata": {
  "kernelspec": {
   "display_name": "Python 3 (ipykernel)",
   "language": "python",
   "name": "python3"
  },
  "language_info": {
   "codemirror_mode": {
    "name": "ipython",
    "version": 3
   },
   "file_extension": ".py",
   "mimetype": "text/x-python",
   "name": "python",
   "nbconvert_exporter": "python",
   "pygments_lexer": "ipython3",
   "version": "3.12.2"
  }
 },
 "nbformat": 4,
 "nbformat_minor": 5
}
