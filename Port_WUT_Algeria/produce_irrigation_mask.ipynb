{
 "cells": [
  {
   "cell_type": "code",
   "execution_count": 6,
   "id": "f197675e-656b-4e2d-b91b-a1c3b6c4bdcc",
   "metadata": {},
   "outputs": [],
   "source": [
    "import numpy as np\n",
    "import rasterio\n",
    "\n",
    "nfic1 = \"/home/karim/WaPOR/data/algeria/outputs/cumul/segments_rainfall_season1_2019_masked.tif\"\n",
    "nfic2 = \"/home/karim/WaPOR/data/algeria/outputs/cumul/segments_eta_season1_2019_masked.tif\"\n",
    "# Define output file path\n",
    "output_mask_file = \"/home/karim/WaPOR/data/algeria/outputs/mask/mask_irrig_season1_2019.tif\"\n",
    "\n",
    "# Open the nfic1\n",
    "with rasterio.open(nfic1) as src_segments:\n",
    "    # Read the segments data\n",
    "    nfic1_data = src_segments.read(1)\n",
    "\n",
    "# Open the nfic2\n",
    "with rasterio.open(nfic2) as src_segments:\n",
    "    # Read the segments data\n",
    "    nfic2_data = src_segments.read(1)\n",
    "\n",
    "# Create the mask where nfic2_data >= nfic1_data\n",
    "#mask = np.where(nfic2_data < 0.75*nfic1_data, 0, 1)\n",
    "# Create the mask with the condition and also check for no-data values\n",
    "mask = np.where(\n",
    "    (nfic2_data == nodata_value) | (nfic1_data == nodata_value),  # Check for no-data in either file\n",
    "    0,  # Assign 0 for no-data areas\n",
    "    np.where(nfic2_data >= 0.75 * nfic1_data, 1, 0)  # Apply your main condition\n",
    ")\n",
    "\n",
    "# Get metadata from nfic1 or nfic2, assuming they have the same metadata\n",
    "with rasterio.open(nfic2) as src:\n",
    "    profile = src.profile\n",
    "\n",
    "# Update metadata for the output file\n",
    "profile.update(\n",
    "    dtype=rasterio.uint8,  # Update data type to uint8 since the mask contains 0s and 1s\n",
    "    count=1  # Update number of bands to 1\n",
    ")\n",
    "\n",
    "# Create the output file\n",
    "with rasterio.open(output_mask_file, 'w', **profile) as dst:\n",
    "    # Write the mask data to the output file\n",
    "    dst.write(mask, 1)\n"
   ]
  }
 ],
 "metadata": {
  "kernelspec": {
   "display_name": "Python 3 (ipykernel)",
   "language": "python",
   "name": "python3"
  },
  "language_info": {
   "codemirror_mode": {
    "name": "ipython",
    "version": 3
   },
   "file_extension": ".py",
   "mimetype": "text/x-python",
   "name": "python",
   "nbconvert_exporter": "python",
   "pygments_lexer": "ipython3",
   "version": "3.12.2"
  }
 },
 "nbformat": 4,
 "nbformat_minor": 5
}
